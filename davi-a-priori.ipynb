{
  "metadata": {
    "colab": {
      "provenance": [],
      "toc_visible": true,
      "machine_shape": "hm",
      "gpuType": "L4"
    },
    "kernelspec": {
      "name": "python3",
      "display_name": "Python 3"
    },
    "language_info": {
      "name": "python",
      "version": "3.10.13",
      "mimetype": "text/x-python",
      "codemirror_mode": {
        "name": "ipython",
        "version": 3
      },
      "pygments_lexer": "ipython3",
      "nbconvert_exporter": "python",
      "file_extension": ".py"
    },
    "kaggle": {
      "accelerator": "none",
      "dataSources": [
        {
          "sourceId": 7791706,
          "sourceType": "datasetVersion",
          "datasetId": 4561002
        },
        {
          "sourceId": 8158511,
          "sourceType": "datasetVersion",
          "datasetId": 4826489
        }
      ],
      "dockerImageVersionId": 30684,
      "isInternetEnabled": true,
      "language": "python",
      "sourceType": "notebook",
      "isGpuEnabled": false
    },
    "accelerator": "GPU",
    "widgets": {
      "application/vnd.jupyter.widget-state+json": {
        "e409c922bf1a49d5aaeec1d36fde46b8": {
          "model_module": "@jupyter-widgets/controls",
          "model_name": "HBoxModel",
          "model_module_version": "1.5.0",
          "state": {
            "_dom_classes": [],
            "_model_module": "@jupyter-widgets/controls",
            "_model_module_version": "1.5.0",
            "_model_name": "HBoxModel",
            "_view_count": null,
            "_view_module": "@jupyter-widgets/controls",
            "_view_module_version": "1.5.0",
            "_view_name": "HBoxView",
            "box_style": "",
            "children": [
              "IPY_MODEL_0de65f21b64a44cb8374d05f5e20b21a",
              "IPY_MODEL_c1edf7df3a7743f2b6592bb4e77e0aaf",
              "IPY_MODEL_ef5262d3726946789eca8841eb00e96e"
            ],
            "layout": "IPY_MODEL_df09808b63f14aa7a874cd6d316ca308"
          }
        },
        "0de65f21b64a44cb8374d05f5e20b21a": {
          "model_module": "@jupyter-widgets/controls",
          "model_name": "HTMLModel",
          "model_module_version": "1.5.0",
          "state": {
            "_dom_classes": [],
            "_model_module": "@jupyter-widgets/controls",
            "_model_module_version": "1.5.0",
            "_model_name": "HTMLModel",
            "_view_count": null,
            "_view_module": "@jupyter-widgets/controls",
            "_view_module_version": "1.5.0",
            "_view_name": "HTMLView",
            "description": "",
            "description_tooltip": null,
            "layout": "IPY_MODEL_d2658856e3c84012a60cf31f0e5057ba",
            "placeholder": "​",
            "style": "IPY_MODEL_9600da00968c48a0aedd07f858138465",
            "value": "model.safetensors: 100%"
          }
        },
        "c1edf7df3a7743f2b6592bb4e77e0aaf": {
          "model_module": "@jupyter-widgets/controls",
          "model_name": "FloatProgressModel",
          "model_module_version": "1.5.0",
          "state": {
            "_dom_classes": [],
            "_model_module": "@jupyter-widgets/controls",
            "_model_module_version": "1.5.0",
            "_model_name": "FloatProgressModel",
            "_view_count": null,
            "_view_module": "@jupyter-widgets/controls",
            "_view_module_version": "1.5.0",
            "_view_name": "ProgressView",
            "bar_style": "success",
            "description": "",
            "description_tooltip": null,
            "layout": "IPY_MODEL_165276a572704ff3b3b852a444a06376",
            "max": 86523256,
            "min": 0,
            "orientation": "horizontal",
            "style": "IPY_MODEL_140adb2905c442a181b4af400d5bf9ba",
            "value": 86523256
          }
        },
        "ef5262d3726946789eca8841eb00e96e": {
          "model_module": "@jupyter-widgets/controls",
          "model_name": "HTMLModel",
          "model_module_version": "1.5.0",
          "state": {
            "_dom_classes": [],
            "_model_module": "@jupyter-widgets/controls",
            "_model_module_version": "1.5.0",
            "_model_name": "HTMLModel",
            "_view_count": null,
            "_view_module": "@jupyter-widgets/controls",
            "_view_module_version": "1.5.0",
            "_view_name": "HTMLView",
            "description": "",
            "description_tooltip": null,
            "layout": "IPY_MODEL_d1696725e4bd41239c905687c80221ee",
            "placeholder": "​",
            "style": "IPY_MODEL_350365873564446baa322179f2f7e4dc",
            "value": " 86.5M/86.5M [00:01&lt;00:00, 97.6MB/s]"
          }
        },
        "df09808b63f14aa7a874cd6d316ca308": {
          "model_module": "@jupyter-widgets/base",
          "model_name": "LayoutModel",
          "model_module_version": "1.2.0",
          "state": {
            "_model_module": "@jupyter-widgets/base",
            "_model_module_version": "1.2.0",
            "_model_name": "LayoutModel",
            "_view_count": null,
            "_view_module": "@jupyter-widgets/base",
            "_view_module_version": "1.2.0",
            "_view_name": "LayoutView",
            "align_content": null,
            "align_items": null,
            "align_self": null,
            "border": null,
            "bottom": null,
            "display": null,
            "flex": null,
            "flex_flow": null,
            "grid_area": null,
            "grid_auto_columns": null,
            "grid_auto_flow": null,
            "grid_auto_rows": null,
            "grid_column": null,
            "grid_gap": null,
            "grid_row": null,
            "grid_template_areas": null,
            "grid_template_columns": null,
            "grid_template_rows": null,
            "height": null,
            "justify_content": null,
            "justify_items": null,
            "left": null,
            "margin": null,
            "max_height": null,
            "max_width": null,
            "min_height": null,
            "min_width": null,
            "object_fit": null,
            "object_position": null,
            "order": null,
            "overflow": null,
            "overflow_x": null,
            "overflow_y": null,
            "padding": null,
            "right": null,
            "top": null,
            "visibility": null,
            "width": null
          }
        },
        "d2658856e3c84012a60cf31f0e5057ba": {
          "model_module": "@jupyter-widgets/base",
          "model_name": "LayoutModel",
          "model_module_version": "1.2.0",
          "state": {
            "_model_module": "@jupyter-widgets/base",
            "_model_module_version": "1.2.0",
            "_model_name": "LayoutModel",
            "_view_count": null,
            "_view_module": "@jupyter-widgets/base",
            "_view_module_version": "1.2.0",
            "_view_name": "LayoutView",
            "align_content": null,
            "align_items": null,
            "align_self": null,
            "border": null,
            "bottom": null,
            "display": null,
            "flex": null,
            "flex_flow": null,
            "grid_area": null,
            "grid_auto_columns": null,
            "grid_auto_flow": null,
            "grid_auto_rows": null,
            "grid_column": null,
            "grid_gap": null,
            "grid_row": null,
            "grid_template_areas": null,
            "grid_template_columns": null,
            "grid_template_rows": null,
            "height": null,
            "justify_content": null,
            "justify_items": null,
            "left": null,
            "margin": null,
            "max_height": null,
            "max_width": null,
            "min_height": null,
            "min_width": null,
            "object_fit": null,
            "object_position": null,
            "order": null,
            "overflow": null,
            "overflow_x": null,
            "overflow_y": null,
            "padding": null,
            "right": null,
            "top": null,
            "visibility": null,
            "width": null
          }
        },
        "9600da00968c48a0aedd07f858138465": {
          "model_module": "@jupyter-widgets/controls",
          "model_name": "DescriptionStyleModel",
          "model_module_version": "1.5.0",
          "state": {
            "_model_module": "@jupyter-widgets/controls",
            "_model_module_version": "1.5.0",
            "_model_name": "DescriptionStyleModel",
            "_view_count": null,
            "_view_module": "@jupyter-widgets/base",
            "_view_module_version": "1.2.0",
            "_view_name": "StyleView",
            "description_width": ""
          }
        },
        "165276a572704ff3b3b852a444a06376": {
          "model_module": "@jupyter-widgets/base",
          "model_name": "LayoutModel",
          "model_module_version": "1.2.0",
          "state": {
            "_model_module": "@jupyter-widgets/base",
            "_model_module_version": "1.2.0",
            "_model_name": "LayoutModel",
            "_view_count": null,
            "_view_module": "@jupyter-widgets/base",
            "_view_module_version": "1.2.0",
            "_view_name": "LayoutView",
            "align_content": null,
            "align_items": null,
            "align_self": null,
            "border": null,
            "bottom": null,
            "display": null,
            "flex": null,
            "flex_flow": null,
            "grid_area": null,
            "grid_auto_columns": null,
            "grid_auto_flow": null,
            "grid_auto_rows": null,
            "grid_column": null,
            "grid_gap": null,
            "grid_row": null,
            "grid_template_areas": null,
            "grid_template_columns": null,
            "grid_template_rows": null,
            "height": null,
            "justify_content": null,
            "justify_items": null,
            "left": null,
            "margin": null,
            "max_height": null,
            "max_width": null,
            "min_height": null,
            "min_width": null,
            "object_fit": null,
            "object_position": null,
            "order": null,
            "overflow": null,
            "overflow_x": null,
            "overflow_y": null,
            "padding": null,
            "right": null,
            "top": null,
            "visibility": null,
            "width": null
          }
        },
        "140adb2905c442a181b4af400d5bf9ba": {
          "model_module": "@jupyter-widgets/controls",
          "model_name": "ProgressStyleModel",
          "model_module_version": "1.5.0",
          "state": {
            "_model_module": "@jupyter-widgets/controls",
            "_model_module_version": "1.5.0",
            "_model_name": "ProgressStyleModel",
            "_view_count": null,
            "_view_module": "@jupyter-widgets/base",
            "_view_module_version": "1.2.0",
            "_view_name": "StyleView",
            "bar_color": null,
            "description_width": ""
          }
        },
        "d1696725e4bd41239c905687c80221ee": {
          "model_module": "@jupyter-widgets/base",
          "model_name": "LayoutModel",
          "model_module_version": "1.2.0",
          "state": {
            "_model_module": "@jupyter-widgets/base",
            "_model_module_version": "1.2.0",
            "_model_name": "LayoutModel",
            "_view_count": null,
            "_view_module": "@jupyter-widgets/base",
            "_view_module_version": "1.2.0",
            "_view_name": "LayoutView",
            "align_content": null,
            "align_items": null,
            "align_self": null,
            "border": null,
            "bottom": null,
            "display": null,
            "flex": null,
            "flex_flow": null,
            "grid_area": null,
            "grid_auto_columns": null,
            "grid_auto_flow": null,
            "grid_auto_rows": null,
            "grid_column": null,
            "grid_gap": null,
            "grid_row": null,
            "grid_template_areas": null,
            "grid_template_columns": null,
            "grid_template_rows": null,
            "height": null,
            "justify_content": null,
            "justify_items": null,
            "left": null,
            "margin": null,
            "max_height": null,
            "max_width": null,
            "min_height": null,
            "min_width": null,
            "object_fit": null,
            "object_position": null,
            "order": null,
            "overflow": null,
            "overflow_x": null,
            "overflow_y": null,
            "padding": null,
            "right": null,
            "top": null,
            "visibility": null,
            "width": null
          }
        },
        "350365873564446baa322179f2f7e4dc": {
          "model_module": "@jupyter-widgets/controls",
          "model_name": "DescriptionStyleModel",
          "model_module_version": "1.5.0",
          "state": {
            "_model_module": "@jupyter-widgets/controls",
            "_model_module_version": "1.5.0",
            "_model_name": "DescriptionStyleModel",
            "_view_count": null,
            "_view_module": "@jupyter-widgets/base",
            "_view_module_version": "1.2.0",
            "_view_name": "StyleView",
            "description_width": ""
          }
        }
      }
    }
  },
  "nbformat_minor": 0,
  "nbformat": 4,
  "cells": [
    {
      "cell_type": "markdown",
      "source": [],
      "metadata": {
        "id": "8AdJNlb5UaL1"
      }
    },
    {
      "cell_type": "code",
      "source": [
        "from google.colab import drive\n",
        "drive.mount('/content/drive')"
      ],
      "metadata": {
        "colab": {
          "base_uri": "https://localhost:8080/"
        },
        "id": "ezk4Liz7Uiyc",
        "outputId": "0f142b5a-1568-4830-fa7d-9bc1af2e607f"
      },
      "execution_count": 1,
      "outputs": [
        {
          "output_type": "stream",
          "name": "stdout",
          "text": [
            "Mounted at /content/drive\n"
          ]
        }
      ]
    },
    {
      "cell_type": "code",
      "source": [
        "from google.colab import files\n",
        "files.upload()"
      ],
      "metadata": {
        "colab": {
          "base_uri": "https://localhost:8080/",
          "height": 91
        },
        "id": "kYai_3DtUY3M",
        "outputId": "f3b9891f-a605-4194-b8b9-c474d9726062"
      },
      "execution_count": 2,
      "outputs": [
        {
          "output_type": "display_data",
          "data": {
            "text/plain": [
              "<IPython.core.display.HTML object>"
            ],
            "text/html": [
              "\n",
              "     <input type=\"file\" id=\"files-7d6fbfe5-4f6a-4e01-887d-11153ffe840c\" name=\"files[]\" multiple disabled\n",
              "        style=\"border:none\" />\n",
              "     <output id=\"result-7d6fbfe5-4f6a-4e01-887d-11153ffe840c\">\n",
              "      Upload widget is only available when the cell has been executed in the\n",
              "      current browser session. Please rerun this cell to enable.\n",
              "      </output>\n",
              "      <script>// Copyright 2017 Google LLC\n",
              "//\n",
              "// Licensed under the Apache License, Version 2.0 (the \"License\");\n",
              "// you may not use this file except in compliance with the License.\n",
              "// You may obtain a copy of the License at\n",
              "//\n",
              "//      http://www.apache.org/licenses/LICENSE-2.0\n",
              "//\n",
              "// Unless required by applicable law or agreed to in writing, software\n",
              "// distributed under the License is distributed on an \"AS IS\" BASIS,\n",
              "// WITHOUT WARRANTIES OR CONDITIONS OF ANY KIND, either express or implied.\n",
              "// See the License for the specific language governing permissions and\n",
              "// limitations under the License.\n",
              "\n",
              "/**\n",
              " * @fileoverview Helpers for google.colab Python module.\n",
              " */\n",
              "(function(scope) {\n",
              "function span(text, styleAttributes = {}) {\n",
              "  const element = document.createElement('span');\n",
              "  element.textContent = text;\n",
              "  for (const key of Object.keys(styleAttributes)) {\n",
              "    element.style[key] = styleAttributes[key];\n",
              "  }\n",
              "  return element;\n",
              "}\n",
              "\n",
              "// Max number of bytes which will be uploaded at a time.\n",
              "const MAX_PAYLOAD_SIZE = 100 * 1024;\n",
              "\n",
              "function _uploadFiles(inputId, outputId) {\n",
              "  const steps = uploadFilesStep(inputId, outputId);\n",
              "  const outputElement = document.getElementById(outputId);\n",
              "  // Cache steps on the outputElement to make it available for the next call\n",
              "  // to uploadFilesContinue from Python.\n",
              "  outputElement.steps = steps;\n",
              "\n",
              "  return _uploadFilesContinue(outputId);\n",
              "}\n",
              "\n",
              "// This is roughly an async generator (not supported in the browser yet),\n",
              "// where there are multiple asynchronous steps and the Python side is going\n",
              "// to poll for completion of each step.\n",
              "// This uses a Promise to block the python side on completion of each step,\n",
              "// then passes the result of the previous step as the input to the next step.\n",
              "function _uploadFilesContinue(outputId) {\n",
              "  const outputElement = document.getElementById(outputId);\n",
              "  const steps = outputElement.steps;\n",
              "\n",
              "  const next = steps.next(outputElement.lastPromiseValue);\n",
              "  return Promise.resolve(next.value.promise).then((value) => {\n",
              "    // Cache the last promise value to make it available to the next\n",
              "    // step of the generator.\n",
              "    outputElement.lastPromiseValue = value;\n",
              "    return next.value.response;\n",
              "  });\n",
              "}\n",
              "\n",
              "/**\n",
              " * Generator function which is called between each async step of the upload\n",
              " * process.\n",
              " * @param {string} inputId Element ID of the input file picker element.\n",
              " * @param {string} outputId Element ID of the output display.\n",
              " * @return {!Iterable<!Object>} Iterable of next steps.\n",
              " */\n",
              "function* uploadFilesStep(inputId, outputId) {\n",
              "  const inputElement = document.getElementById(inputId);\n",
              "  inputElement.disabled = false;\n",
              "\n",
              "  const outputElement = document.getElementById(outputId);\n",
              "  outputElement.innerHTML = '';\n",
              "\n",
              "  const pickedPromise = new Promise((resolve) => {\n",
              "    inputElement.addEventListener('change', (e) => {\n",
              "      resolve(e.target.files);\n",
              "    });\n",
              "  });\n",
              "\n",
              "  const cancel = document.createElement('button');\n",
              "  inputElement.parentElement.appendChild(cancel);\n",
              "  cancel.textContent = 'Cancel upload';\n",
              "  const cancelPromise = new Promise((resolve) => {\n",
              "    cancel.onclick = () => {\n",
              "      resolve(null);\n",
              "    };\n",
              "  });\n",
              "\n",
              "  // Wait for the user to pick the files.\n",
              "  const files = yield {\n",
              "    promise: Promise.race([pickedPromise, cancelPromise]),\n",
              "    response: {\n",
              "      action: 'starting',\n",
              "    }\n",
              "  };\n",
              "\n",
              "  cancel.remove();\n",
              "\n",
              "  // Disable the input element since further picks are not allowed.\n",
              "  inputElement.disabled = true;\n",
              "\n",
              "  if (!files) {\n",
              "    return {\n",
              "      response: {\n",
              "        action: 'complete',\n",
              "      }\n",
              "    };\n",
              "  }\n",
              "\n",
              "  for (const file of files) {\n",
              "    const li = document.createElement('li');\n",
              "    li.append(span(file.name, {fontWeight: 'bold'}));\n",
              "    li.append(span(\n",
              "        `(${file.type || 'n/a'}) - ${file.size} bytes, ` +\n",
              "        `last modified: ${\n",
              "            file.lastModifiedDate ? file.lastModifiedDate.toLocaleDateString() :\n",
              "                                    'n/a'} - `));\n",
              "    const percent = span('0% done');\n",
              "    li.appendChild(percent);\n",
              "\n",
              "    outputElement.appendChild(li);\n",
              "\n",
              "    const fileDataPromise = new Promise((resolve) => {\n",
              "      const reader = new FileReader();\n",
              "      reader.onload = (e) => {\n",
              "        resolve(e.target.result);\n",
              "      };\n",
              "      reader.readAsArrayBuffer(file);\n",
              "    });\n",
              "    // Wait for the data to be ready.\n",
              "    let fileData = yield {\n",
              "      promise: fileDataPromise,\n",
              "      response: {\n",
              "        action: 'continue',\n",
              "      }\n",
              "    };\n",
              "\n",
              "    // Use a chunked sending to avoid message size limits. See b/62115660.\n",
              "    let position = 0;\n",
              "    do {\n",
              "      const length = Math.min(fileData.byteLength - position, MAX_PAYLOAD_SIZE);\n",
              "      const chunk = new Uint8Array(fileData, position, length);\n",
              "      position += length;\n",
              "\n",
              "      const base64 = btoa(String.fromCharCode.apply(null, chunk));\n",
              "      yield {\n",
              "        response: {\n",
              "          action: 'append',\n",
              "          file: file.name,\n",
              "          data: base64,\n",
              "        },\n",
              "      };\n",
              "\n",
              "      let percentDone = fileData.byteLength === 0 ?\n",
              "          100 :\n",
              "          Math.round((position / fileData.byteLength) * 100);\n",
              "      percent.textContent = `${percentDone}% done`;\n",
              "\n",
              "    } while (position < fileData.byteLength);\n",
              "  }\n",
              "\n",
              "  // All done.\n",
              "  yield {\n",
              "    response: {\n",
              "      action: 'complete',\n",
              "    }\n",
              "  };\n",
              "}\n",
              "\n",
              "scope.google = scope.google || {};\n",
              "scope.google.colab = scope.google.colab || {};\n",
              "scope.google.colab._files = {\n",
              "  _uploadFiles,\n",
              "  _uploadFilesContinue,\n",
              "};\n",
              "})(self);\n",
              "</script> "
            ]
          },
          "metadata": {}
        },
        {
          "output_type": "stream",
          "name": "stdout",
          "text": [
            "Saving kaggle.json to kaggle.json\n"
          ]
        },
        {
          "output_type": "execute_result",
          "data": {
            "text/plain": [
              "{'kaggle.json': b'{\"username\":\"andcrls\",\"key\":\"6985523622f8834aceff3648d70de82f\"}'}"
            ]
          },
          "metadata": {},
          "execution_count": 2
        }
      ]
    },
    {
      "cell_type": "code",
      "source": [
        "!pip install -q kaggle\n",
        "!mkdir -p ~/.kaggle\n",
        "!cp kaggle.json ~/.kaggle/\n",
        "!chmod 600 ~/.kaggle/kaggle.json"
      ],
      "metadata": {
        "id": "GBulmrRbUd7U"
      },
      "execution_count": 3,
      "outputs": []
    },
    {
      "cell_type": "code",
      "source": [
        "!kaggle datasets download -d mexwell/crop-diseases-classification -p  /content/drive/MyDrive/Davi/Datasetcrop"
      ],
      "metadata": {
        "colab": {
          "base_uri": "https://localhost:8080/"
        },
        "id": "U8fDEkrPUghV",
        "outputId": "059adc60-b3bd-4d60-b9e6-0a2a1fbf50b0"
      },
      "execution_count": 6,
      "outputs": [
        {
          "output_type": "stream",
          "name": "stdout",
          "text": [
            "Dataset URL: https://www.kaggle.com/datasets/mexwell/crop-diseases-classification\n",
            "License(s): other\n",
            "Downloading crop-diseases-classification.zip to /content/drive/MyDrive/Davi/Datasetcrop\n",
            "100% 1.99G/2.00G [00:32<00:00, 57.5MB/s]\n",
            "100% 2.00G/2.00G [00:32<00:00, 65.1MB/s]\n"
          ]
        }
      ]
    },
    {
      "cell_type": "code",
      "source": [
        "import zipfile\n",
        "import os\n",
        "\n",
        "zip_path = '/content/drive/MyDrive/Davi/Datasetcrop/crop-diseases-classification.zip'\n",
        "with zipfile.ZipFile(zip_path, 'r') as zip_ref:\n",
        "    zip_ref.extractall('/content/drive/MyDrive/Davi/Datasetcrop/')\n",
        "os.remove(zip_path)"
      ],
      "metadata": {
        "id": "ec621iFFUiUb"
      },
      "execution_count": 7,
      "outputs": []
    },
    {
      "cell_type": "markdown",
      "source": [
        "# Overview"
      ],
      "metadata": {
        "id": "I8FMobmaUTNS"
      }
    },
    {
      "cell_type": "markdown",
      "source": [
        "## Dataset\n",
        "Será utilizado este [dataset](https://www.kaggle.com/datasets/mexwell/crop-diseases-classification) para trabalhar com um problema de classificação multiclasses"
      ],
      "metadata": {
        "id": "lVizlVCdUTNU"
      }
    },
    {
      "cell_type": "markdown",
      "source": [
        "# Imports"
      ],
      "metadata": {
        "_uuid": "831400be-239b-4e98-966f-82cba9a563f3",
        "_cell_guid": "f3124331-83f6-400c-b4b8-c74d342c82e6",
        "id": "oFHwY-6fVqAf",
        "trusted": true
      }
    },
    {
      "cell_type": "markdown",
      "source": [
        "- Importando as bibliotecas necessárias:\n",
        "    - `pandas` é importado para manipulação de dados.\n",
        "    - `matplotlib.pyplot` é importado para visualização de dados.\n",
        "    - `seaborn` é importado para visualização estatística de dados.\n",
        "    - `train_test_split` é importado de `sklearn.model_selection` para dividir os dados em conjuntos de treinamento e teste."
      ],
      "metadata": {
        "_uuid": "76f27886-4c23-4392-9c29-86515bc04c5a",
        "_cell_guid": "d36c55cb-3b8c-45e2-a819-03ea6467d91c",
        "trusted": true,
        "id": "DASOl1XhUTNV"
      }
    },
    {
      "cell_type": "code",
      "source": [
        "import pandas as pd\n",
        "import matplotlib.pyplot as plt\n",
        "import seaborn as sns\n",
        "from sklearn.model_selection import train_test_split\n",
        "import torch\n",
        "from torchvision import transforms\n",
        "import random\n",
        "import os\n",
        "import pandas as pd\n",
        "import numpy as np\n",
        "import os\n",
        "from PIL import Image\n",
        "from keras.preprocessing.image import ImageDataGenerator\n",
        "from tqdm import tqdm"
      ],
      "metadata": {
        "_uuid": "a66e6380-5cc2-458f-82b3-086a2f55b391",
        "_cell_guid": "254e3576-b17f-4c97-815e-9537dbe4a1da",
        "id": "rWs4S6f-VrVz",
        "jupyter": {
          "outputs_hidden": false
        },
        "execution": {
          "iopub.status.busy": "2024-05-02T16:57:06.487730Z",
          "iopub.execute_input": "2024-05-02T16:57:06.488425Z",
          "iopub.status.idle": "2024-05-02T16:57:17.408619Z",
          "shell.execute_reply.started": "2024-05-02T16:57:06.488378Z",
          "shell.execute_reply": "2024-05-02T16:57:17.407271Z"
        },
        "trusted": true
      },
      "execution_count": 1,
      "outputs": []
    },
    {
      "cell_type": "markdown",
      "source": [
        "# Análise exploratória de dados"
      ],
      "metadata": {
        "_uuid": "606b3070-bd00-410a-9299-4b83c35b8117",
        "_cell_guid": "6df0fb68-400f-48df-a7fb-7886b3bf6e6c",
        "id": "dwtfyQFlVrgt",
        "trusted": true
      }
    },
    {
      "cell_type": "markdown",
      "source": [
        "Antes de definir o que iremos fazer sobre os dados, será feito uma análise exploratória inicial. Para isso, vamos entender melhor os dados.\n",
        "- Carregando os dados:\n",
        "    - `pd.read_csv()` é usado para ler o arquivo CSV que contém os dados.\n",
        "    - O caminho para o arquivo CSV é \"/kaggle/input/crop-diseases-classification/Data/train.csv\".\n",
        "    - Os dados são armazenados em um DataFrame chamado `dsDiseases`."
      ],
      "metadata": {
        "_uuid": "bd026cd2-e2d4-4648-a2c2-b7878f4d8c94",
        "_cell_guid": "cb8eb198-2ae8-4515-b774-a69e2b1e7cd2",
        "trusted": true,
        "id": "mJdqI4bxUTNY"
      }
    },
    {
      "cell_type": "code",
      "source": [
        "dsDiseases = pd.read_csv(\"/content/drive/MyDrive/Davi/Datasetcrop/Data/train.csv\")"
      ],
      "metadata": {
        "_uuid": "29aa1bf3-22e9-4da4-8764-252a33a13dd2",
        "_cell_guid": "8845e1cb-089b-4313-aca7-60f671f93fdc",
        "jupyter": {
          "outputs_hidden": false
        },
        "execution": {
          "iopub.status.busy": "2024-05-02T17:54:59.205872Z",
          "iopub.execute_input": "2024-05-02T17:54:59.207839Z",
          "iopub.status.idle": "2024-05-02T17:54:59.243828Z",
          "shell.execute_reply.started": "2024-05-02T17:54:59.207794Z",
          "shell.execute_reply": "2024-05-02T17:54:59.242289Z"
        },
        "trusted": true,
        "id": "HmZaoVYPUTNY"
      },
      "execution_count": 3,
      "outputs": []
    },
    {
      "cell_type": "code",
      "source": [
        "dir0='/content/drive/MyDrive/Davi/Datasetcrop/Data/train_images'\n",
        "\n",
        "class_names=[0,1,2,3,4]\n",
        "image_ids=dsDiseases['image_id'].tolist()\n",
        "dsDiseases['path']=dsDiseases['image_id'].apply(lambda x:os.path.join(dir0,x))\n",
        "display(dsDiseases)\n",
        "print(len(dsDiseases))"
      ],
      "metadata": {
        "execution": {
          "iopub.status.busy": "2024-05-02T18:28:21.754483Z",
          "iopub.execute_input": "2024-05-02T18:28:21.755101Z",
          "iopub.status.idle": "2024-05-02T18:28:21.815999Z",
          "shell.execute_reply.started": "2024-05-02T18:28:21.755060Z",
          "shell.execute_reply": "2024-05-02T18:28:21.814211Z"
        },
        "trusted": true,
        "colab": {
          "base_uri": "https://localhost:8080/",
          "height": 442
        },
        "id": "OB-B12akUTNY",
        "outputId": "203588e8-cab4-405a-a66a-80a7ee9a27ae"
      },
      "execution_count": 4,
      "outputs": [
        {
          "output_type": "display_data",
          "data": {
            "text/plain": [
              "                     image_id  label  \\\n",
              "0               157078263.jpg      3   \n",
              "1              1574893536.jpg      3   \n",
              "2              1575013487.jpg      3   \n",
              "3              1576606254.jpg      0   \n",
              "4              1579761476.jpg      1   \n",
              "...                       ...    ...   \n",
              "19167  1579761476_aug_157.jpg      1   \n",
              "19168  1579761476_aug_158.jpg      1   \n",
              "19169  1579761476_aug_159.jpg      1   \n",
              "19170  1579761476_aug_160.jpg      1   \n",
              "19171  1579761476_aug_161.jpg      1   \n",
              "\n",
              "                                                    path  \n",
              "0      /content/drive/MyDrive/Davi/Datasetcrop/Data/t...  \n",
              "1      /content/drive/MyDrive/Davi/Datasetcrop/Data/t...  \n",
              "2      /content/drive/MyDrive/Davi/Datasetcrop/Data/t...  \n",
              "3      /content/drive/MyDrive/Davi/Datasetcrop/Data/t...  \n",
              "4      /content/drive/MyDrive/Davi/Datasetcrop/Data/t...  \n",
              "...                                                  ...  \n",
              "19167  /content/drive/MyDrive/Davi/Datasetcrop/Data/t...  \n",
              "19168  /content/drive/MyDrive/Davi/Datasetcrop/Data/t...  \n",
              "19169  /content/drive/MyDrive/Davi/Datasetcrop/Data/t...  \n",
              "19170  /content/drive/MyDrive/Davi/Datasetcrop/Data/t...  \n",
              "19171  /content/drive/MyDrive/Davi/Datasetcrop/Data/t...  \n",
              "\n",
              "[19172 rows x 3 columns]"
            ],
            "text/html": [
              "\n",
              "  <div id=\"df-e878be72-8314-4e74-ae7a-50543d1b408b\" class=\"colab-df-container\">\n",
              "    <div>\n",
              "<style scoped>\n",
              "    .dataframe tbody tr th:only-of-type {\n",
              "        vertical-align: middle;\n",
              "    }\n",
              "\n",
              "    .dataframe tbody tr th {\n",
              "        vertical-align: top;\n",
              "    }\n",
              "\n",
              "    .dataframe thead th {\n",
              "        text-align: right;\n",
              "    }\n",
              "</style>\n",
              "<table border=\"1\" class=\"dataframe\">\n",
              "  <thead>\n",
              "    <tr style=\"text-align: right;\">\n",
              "      <th></th>\n",
              "      <th>image_id</th>\n",
              "      <th>label</th>\n",
              "      <th>path</th>\n",
              "    </tr>\n",
              "  </thead>\n",
              "  <tbody>\n",
              "    <tr>\n",
              "      <th>0</th>\n",
              "      <td>157078263.jpg</td>\n",
              "      <td>3</td>\n",
              "      <td>/content/drive/MyDrive/Davi/Datasetcrop/Data/t...</td>\n",
              "    </tr>\n",
              "    <tr>\n",
              "      <th>1</th>\n",
              "      <td>1574893536.jpg</td>\n",
              "      <td>3</td>\n",
              "      <td>/content/drive/MyDrive/Davi/Datasetcrop/Data/t...</td>\n",
              "    </tr>\n",
              "    <tr>\n",
              "      <th>2</th>\n",
              "      <td>1575013487.jpg</td>\n",
              "      <td>3</td>\n",
              "      <td>/content/drive/MyDrive/Davi/Datasetcrop/Data/t...</td>\n",
              "    </tr>\n",
              "    <tr>\n",
              "      <th>3</th>\n",
              "      <td>1576606254.jpg</td>\n",
              "      <td>0</td>\n",
              "      <td>/content/drive/MyDrive/Davi/Datasetcrop/Data/t...</td>\n",
              "    </tr>\n",
              "    <tr>\n",
              "      <th>4</th>\n",
              "      <td>1579761476.jpg</td>\n",
              "      <td>1</td>\n",
              "      <td>/content/drive/MyDrive/Davi/Datasetcrop/Data/t...</td>\n",
              "    </tr>\n",
              "    <tr>\n",
              "      <th>...</th>\n",
              "      <td>...</td>\n",
              "      <td>...</td>\n",
              "      <td>...</td>\n",
              "    </tr>\n",
              "    <tr>\n",
              "      <th>19167</th>\n",
              "      <td>1579761476_aug_157.jpg</td>\n",
              "      <td>1</td>\n",
              "      <td>/content/drive/MyDrive/Davi/Datasetcrop/Data/t...</td>\n",
              "    </tr>\n",
              "    <tr>\n",
              "      <th>19168</th>\n",
              "      <td>1579761476_aug_158.jpg</td>\n",
              "      <td>1</td>\n",
              "      <td>/content/drive/MyDrive/Davi/Datasetcrop/Data/t...</td>\n",
              "    </tr>\n",
              "    <tr>\n",
              "      <th>19169</th>\n",
              "      <td>1579761476_aug_159.jpg</td>\n",
              "      <td>1</td>\n",
              "      <td>/content/drive/MyDrive/Davi/Datasetcrop/Data/t...</td>\n",
              "    </tr>\n",
              "    <tr>\n",
              "      <th>19170</th>\n",
              "      <td>1579761476_aug_160.jpg</td>\n",
              "      <td>1</td>\n",
              "      <td>/content/drive/MyDrive/Davi/Datasetcrop/Data/t...</td>\n",
              "    </tr>\n",
              "    <tr>\n",
              "      <th>19171</th>\n",
              "      <td>1579761476_aug_161.jpg</td>\n",
              "      <td>1</td>\n",
              "      <td>/content/drive/MyDrive/Davi/Datasetcrop/Data/t...</td>\n",
              "    </tr>\n",
              "  </tbody>\n",
              "</table>\n",
              "<p>19172 rows × 3 columns</p>\n",
              "</div>\n",
              "    <div class=\"colab-df-buttons\">\n",
              "\n",
              "  <div class=\"colab-df-container\">\n",
              "    <button class=\"colab-df-convert\" onclick=\"convertToInteractive('df-e878be72-8314-4e74-ae7a-50543d1b408b')\"\n",
              "            title=\"Convert this dataframe to an interactive table.\"\n",
              "            style=\"display:none;\">\n",
              "\n",
              "  <svg xmlns=\"http://www.w3.org/2000/svg\" height=\"24px\" viewBox=\"0 -960 960 960\">\n",
              "    <path d=\"M120-120v-720h720v720H120Zm60-500h600v-160H180v160Zm220 220h160v-160H400v160Zm0 220h160v-160H400v160ZM180-400h160v-160H180v160Zm440 0h160v-160H620v160ZM180-180h160v-160H180v160Zm440 0h160v-160H620v160Z\"/>\n",
              "  </svg>\n",
              "    </button>\n",
              "\n",
              "  <style>\n",
              "    .colab-df-container {\n",
              "      display:flex;\n",
              "      gap: 12px;\n",
              "    }\n",
              "\n",
              "    .colab-df-convert {\n",
              "      background-color: #E8F0FE;\n",
              "      border: none;\n",
              "      border-radius: 50%;\n",
              "      cursor: pointer;\n",
              "      display: none;\n",
              "      fill: #1967D2;\n",
              "      height: 32px;\n",
              "      padding: 0 0 0 0;\n",
              "      width: 32px;\n",
              "    }\n",
              "\n",
              "    .colab-df-convert:hover {\n",
              "      background-color: #E2EBFA;\n",
              "      box-shadow: 0px 1px 2px rgba(60, 64, 67, 0.3), 0px 1px 3px 1px rgba(60, 64, 67, 0.15);\n",
              "      fill: #174EA6;\n",
              "    }\n",
              "\n",
              "    .colab-df-buttons div {\n",
              "      margin-bottom: 4px;\n",
              "    }\n",
              "\n",
              "    [theme=dark] .colab-df-convert {\n",
              "      background-color: #3B4455;\n",
              "      fill: #D2E3FC;\n",
              "    }\n",
              "\n",
              "    [theme=dark] .colab-df-convert:hover {\n",
              "      background-color: #434B5C;\n",
              "      box-shadow: 0px 1px 3px 1px rgba(0, 0, 0, 0.15);\n",
              "      filter: drop-shadow(0px 1px 2px rgba(0, 0, 0, 0.3));\n",
              "      fill: #FFFFFF;\n",
              "    }\n",
              "  </style>\n",
              "\n",
              "    <script>\n",
              "      const buttonEl =\n",
              "        document.querySelector('#df-e878be72-8314-4e74-ae7a-50543d1b408b button.colab-df-convert');\n",
              "      buttonEl.style.display =\n",
              "        google.colab.kernel.accessAllowed ? 'block' : 'none';\n",
              "\n",
              "      async function convertToInteractive(key) {\n",
              "        const element = document.querySelector('#df-e878be72-8314-4e74-ae7a-50543d1b408b');\n",
              "        const dataTable =\n",
              "          await google.colab.kernel.invokeFunction('convertToInteractive',\n",
              "                                                    [key], {});\n",
              "        if (!dataTable) return;\n",
              "\n",
              "        const docLinkHtml = 'Like what you see? Visit the ' +\n",
              "          '<a target=\"_blank\" href=https://colab.research.google.com/notebooks/data_table.ipynb>data table notebook</a>'\n",
              "          + ' to learn more about interactive tables.';\n",
              "        element.innerHTML = '';\n",
              "        dataTable['output_type'] = 'display_data';\n",
              "        await google.colab.output.renderOutput(dataTable, element);\n",
              "        const docLink = document.createElement('div');\n",
              "        docLink.innerHTML = docLinkHtml;\n",
              "        element.appendChild(docLink);\n",
              "      }\n",
              "    </script>\n",
              "  </div>\n",
              "\n",
              "\n",
              "<div id=\"df-8364dd4c-7270-4062-b3d3-cf2f1a38e1b7\">\n",
              "  <button class=\"colab-df-quickchart\" onclick=\"quickchart('df-8364dd4c-7270-4062-b3d3-cf2f1a38e1b7')\"\n",
              "            title=\"Suggest charts\"\n",
              "            style=\"display:none;\">\n",
              "\n",
              "<svg xmlns=\"http://www.w3.org/2000/svg\" height=\"24px\"viewBox=\"0 0 24 24\"\n",
              "     width=\"24px\">\n",
              "    <g>\n",
              "        <path d=\"M19 3H5c-1.1 0-2 .9-2 2v14c0 1.1.9 2 2 2h14c1.1 0 2-.9 2-2V5c0-1.1-.9-2-2-2zM9 17H7v-7h2v7zm4 0h-2V7h2v10zm4 0h-2v-4h2v4z\"/>\n",
              "    </g>\n",
              "</svg>\n",
              "  </button>\n",
              "\n",
              "<style>\n",
              "  .colab-df-quickchart {\n",
              "      --bg-color: #E8F0FE;\n",
              "      --fill-color: #1967D2;\n",
              "      --hover-bg-color: #E2EBFA;\n",
              "      --hover-fill-color: #174EA6;\n",
              "      --disabled-fill-color: #AAA;\n",
              "      --disabled-bg-color: #DDD;\n",
              "  }\n",
              "\n",
              "  [theme=dark] .colab-df-quickchart {\n",
              "      --bg-color: #3B4455;\n",
              "      --fill-color: #D2E3FC;\n",
              "      --hover-bg-color: #434B5C;\n",
              "      --hover-fill-color: #FFFFFF;\n",
              "      --disabled-bg-color: #3B4455;\n",
              "      --disabled-fill-color: #666;\n",
              "  }\n",
              "\n",
              "  .colab-df-quickchart {\n",
              "    background-color: var(--bg-color);\n",
              "    border: none;\n",
              "    border-radius: 50%;\n",
              "    cursor: pointer;\n",
              "    display: none;\n",
              "    fill: var(--fill-color);\n",
              "    height: 32px;\n",
              "    padding: 0;\n",
              "    width: 32px;\n",
              "  }\n",
              "\n",
              "  .colab-df-quickchart:hover {\n",
              "    background-color: var(--hover-bg-color);\n",
              "    box-shadow: 0 1px 2px rgba(60, 64, 67, 0.3), 0 1px 3px 1px rgba(60, 64, 67, 0.15);\n",
              "    fill: var(--button-hover-fill-color);\n",
              "  }\n",
              "\n",
              "  .colab-df-quickchart-complete:disabled,\n",
              "  .colab-df-quickchart-complete:disabled:hover {\n",
              "    background-color: var(--disabled-bg-color);\n",
              "    fill: var(--disabled-fill-color);\n",
              "    box-shadow: none;\n",
              "  }\n",
              "\n",
              "  .colab-df-spinner {\n",
              "    border: 2px solid var(--fill-color);\n",
              "    border-color: transparent;\n",
              "    border-bottom-color: var(--fill-color);\n",
              "    animation:\n",
              "      spin 1s steps(1) infinite;\n",
              "  }\n",
              "\n",
              "  @keyframes spin {\n",
              "    0% {\n",
              "      border-color: transparent;\n",
              "      border-bottom-color: var(--fill-color);\n",
              "      border-left-color: var(--fill-color);\n",
              "    }\n",
              "    20% {\n",
              "      border-color: transparent;\n",
              "      border-left-color: var(--fill-color);\n",
              "      border-top-color: var(--fill-color);\n",
              "    }\n",
              "    30% {\n",
              "      border-color: transparent;\n",
              "      border-left-color: var(--fill-color);\n",
              "      border-top-color: var(--fill-color);\n",
              "      border-right-color: var(--fill-color);\n",
              "    }\n",
              "    40% {\n",
              "      border-color: transparent;\n",
              "      border-right-color: var(--fill-color);\n",
              "      border-top-color: var(--fill-color);\n",
              "    }\n",
              "    60% {\n",
              "      border-color: transparent;\n",
              "      border-right-color: var(--fill-color);\n",
              "    }\n",
              "    80% {\n",
              "      border-color: transparent;\n",
              "      border-right-color: var(--fill-color);\n",
              "      border-bottom-color: var(--fill-color);\n",
              "    }\n",
              "    90% {\n",
              "      border-color: transparent;\n",
              "      border-bottom-color: var(--fill-color);\n",
              "    }\n",
              "  }\n",
              "</style>\n",
              "\n",
              "  <script>\n",
              "    async function quickchart(key) {\n",
              "      const quickchartButtonEl =\n",
              "        document.querySelector('#' + key + ' button');\n",
              "      quickchartButtonEl.disabled = true;  // To prevent multiple clicks.\n",
              "      quickchartButtonEl.classList.add('colab-df-spinner');\n",
              "      try {\n",
              "        const charts = await google.colab.kernel.invokeFunction(\n",
              "            'suggestCharts', [key], {});\n",
              "      } catch (error) {\n",
              "        console.error('Error during call to suggestCharts:', error);\n",
              "      }\n",
              "      quickchartButtonEl.classList.remove('colab-df-spinner');\n",
              "      quickchartButtonEl.classList.add('colab-df-quickchart-complete');\n",
              "    }\n",
              "    (() => {\n",
              "      let quickchartButtonEl =\n",
              "        document.querySelector('#df-8364dd4c-7270-4062-b3d3-cf2f1a38e1b7 button');\n",
              "      quickchartButtonEl.style.display =\n",
              "        google.colab.kernel.accessAllowed ? 'block' : 'none';\n",
              "    })();\n",
              "  </script>\n",
              "</div>\n",
              "\n",
              "  <div id=\"id_27ba97a0-fa4f-4134-8dc6-93421a6af414\">\n",
              "    <style>\n",
              "      .colab-df-generate {\n",
              "        background-color: #E8F0FE;\n",
              "        border: none;\n",
              "        border-radius: 50%;\n",
              "        cursor: pointer;\n",
              "        display: none;\n",
              "        fill: #1967D2;\n",
              "        height: 32px;\n",
              "        padding: 0 0 0 0;\n",
              "        width: 32px;\n",
              "      }\n",
              "\n",
              "      .colab-df-generate:hover {\n",
              "        background-color: #E2EBFA;\n",
              "        box-shadow: 0px 1px 2px rgba(60, 64, 67, 0.3), 0px 1px 3px 1px rgba(60, 64, 67, 0.15);\n",
              "        fill: #174EA6;\n",
              "      }\n",
              "\n",
              "      [theme=dark] .colab-df-generate {\n",
              "        background-color: #3B4455;\n",
              "        fill: #D2E3FC;\n",
              "      }\n",
              "\n",
              "      [theme=dark] .colab-df-generate:hover {\n",
              "        background-color: #434B5C;\n",
              "        box-shadow: 0px 1px 3px 1px rgba(0, 0, 0, 0.15);\n",
              "        filter: drop-shadow(0px 1px 2px rgba(0, 0, 0, 0.3));\n",
              "        fill: #FFFFFF;\n",
              "      }\n",
              "    </style>\n",
              "    <button class=\"colab-df-generate\" onclick=\"generateWithVariable('dsDiseases')\"\n",
              "            title=\"Generate code using this dataframe.\"\n",
              "            style=\"display:none;\">\n",
              "\n",
              "  <svg xmlns=\"http://www.w3.org/2000/svg\" height=\"24px\"viewBox=\"0 0 24 24\"\n",
              "       width=\"24px\">\n",
              "    <path d=\"M7,19H8.4L18.45,9,17,7.55,7,17.6ZM5,21V16.75L18.45,3.32a2,2,0,0,1,2.83,0l1.4,1.43a1.91,1.91,0,0,1,.58,1.4,1.91,1.91,0,0,1-.58,1.4L9.25,21ZM18.45,9,17,7.55Zm-12,3A5.31,5.31,0,0,0,4.9,8.1,5.31,5.31,0,0,0,1,6.5,5.31,5.31,0,0,0,4.9,4.9,5.31,5.31,0,0,0,6.5,1,5.31,5.31,0,0,0,8.1,4.9,5.31,5.31,0,0,0,12,6.5,5.46,5.46,0,0,0,6.5,12Z\"/>\n",
              "  </svg>\n",
              "    </button>\n",
              "    <script>\n",
              "      (() => {\n",
              "      const buttonEl =\n",
              "        document.querySelector('#id_27ba97a0-fa4f-4134-8dc6-93421a6af414 button.colab-df-generate');\n",
              "      buttonEl.style.display =\n",
              "        google.colab.kernel.accessAllowed ? 'block' : 'none';\n",
              "\n",
              "      buttonEl.onclick = () => {\n",
              "        google.colab.notebook.generateWithVariable('dsDiseases');\n",
              "      }\n",
              "      })();\n",
              "    </script>\n",
              "  </div>\n",
              "\n",
              "    </div>\n",
              "  </div>\n"
            ],
            "application/vnd.google.colaboratory.intrinsic+json": {
              "type": "dataframe",
              "variable_name": "dsDiseases",
              "summary": "{\n  \"name\": \"dsDiseases\",\n  \"rows\": 19172,\n  \"fields\": [\n    {\n      \"column\": \"image_id\",\n      \"properties\": {\n        \"dtype\": \"string\",\n        \"num_unique_values\": 18957,\n        \"samples\": [\n          \"3820282507.jpg\",\n          \"769737121.jpg\",\n          \"3094956073.jpg\"\n        ],\n        \"semantic_type\": \"\",\n        \"description\": \"\"\n      }\n    },\n    {\n      \"column\": \"label\",\n      \"properties\": {\n        \"dtype\": \"number\",\n        \"std\": 1,\n        \"min\": 0,\n        \"max\": 4,\n        \"num_unique_values\": 5,\n        \"samples\": [\n          0,\n          2,\n          1\n        ],\n        \"semantic_type\": \"\",\n        \"description\": \"\"\n      }\n    },\n    {\n      \"column\": \"path\",\n      \"properties\": {\n        \"dtype\": \"string\",\n        \"num_unique_values\": 18957,\n        \"samples\": [\n          \"/content/drive/MyDrive/Davi/Datasetcrop/Data/train_images/3820282507.jpg\",\n          \"/content/drive/MyDrive/Davi/Datasetcrop/Data/train_images/769737121.jpg\",\n          \"/content/drive/MyDrive/Davi/Datasetcrop/Data/train_images/3094956073.jpg\"\n        ],\n        \"semantic_type\": \"\",\n        \"description\": \"\"\n      }\n    }\n  ]\n}"
            }
          },
          "metadata": {}
        },
        {
          "output_type": "stream",
          "name": "stdout",
          "text": [
            "19172\n"
          ]
        }
      ]
    },
    {
      "cell_type": "code",
      "source": [
        "files=[]\n",
        "paths=[]\n",
        "for dirname, _, filenames in os.walk(dir0):\n",
        "    for filename in filenames:\n",
        "        paths+=[(os.path.join(dirname, filename))]\n",
        "        files+=[filename]\n",
        "print(len(paths))"
      ],
      "metadata": {
        "execution": {
          "iopub.status.busy": "2024-05-02T18:30:03.640379Z",
          "iopub.execute_input": "2024-05-02T18:30:03.641030Z",
          "iopub.status.idle": "2024-05-02T18:30:24.791470Z",
          "shell.execute_reply.started": "2024-05-02T18:30:03.640987Z",
          "shell.execute_reply": "2024-05-02T18:30:24.789656Z"
        },
        "trusted": true,
        "id": "AIfL4dqZUTNY"
      },
      "execution_count": null,
      "outputs": []
    },
    {
      "cell_type": "code",
      "source": [
        "drops=[]\n",
        "for i in range(len(dsDiseases)):\n",
        "    if dsDiseases.iloc[i,0] not in files:\n",
        "        drops+=[i]\n",
        "dsDiseases=dsDiseases.drop(drops,axis=0).reset_index(drop=True)\n",
        "display(dsDiseases)"
      ],
      "metadata": {
        "execution": {
          "iopub.status.busy": "2024-05-02T18:33:23.924276Z",
          "iopub.execute_input": "2024-05-02T18:33:23.924799Z",
          "iopub.status.idle": "2024-05-02T18:33:31.047886Z",
          "shell.execute_reply.started": "2024-05-02T18:33:23.924753Z",
          "shell.execute_reply": "2024-05-02T18:33:31.046915Z"
        },
        "trusted": true,
        "id": "QSbycX9dUTNZ"
      },
      "execution_count": null,
      "outputs": []
    },
    {
      "cell_type": "markdown",
      "source": [
        "Nessa primeira parte, vamos entender o que é cada coluna:\n",
        "- Examinando as primeiras linhas do DataFrame:\n",
        "    - `head()` é usado para visualizar as primeiras linhas do DataFrame `dsDiseases`.\n",
        "    - Isso ajuda a ter uma ideia inicial da estrutura e dos dados presentes no DataFrame."
      ],
      "metadata": {
        "_uuid": "0a58f052-328a-4b36-8bbb-f3f8b88755d4",
        "_cell_guid": "9c3c4460-be58-47d3-9812-b3fcff714a67",
        "trusted": true,
        "id": "1y-g_-yNUTNZ"
      }
    },
    {
      "cell_type": "code",
      "source": [
        "dsDiseases.head()"
      ],
      "metadata": {
        "_uuid": "fe5b4a1b-f26d-448b-8805-fac0cd2a8544",
        "_cell_guid": "30060a98-f145-40ad-9624-ff62b982e08c",
        "id": "ytt8k-vgknw8",
        "jupyter": {
          "outputs_hidden": false
        },
        "execution": {
          "iopub.status.busy": "2024-04-18T19:13:00.808018Z",
          "iopub.execute_input": "2024-04-18T19:13:00.808479Z",
          "iopub.status.idle": "2024-04-18T19:13:00.822095Z",
          "shell.execute_reply.started": "2024-04-18T19:13:00.808442Z",
          "shell.execute_reply": "2024-04-18T19:13:00.820213Z"
        },
        "trusted": true,
        "colab": {
          "base_uri": "https://localhost:8080/",
          "height": 206
        },
        "outputId": "7b6f19c7-34aa-4d9e-c380-0b305c500264"
      },
      "execution_count": 4,
      "outputs": [
        {
          "output_type": "execute_result",
          "data": {
            "text/plain": [
              "         image_id  label\n",
              "0   157078263.jpg      3\n",
              "1  1574893536.jpg      3\n",
              "2  1575013487.jpg      3\n",
              "3  1576606254.jpg      0\n",
              "4  1579761476.jpg      1"
            ],
            "text/html": [
              "\n",
              "  <div id=\"df-7f2eed1c-d335-4b6b-b692-9d4e885c0718\" class=\"colab-df-container\">\n",
              "    <div>\n",
              "<style scoped>\n",
              "    .dataframe tbody tr th:only-of-type {\n",
              "        vertical-align: middle;\n",
              "    }\n",
              "\n",
              "    .dataframe tbody tr th {\n",
              "        vertical-align: top;\n",
              "    }\n",
              "\n",
              "    .dataframe thead th {\n",
              "        text-align: right;\n",
              "    }\n",
              "</style>\n",
              "<table border=\"1\" class=\"dataframe\">\n",
              "  <thead>\n",
              "    <tr style=\"text-align: right;\">\n",
              "      <th></th>\n",
              "      <th>image_id</th>\n",
              "      <th>label</th>\n",
              "    </tr>\n",
              "  </thead>\n",
              "  <tbody>\n",
              "    <tr>\n",
              "      <th>0</th>\n",
              "      <td>157078263.jpg</td>\n",
              "      <td>3</td>\n",
              "    </tr>\n",
              "    <tr>\n",
              "      <th>1</th>\n",
              "      <td>1574893536.jpg</td>\n",
              "      <td>3</td>\n",
              "    </tr>\n",
              "    <tr>\n",
              "      <th>2</th>\n",
              "      <td>1575013487.jpg</td>\n",
              "      <td>3</td>\n",
              "    </tr>\n",
              "    <tr>\n",
              "      <th>3</th>\n",
              "      <td>1576606254.jpg</td>\n",
              "      <td>0</td>\n",
              "    </tr>\n",
              "    <tr>\n",
              "      <th>4</th>\n",
              "      <td>1579761476.jpg</td>\n",
              "      <td>1</td>\n",
              "    </tr>\n",
              "  </tbody>\n",
              "</table>\n",
              "</div>\n",
              "    <div class=\"colab-df-buttons\">\n",
              "\n",
              "  <div class=\"colab-df-container\">\n",
              "    <button class=\"colab-df-convert\" onclick=\"convertToInteractive('df-7f2eed1c-d335-4b6b-b692-9d4e885c0718')\"\n",
              "            title=\"Convert this dataframe to an interactive table.\"\n",
              "            style=\"display:none;\">\n",
              "\n",
              "  <svg xmlns=\"http://www.w3.org/2000/svg\" height=\"24px\" viewBox=\"0 -960 960 960\">\n",
              "    <path d=\"M120-120v-720h720v720H120Zm60-500h600v-160H180v160Zm220 220h160v-160H400v160Zm0 220h160v-160H400v160ZM180-400h160v-160H180v160Zm440 0h160v-160H620v160ZM180-180h160v-160H180v160Zm440 0h160v-160H620v160Z\"/>\n",
              "  </svg>\n",
              "    </button>\n",
              "\n",
              "  <style>\n",
              "    .colab-df-container {\n",
              "      display:flex;\n",
              "      gap: 12px;\n",
              "    }\n",
              "\n",
              "    .colab-df-convert {\n",
              "      background-color: #E8F0FE;\n",
              "      border: none;\n",
              "      border-radius: 50%;\n",
              "      cursor: pointer;\n",
              "      display: none;\n",
              "      fill: #1967D2;\n",
              "      height: 32px;\n",
              "      padding: 0 0 0 0;\n",
              "      width: 32px;\n",
              "    }\n",
              "\n",
              "    .colab-df-convert:hover {\n",
              "      background-color: #E2EBFA;\n",
              "      box-shadow: 0px 1px 2px rgba(60, 64, 67, 0.3), 0px 1px 3px 1px rgba(60, 64, 67, 0.15);\n",
              "      fill: #174EA6;\n",
              "    }\n",
              "\n",
              "    .colab-df-buttons div {\n",
              "      margin-bottom: 4px;\n",
              "    }\n",
              "\n",
              "    [theme=dark] .colab-df-convert {\n",
              "      background-color: #3B4455;\n",
              "      fill: #D2E3FC;\n",
              "    }\n",
              "\n",
              "    [theme=dark] .colab-df-convert:hover {\n",
              "      background-color: #434B5C;\n",
              "      box-shadow: 0px 1px 3px 1px rgba(0, 0, 0, 0.15);\n",
              "      filter: drop-shadow(0px 1px 2px rgba(0, 0, 0, 0.3));\n",
              "      fill: #FFFFFF;\n",
              "    }\n",
              "  </style>\n",
              "\n",
              "    <script>\n",
              "      const buttonEl =\n",
              "        document.querySelector('#df-7f2eed1c-d335-4b6b-b692-9d4e885c0718 button.colab-df-convert');\n",
              "      buttonEl.style.display =\n",
              "        google.colab.kernel.accessAllowed ? 'block' : 'none';\n",
              "\n",
              "      async function convertToInteractive(key) {\n",
              "        const element = document.querySelector('#df-7f2eed1c-d335-4b6b-b692-9d4e885c0718');\n",
              "        const dataTable =\n",
              "          await google.colab.kernel.invokeFunction('convertToInteractive',\n",
              "                                                    [key], {});\n",
              "        if (!dataTable) return;\n",
              "\n",
              "        const docLinkHtml = 'Like what you see? Visit the ' +\n",
              "          '<a target=\"_blank\" href=https://colab.research.google.com/notebooks/data_table.ipynb>data table notebook</a>'\n",
              "          + ' to learn more about interactive tables.';\n",
              "        element.innerHTML = '';\n",
              "        dataTable['output_type'] = 'display_data';\n",
              "        await google.colab.output.renderOutput(dataTable, element);\n",
              "        const docLink = document.createElement('div');\n",
              "        docLink.innerHTML = docLinkHtml;\n",
              "        element.appendChild(docLink);\n",
              "      }\n",
              "    </script>\n",
              "  </div>\n",
              "\n",
              "\n",
              "<div id=\"df-4090a391-20c5-4cd4-bc0d-2f7580dd3139\">\n",
              "  <button class=\"colab-df-quickchart\" onclick=\"quickchart('df-4090a391-20c5-4cd4-bc0d-2f7580dd3139')\"\n",
              "            title=\"Suggest charts\"\n",
              "            style=\"display:none;\">\n",
              "\n",
              "<svg xmlns=\"http://www.w3.org/2000/svg\" height=\"24px\"viewBox=\"0 0 24 24\"\n",
              "     width=\"24px\">\n",
              "    <g>\n",
              "        <path d=\"M19 3H5c-1.1 0-2 .9-2 2v14c0 1.1.9 2 2 2h14c1.1 0 2-.9 2-2V5c0-1.1-.9-2-2-2zM9 17H7v-7h2v7zm4 0h-2V7h2v10zm4 0h-2v-4h2v4z\"/>\n",
              "    </g>\n",
              "</svg>\n",
              "  </button>\n",
              "\n",
              "<style>\n",
              "  .colab-df-quickchart {\n",
              "      --bg-color: #E8F0FE;\n",
              "      --fill-color: #1967D2;\n",
              "      --hover-bg-color: #E2EBFA;\n",
              "      --hover-fill-color: #174EA6;\n",
              "      --disabled-fill-color: #AAA;\n",
              "      --disabled-bg-color: #DDD;\n",
              "  }\n",
              "\n",
              "  [theme=dark] .colab-df-quickchart {\n",
              "      --bg-color: #3B4455;\n",
              "      --fill-color: #D2E3FC;\n",
              "      --hover-bg-color: #434B5C;\n",
              "      --hover-fill-color: #FFFFFF;\n",
              "      --disabled-bg-color: #3B4455;\n",
              "      --disabled-fill-color: #666;\n",
              "  }\n",
              "\n",
              "  .colab-df-quickchart {\n",
              "    background-color: var(--bg-color);\n",
              "    border: none;\n",
              "    border-radius: 50%;\n",
              "    cursor: pointer;\n",
              "    display: none;\n",
              "    fill: var(--fill-color);\n",
              "    height: 32px;\n",
              "    padding: 0;\n",
              "    width: 32px;\n",
              "  }\n",
              "\n",
              "  .colab-df-quickchart:hover {\n",
              "    background-color: var(--hover-bg-color);\n",
              "    box-shadow: 0 1px 2px rgba(60, 64, 67, 0.3), 0 1px 3px 1px rgba(60, 64, 67, 0.15);\n",
              "    fill: var(--button-hover-fill-color);\n",
              "  }\n",
              "\n",
              "  .colab-df-quickchart-complete:disabled,\n",
              "  .colab-df-quickchart-complete:disabled:hover {\n",
              "    background-color: var(--disabled-bg-color);\n",
              "    fill: var(--disabled-fill-color);\n",
              "    box-shadow: none;\n",
              "  }\n",
              "\n",
              "  .colab-df-spinner {\n",
              "    border: 2px solid var(--fill-color);\n",
              "    border-color: transparent;\n",
              "    border-bottom-color: var(--fill-color);\n",
              "    animation:\n",
              "      spin 1s steps(1) infinite;\n",
              "  }\n",
              "\n",
              "  @keyframes spin {\n",
              "    0% {\n",
              "      border-color: transparent;\n",
              "      border-bottom-color: var(--fill-color);\n",
              "      border-left-color: var(--fill-color);\n",
              "    }\n",
              "    20% {\n",
              "      border-color: transparent;\n",
              "      border-left-color: var(--fill-color);\n",
              "      border-top-color: var(--fill-color);\n",
              "    }\n",
              "    30% {\n",
              "      border-color: transparent;\n",
              "      border-left-color: var(--fill-color);\n",
              "      border-top-color: var(--fill-color);\n",
              "      border-right-color: var(--fill-color);\n",
              "    }\n",
              "    40% {\n",
              "      border-color: transparent;\n",
              "      border-right-color: var(--fill-color);\n",
              "      border-top-color: var(--fill-color);\n",
              "    }\n",
              "    60% {\n",
              "      border-color: transparent;\n",
              "      border-right-color: var(--fill-color);\n",
              "    }\n",
              "    80% {\n",
              "      border-color: transparent;\n",
              "      border-right-color: var(--fill-color);\n",
              "      border-bottom-color: var(--fill-color);\n",
              "    }\n",
              "    90% {\n",
              "      border-color: transparent;\n",
              "      border-bottom-color: var(--fill-color);\n",
              "    }\n",
              "  }\n",
              "</style>\n",
              "\n",
              "  <script>\n",
              "    async function quickchart(key) {\n",
              "      const quickchartButtonEl =\n",
              "        document.querySelector('#' + key + ' button');\n",
              "      quickchartButtonEl.disabled = true;  // To prevent multiple clicks.\n",
              "      quickchartButtonEl.classList.add('colab-df-spinner');\n",
              "      try {\n",
              "        const charts = await google.colab.kernel.invokeFunction(\n",
              "            'suggestCharts', [key], {});\n",
              "      } catch (error) {\n",
              "        console.error('Error during call to suggestCharts:', error);\n",
              "      }\n",
              "      quickchartButtonEl.classList.remove('colab-df-spinner');\n",
              "      quickchartButtonEl.classList.add('colab-df-quickchart-complete');\n",
              "    }\n",
              "    (() => {\n",
              "      let quickchartButtonEl =\n",
              "        document.querySelector('#df-4090a391-20c5-4cd4-bc0d-2f7580dd3139 button');\n",
              "      quickchartButtonEl.style.display =\n",
              "        google.colab.kernel.accessAllowed ? 'block' : 'none';\n",
              "    })();\n",
              "  </script>\n",
              "</div>\n",
              "\n",
              "    </div>\n",
              "  </div>\n"
            ],
            "application/vnd.google.colaboratory.intrinsic+json": {
              "type": "dataframe",
              "variable_name": "dsDiseases",
              "summary": "{\n  \"name\": \"dsDiseases\",\n  \"rows\": 19172,\n  \"fields\": [\n    {\n      \"column\": \"image_id\",\n      \"properties\": {\n        \"dtype\": \"string\",\n        \"num_unique_values\": 18957,\n        \"samples\": [\n          \"3820282507.jpg\",\n          \"769737121.jpg\",\n          \"3094956073.jpg\"\n        ],\n        \"semantic_type\": \"\",\n        \"description\": \"\"\n      }\n    },\n    {\n      \"column\": \"label\",\n      \"properties\": {\n        \"dtype\": \"number\",\n        \"std\": 1,\n        \"min\": 0,\n        \"max\": 4,\n        \"num_unique_values\": 5,\n        \"samples\": [\n          0,\n          2,\n          1\n        ],\n        \"semantic_type\": \"\",\n        \"description\": \"\"\n      }\n    }\n  ]\n}"
            }
          },
          "metadata": {},
          "execution_count": 4
        }
      ]
    },
    {
      "cell_type": "markdown",
      "source": [
        "Para uma visão ampla em relação aos dados, podemos plotar dois gráficos: um gráfico em barras (com a contagem de cada categoria) e um gráfico em pizza (com a porcentagem das categorias).\n",
        "- Contagem e visualização das categorias:\n",
        "    - `value_counts()` é usado para contar o número de ocorrências de cada categoria na coluna 'label' do DataFrame `dsDiseases`.\n",
        "    - Os resultados são armazenados na variável `counts`.\n",
        "    - Um gráfico de barras é criado usando `sns.barplot()` para visualizar a contagem de cada categoria.\n",
        "    - `counts.index` é usado como os valores no eixo x (categorias).\n",
        "    - `counts.values` é usado como os valores no eixo y (contagem).\n",
        "    - O título do gráfico é definido como 'Crop diseases'.\n",
        "    - Os rótulos dos eixos x e y são definidos como 'Categorias' e 'Contagem', respectivamente.\n",
        "    - `plt.show()` é usado para exibir o gráfico."
      ],
      "metadata": {
        "_uuid": "4ba5e850-13c6-4b44-9a8a-e0efa03e7c38",
        "_cell_guid": "4d561227-2cc0-4e0d-a59b-6b8608a547b3",
        "trusted": true,
        "id": "ZhdWRELJUTNZ"
      }
    },
    {
      "cell_type": "code",
      "source": [
        "# Contagem das categorias\n",
        "counts = dsDiseases['label'].value_counts()\n",
        "\n",
        "# Plot\n",
        "sns.barplot(x=counts.index, y=counts.values)\n",
        "plt.title('Contagem de categorias')\n",
        "plt.xlabel('Categorias')\n",
        "plt.ylabel('Contagem')\n",
        "plt.show()"
      ],
      "metadata": {
        "_uuid": "0cc34b48-b585-494e-82a0-29a6b90e947d",
        "_cell_guid": "1c15c0b6-3021-48b4-b0b4-778038663d0e",
        "jupyter": {
          "outputs_hidden": false
        },
        "execution": {
          "iopub.status.busy": "2024-05-02T18:33:31.049947Z",
          "iopub.execute_input": "2024-05-02T18:33:31.050607Z",
          "iopub.status.idle": "2024-05-02T18:33:31.304953Z",
          "shell.execute_reply.started": "2024-05-02T18:33:31.050572Z",
          "shell.execute_reply": "2024-05-02T18:33:31.303539Z"
        },
        "trusted": true,
        "colab": {
          "base_uri": "https://localhost:8080/",
          "height": 472
        },
        "id": "m6QaQ0GjUTNZ",
        "outputId": "9f970f2b-d0fd-4cc6-c3be-db4410557384"
      },
      "execution_count": 8,
      "outputs": [
        {
          "output_type": "display_data",
          "data": {
            "text/plain": [
              "<Figure size 640x480 with 1 Axes>"
            ],
            "image/png": "[encoded data removed]"
          },
          "metadata": {}
        }
      ]
    },
    {
      "cell_type": "markdown",
      "source": [
        "- Visualização das categorias em um gráfico de pizza:\n",
        "    - `plt.pie()` é usado para criar um gráfico de pizza com as porcentagens de cada categoria.\n",
        "    - `counts` é passado como os dados para o gráfico de pizza.\n",
        "    - `labels=counts.index` é usado para rotular as fatias do gráfico de acordo com as categorias.\n",
        "    - `autopct='%1.1f%%'` formata as porcentagens exibidas em cada fatia.\n",
        "    - `startangle=140` define o ângulo inicial da pizza para uma melhor visualização.\n",
        "    - `plt.title()` define o título do gráfico como 'Crop diseases'.\n",
        "    - `plt.axis('equal')` garante que a pizza seja desenhada como um círculo.\n",
        "    - `plt.show()` é usado para exibir o gráfico de pizza."
      ],
      "metadata": {
        "_uuid": "3c72333e-d264-4d3b-acfd-48c503bd3cd4",
        "_cell_guid": "b7bf97b9-1694-418b-8603-a74109082661",
        "trusted": true,
        "id": "JY8QDo3vUTNZ"
      }
    },
    {
      "cell_type": "code",
      "source": [
        "# Plot\n",
        "plt.pie(counts, labels=counts.index, autopct='%1.1f%%', startangle=140)\n",
        "plt.title('Crop diseases')\n",
        "plt.axis('equal')  # Equal aspect ratio ensures that pie is drawn as a circle.\n",
        "plt.show()"
      ],
      "metadata": {
        "_uuid": "7a7d640a-6c23-4605-9f84-1c3cbb33cb9e",
        "_cell_guid": "334e6e9a-0f90-43a8-b3e4-e00c0c9bf7de",
        "jupyter": {
          "outputs_hidden": false
        },
        "execution": {
          "iopub.status.busy": "2024-05-02T18:33:31.306630Z",
          "iopub.execute_input": "2024-05-02T18:33:31.307130Z",
          "iopub.status.idle": "2024-05-02T18:33:31.462474Z",
          "shell.execute_reply.started": "2024-05-02T18:33:31.307077Z",
          "shell.execute_reply": "2024-05-02T18:33:31.461272Z"
        },
        "trusted": true,
        "colab": {
          "base_uri": "https://localhost:8080/",
          "height": 428
        },
        "id": "N4dsvz8BUTNZ",
        "outputId": "28af9757-625d-4d15-97a7-89ef22d27193"
      },
      "execution_count": 15,
      "outputs": [
        {
          "output_type": "display_data",
          "data": {
            "text/plain": [
              "<Figure size 640x480 with 1 Axes>"
            ],
            "image/png": "[encoded data removed]"
          },
          "metadata": {}
        }
      ]
    },
    {
      "cell_type": "markdown",
      "source": [
        "# Divisão de treino, teste e validação"
      ],
      "metadata": {
        "_uuid": "e5a016b4-09aa-48f4-8e3d-1aefa34ee0d7",
        "_cell_guid": "bc0ae393-1ca1-4a50-8cfd-3b652fd8e372",
        "id": "kuE3CzqFV95d",
        "trusted": true
      }
    },
    {
      "cell_type": "markdown",
      "source": [
        "Bom, após vizualizarmos ambos os gráficos, percebemos que está desbalanceado, pois a categoria 3 possui 61.5% de amostras, o que é um valor maior do que a soma de todas as outras categorias, isso para um dataset não é bom, por isso vamos para a etapa de Divisão de treino, teste e validação de dados para o nosso dataset."
      ],
      "metadata": {
        "_uuid": "804c35fe-855c-45ad-9343-7580409c3c5f",
        "_cell_guid": "73c2a526-9be3-47ef-95fe-bef98a973335",
        "trusted": true,
        "id": "KaqAmBCDUTNa"
      }
    },
    {
      "cell_type": "code",
      "source": [
        "# Divisão dos dados em conjuntos de treinamento e teste, mantendo as amostras proporcionais\n",
        "train_data, test_data = train_test_split(dsDiseases, test_size=0.2, random_state=42, stratify=dsDiseases['label'])"
      ],
      "metadata": {
        "_uuid": "74cb7cad-6b90-49b3-a208-36d6b3ae8a2d",
        "_cell_guid": "287cf6bf-aa33-45dd-9ceb-5c2d8b7173ee",
        "jupyter": {
          "outputs_hidden": false
        },
        "execution": {
          "iopub.status.busy": "2024-05-02T18:33:31.788271Z",
          "iopub.execute_input": "2024-05-02T18:33:31.788682Z",
          "iopub.status.idle": "2024-05-02T18:33:31.808707Z",
          "shell.execute_reply.started": "2024-05-02T18:33:31.788654Z",
          "shell.execute_reply": "2024-05-02T18:33:31.807370Z"
        },
        "trusted": true,
        "id": "Og4LKeMcUTNa"
      },
      "execution_count": 5,
      "outputs": []
    },
    {
      "cell_type": "code",
      "source": [
        "# Plot dos dados de treinamento\n",
        "sns.barplot(x=train_data['label'].value_counts().index, y=train_data['label'].value_counts().values)\n",
        "plt.title('Contagem de Categorias - Conjunto de Treinamento')\n",
        "plt.xlabel('Categorias')\n",
        "plt.ylabel('Contagem')\n",
        "plt.show()"
      ],
      "metadata": {
        "_uuid": "7c212b67-df76-4985-acc2-e39b2e5089f4",
        "_cell_guid": "6517ba66-b8d6-440c-9d74-ebba14064443",
        "jupyter": {
          "outputs_hidden": false
        },
        "execution": {
          "iopub.status.busy": "2024-05-02T18:33:32.885408Z",
          "iopub.execute_input": "2024-05-02T18:33:32.886452Z",
          "iopub.status.idle": "2024-05-02T18:33:33.147192Z",
          "shell.execute_reply.started": "2024-05-02T18:33:32.886392Z",
          "shell.execute_reply": "2024-05-02T18:33:33.145750Z"
        },
        "trusted": true,
        "colab": {
          "base_uri": "https://localhost:8080/",
          "height": 472
        },
        "id": "f6JXDG5RUTNa",
        "outputId": "9731262e-5d96-4f2d-d733-71f4a85f6d4f"
      },
      "execution_count": 10,
      "outputs": [
        {
          "output_type": "display_data",
          "data": {
            "text/plain": [
              "<Figure size 640x480 with 1 Axes>"
            ],
            "image/png": "[encoded data removed]"
          },
          "metadata": {}
        }
      ]
    },
    {
      "cell_type": "code",
      "source": [
        "train_data.head()"
      ],
      "metadata": {
        "execution": {
          "iopub.status.busy": "2024-04-18T18:58:37.426710Z",
          "iopub.execute_input": "2024-04-18T18:58:37.427208Z",
          "iopub.status.idle": "2024-04-18T18:58:37.440827Z",
          "shell.execute_reply.started": "2024-04-18T18:58:37.427175Z",
          "shell.execute_reply": "2024-04-18T18:58:37.439209Z"
        },
        "trusted": true,
        "colab": {
          "base_uri": "https://localhost:8080/",
          "height": 146
        },
        "id": "aslfHUaUUTNa",
        "outputId": "bdcd841b-2c38-4afa-fbf1-521f8f2b5358"
      },
      "execution_count": 2,
      "outputs": [
        {
          "output_type": "error",
          "ename": "NameError",
          "evalue": "name 'train_data' is not defined",
          "traceback": [
            "\u001b[0;31m---------------------------------------------------------------------------\u001b[0m",
            "\u001b[0;31mNameError\u001b[0m                                 Traceback (most recent call last)",
            "\u001b[0;32m<ipython-input-2-c4dda1b59424>\u001b[0m in \u001b[0;36m<cell line: 1>\u001b[0;34m()\u001b[0m\n\u001b[0;32m----> 1\u001b[0;31m \u001b[0mtrain_data\u001b[0m\u001b[0;34m.\u001b[0m\u001b[0mhead\u001b[0m\u001b[0;34m(\u001b[0m\u001b[0;34m)\u001b[0m\u001b[0;34m\u001b[0m\u001b[0;34m\u001b[0m\u001b[0m\n\u001b[0m",
            "\u001b[0;31mNameError\u001b[0m: name 'train_data' is not defined"
          ]
        }
      ]
    },
    {
      "cell_type": "code",
      "source": [
        "# Plot dos dados de teste\n",
        "sns.barplot(x=test_data['label'].value_counts().index, y=test_data['label'].value_counts().values)\n",
        "plt.title('Contagem de Categorias - Conjunto de Teste')\n",
        "plt.xlabel('Categorias')\n",
        "plt.ylabel('Contagem')\n",
        "plt.show()"
      ],
      "metadata": {
        "_uuid": "634194f1-f020-4736-b531-f200f1b50428",
        "_cell_guid": "37cd20eb-302e-4ba4-9dc5-83c4e11be2a9",
        "jupyter": {
          "outputs_hidden": false
        },
        "execution": {
          "iopub.status.busy": "2024-05-02T18:33:35.670604Z",
          "iopub.execute_input": "2024-05-02T18:33:35.671367Z",
          "iopub.status.idle": "2024-05-02T18:33:35.925933Z",
          "shell.execute_reply.started": "2024-05-02T18:33:35.671325Z",
          "shell.execute_reply": "2024-05-02T18:33:35.924104Z"
        },
        "trusted": true,
        "colab": {
          "base_uri": "https://localhost:8080/",
          "height": 472
        },
        "id": "1jom_q2LUTNa",
        "outputId": "f7c6f01c-8213-44f9-c2fe-8632d617e5be"
      },
      "execution_count": 64,
      "outputs": [
        {
          "output_type": "display_data",
          "data": {
            "text/plain": [
              "<Figure size 640x480 with 1 Axes>"
            ],
            "image/png": "[encoded data removed]"
          },
          "metadata": {}
        }
      ]
    },
    {
      "cell_type": "code",
      "source": [
        "# Contar amostras por classe\n",
        "count_per_class = train_data['label'].value_counts()\n",
        "print(\"Contagem de amostras por classe antes de balancear:\", count_per_class)"
      ],
      "metadata": {
        "execution": {
          "iopub.status.busy": "2024-05-02T18:33:37.620611Z",
          "iopub.execute_input": "2024-05-02T18:33:37.621561Z",
          "iopub.status.idle": "2024-05-02T18:33:37.631391Z",
          "shell.execute_reply.started": "2024-05-02T18:33:37.621514Z",
          "shell.execute_reply": "2024-05-02T18:33:37.629780Z"
        },
        "trusted": true,
        "colab": {
          "base_uri": "https://localhost:8080/"
        },
        "id": "6qNHy7ewUTNa",
        "outputId": "36848e2b-cff2-44fa-d404-906e04b19d1a"
      },
      "execution_count": 65,
      "outputs": [
        {
          "output_type": "stream",
          "name": "stdout",
          "text": [
            "Contagem de amostras por classe antes de balancear: label\n",
            "3    8821\n",
            "4    1733\n",
            "0    1595\n",
            "2    1594\n",
            "1    1594\n",
            "Name: count, dtype: int64\n"
          ]
        }
      ]
    },
    {
      "cell_type": "markdown",
      "source": [
        "# Tratamento de dados"
      ],
      "metadata": {
        "_uuid": "a2f10325-2563-4f76-bc36-86842529e6b7",
        "_cell_guid": "f3b34be7-01e5-4c1f-8e44-993d60df79e8",
        "id": "J2m4zV-8Vuq7",
        "trusted": true
      }
    },
    {
      "cell_type": "markdown",
      "source": [
        "Técnicas de pré processamento acontecem dentro do dataset, antes de passar para o modelo, para que o dataset fique balanceado e tanto ele quanto o resultado seja justo.\n",
        "\n",
        "Task:\n",
        "Objetivo: Deixar todas as classes com a mesma quantidade. Aqui iremos deixar todas com o mesmo valor da classe 2, por ser a mediana.\n",
        "\n",
        "- Classe 3 e 4: Recorte de dataset\n",
        "    \n",
        "    Será eliminado, de maneira aleatória, (classe3 - classe2) quantidades\n",
        "    \n",
        "    Motivo: Para diminuir a quantidade\n",
        "\n",
        "- Classes 0 e 1: Data augmentation\n",
        "   \n",
        "    Motivo: Todas essas duas classes possuem uma amostragem muito menor. Sendo assim, iremos aumentar, através de técnicas de rotação e iluminação, os dados dessas classes. Com isso, teremos a mesma quantidade de dados da classe 2"
      ],
      "metadata": {
        "_uuid": "10cb4254-e345-484d-b67c-99410a94f4bf",
        "_cell_guid": "36c793ba-53c0-461a-8bf2-4cca0cb217a6",
        "trusted": true,
        "id": "X3YRmGUVUTNa"
      }
    },
    {
      "cell_type": "markdown",
      "source": [
        "## Treino"
      ],
      "metadata": {
        "id": "7lwjtCSLUTNa"
      }
    },
    {
      "cell_type": "markdown",
      "source": [
        "## Lidando com a classe 3 e 4"
      ],
      "metadata": {
        "id": "je9Jqc2jUTNb"
      }
    },
    {
      "cell_type": "markdown",
      "source": [
        "### Classe 3"
      ],
      "metadata": {
        "id": "Hk_C9z9QUTNb"
      }
    },
    {
      "cell_type": "code",
      "source": [
        "import pandas as pd\n",
        "\n",
        "while len(train_data[train_data['label'] == 3]) > len(train_data[train_data['label'] == 2]):\n",
        "    index_to_drop = train_data[train_data['label'] == 3].index[0]\n",
        "    train_data = train_data.drop(index_to_drop)\n"
      ],
      "metadata": {
        "execution": {
          "iopub.status.busy": "2024-05-02T18:33:44.818270Z",
          "iopub.execute_input": "2024-05-02T18:33:44.818748Z",
          "iopub.status.idle": "2024-05-02T18:34:12.220064Z",
          "shell.execute_reply.started": "2024-05-02T18:33:44.818713Z",
          "shell.execute_reply": "2024-05-02T18:34:12.218967Z"
        },
        "trusted": true,
        "id": "LOtM5rtzUTNb"
      },
      "execution_count": 6,
      "outputs": []
    },
    {
      "cell_type": "markdown",
      "source": [
        "### Classe 4"
      ],
      "metadata": {
        "id": "t7veKdvCUTNb"
      }
    },
    {
      "cell_type": "code",
      "source": [
        "import pandas as pd\n",
        "\n",
        "while len(train_data[train_data['label'] == 4]) > len(train_data[train_data['label'] == 2]):\n",
        "    index_to_drop = train_data[train_data['label'] == 4].index[0]\n",
        "    train_data = train_data.drop(index_to_drop)"
      ],
      "metadata": {
        "execution": {
          "iopub.status.busy": "2024-05-02T18:34:12.222270Z",
          "iopub.execute_input": "2024-05-02T18:34:12.223612Z",
          "iopub.status.idle": "2024-05-02T18:34:12.633604Z",
          "shell.execute_reply.started": "2024-05-02T18:34:12.223562Z",
          "shell.execute_reply": "2024-05-02T18:34:12.632458Z"
        },
        "trusted": true,
        "id": "bNLBBS_JUTNb"
      },
      "execution_count": 7,
      "outputs": []
    },
    {
      "cell_type": "markdown",
      "source": [
        "Conferindo o resultado"
      ],
      "metadata": {
        "id": "PbYHJd7DUTNb"
      }
    },
    {
      "cell_type": "code",
      "source": [
        "sns.barplot(x=train_data['label'].value_counts().index, y=train_data['label'].value_counts().values)\n",
        "plt.title('Contagem de Categorias - Conjunto de Teste')\n",
        "plt.xlabel('Categorias')\n",
        "plt.ylabel('Contagem')\n",
        "plt.show()"
      ],
      "metadata": {
        "execution": {
          "iopub.status.busy": "2024-05-02T18:34:12.635340Z",
          "iopub.execute_input": "2024-05-02T18:34:12.635867Z",
          "iopub.status.idle": "2024-05-02T18:34:12.918571Z",
          "shell.execute_reply.started": "2024-05-02T18:34:12.635822Z",
          "shell.execute_reply": "2024-05-02T18:34:12.917034Z"
        },
        "trusted": true,
        "colab": {
          "base_uri": "https://localhost:8080/",
          "height": 472
        },
        "id": "DzQj8V8rUTNb",
        "outputId": "da303b54-aa59-40d6-8a8e-285464aa299e"
      },
      "execution_count": 13,
      "outputs": [
        {
          "output_type": "display_data",
          "data": {
            "text/plain": [
              "<Figure size 640x480 with 1 Axes>"
            ],
            "image/png": "[encoded data removed]"
          },
          "metadata": {}
        }
      ]
    },
    {
      "cell_type": "code",
      "source": [
        "# Contar amostras por classe\n",
        "count_per_class = train_data['label'].value_counts()\n",
        "print(\"Contagem de amostras por classe antes de balancear:\", count_per_class)"
      ],
      "metadata": {
        "execution": {
          "iopub.status.busy": "2024-05-02T18:34:12.921308Z",
          "iopub.execute_input": "2024-05-02T18:34:12.921730Z",
          "iopub.status.idle": "2024-05-02T18:34:12.931683Z",
          "shell.execute_reply.started": "2024-05-02T18:34:12.921697Z",
          "shell.execute_reply": "2024-05-02T18:34:12.929886Z"
        },
        "trusted": true,
        "colab": {
          "base_uri": "https://localhost:8080/"
        },
        "id": "Aiqj4xEWUTNb",
        "outputId": "6abd670b-e964-4205-80e9-69a751906797"
      },
      "execution_count": 14,
      "outputs": [
        {
          "output_type": "stream",
          "name": "stdout",
          "text": [
            "Contagem de amostras por classe antes de balancear: label\n",
            "0    1595\n",
            "2    1594\n",
            "1    1594\n",
            "4    1594\n",
            "3    1594\n",
            "Name: count, dtype: int64\n"
          ]
        }
      ]
    },
    {
      "cell_type": "markdown",
      "source": [
        "## Lidando com as classes 0 e 1"
      ],
      "metadata": {
        "id": "4hK8HcPQUTNb"
      }
    },
    {
      "cell_type": "markdown",
      "source": [
        "Para fazer este data augmentation, você deverá lidar com as seguintes questões:\n",
        "- Onde salvar as imagens novas\n",
        "- Acrescentar elas no CSV\n",
        "\n",
        "Processo indicado:\n",
        "1. Criar uma pasta\n",
        "2. Transferir todas as imagens de /kaggle/input/crop-diseases-classification/Data/train_images para a nova pasta\n",
        "3. Fazer o data augmentation\n",
        "4. Adicionar o nome das novas imagens e a classe no CSV\n"
      ],
      "metadata": {
        "id": "rzHsqpt_UTNb"
      }
    },
    {
      "cell_type": "markdown",
      "source": [
        "## Classe 0"
      ],
      "metadata": {
        "id": "o1lsxdUBUTNb"
      }
    },
    {
      "cell_type": "code",
      "source": [
        "\n",
        "\n",
        "image_path = '/content/drive/MyDrive/Davi/Datasetcrop/Data/train_images'\n",
        "csv_path = '/content/drive/MyDrive/Davi/Datasetcrop/Data/train.csv'\n",
        "\n",
        "df = pd.read_csv(csv_path)\n",
        "\n",
        "df = df[df['image_id'].apply(lambda x: os.path.exists(os.path.join(image_path, x)))]\n",
        "\n",
        "class_0 = df[df['label'] == 0]\n",
        "\n",
        "datagen = ImageDataGenerator(\n",
        "    rotation_range=20,\n",
        "    width_shift_range=0.2,\n",
        "    height_shift_range=0.2,\n",
        "    shear_range=0.15,\n",
        "    zoom_range=0.1,\n",
        "    horizontal_flip=True,\n",
        "    fill_mode='nearest'\n",
        ")\n",
        "\n",
        "# Número de imagens a gerar\n",
        "num_new_images = len(train_data[train_data['label'] == 2]) - len(train_data[train_data['label'] == 0]) #215\n",
        "\n",
        "# Contador para novas imagens\n",
        "new_images_count = 0\n",
        "\n",
        "# Gerar novas imagens\n",
        "for index, row in tqdm(class_0.iterrows()):\n",
        "    img_path = os.path.join(image_path, row['image_id'])\n",
        "    if os.path.exists(img_path):\n",
        "        img = Image.open(img_path)\n",
        "        img = img.convert('RGB')\n",
        "        x = np.array(img)\n",
        "        x = x.reshape((1,) + x.shape)\n",
        "\n",
        "        # Gerar novas imagens\n",
        "        for batch in tqdm(datagen.flow(x, batch_size=1)):\n",
        "            new_image = Image.fromarray(batch[0].astype('uint8'), 'RGB')\n",
        "            new_image_id = f\"{row['image_id'].split('.')[0]}_aug_{new_images_count}.jpg\"\n",
        "            new_image.save(os.path.join(image_path, new_image_id))\n",
        "            new_row = pd.DataFrame({'image_id': [new_image_id], 'label': [0]})\n",
        "            df = pd.concat([df, new_row], ignore_index=True)\n",
        "            new_images_count += 1\n",
        "\n",
        "            if new_images_count >= num_new_images:\n",
        "                break\n",
        "        if new_images_count >= num_new_images:\n",
        "            break\n",
        "\n",
        "df.to_csv(csv_path, index=False)\n"
      ],
      "metadata": {
        "colab": {
          "base_uri": "https://localhost:8080/"
        },
        "id": "HBVRYU_BaGrM",
        "outputId": "0d634899-70a4-4b63-a6d5-c02ed7a503f0"
      },
      "execution_count": 34,
      "outputs": [
        {
          "output_type": "stream",
          "name": "stderr",
          "text": [
            "0it [00:00, ?it/s]\n",
            "  0%|          | 0/1 [00:00<?, ?it/s]\u001b[A\n",
            "100%|██████████| 1/1 [00:00<00:00,  3.85it/s]\u001b[A\n",
            "2it [00:00,  4.15it/s]                       \u001b[A\n",
            "3it [00:00,  4.05it/s]\u001b[A\n",
            "4it [00:01,  3.67it/s]\u001b[A\n",
            "5it [00:01,  3.72it/s]\u001b[A\n",
            "6it [00:01,  3.75it/s]\u001b[A\n",
            "7it [00:01,  3.77it/s]\u001b[A\n",
            "8it [00:02,  3.12it/s]\u001b[A\n",
            "9it [00:02,  2.80it/s]\u001b[A\n",
            "10it [00:03,  2.78it/s]\u001b[A\n",
            "11it [00:03,  2.83it/s]\u001b[A\n",
            "12it [00:03,  2.65it/s]\u001b[A\n",
            "13it [00:04,  2.58it/s]\u001b[A\n",
            "14it [00:04,  2.50it/s]\u001b[A\n",
            "15it [00:05,  2.39it/s]\u001b[A\n",
            "16it [00:05,  2.20it/s]\u001b[A\n",
            "17it [00:06,  2.19it/s]\u001b[A\n",
            "18it [00:06,  2.44it/s]\u001b[A\n",
            "19it [00:06,  2.42it/s]\u001b[A\n",
            "20it [00:07,  2.51it/s]\u001b[A\n",
            "21it [00:07,  2.44it/s]\u001b[A\n",
            "22it [00:08,  2.45it/s]\u001b[A\n",
            "23it [00:08,  2.39it/s]\u001b[A\n",
            "24it [00:08,  2.45it/s]\u001b[A\n",
            "25it [00:09,  2.68it/s]\u001b[A\n",
            "26it [00:09,  2.98it/s]\u001b[A\n",
            "27it [00:09,  3.20it/s]\u001b[A\n",
            "28it [00:09,  3.44it/s]\u001b[A\n",
            "29it [00:10,  3.49it/s]\u001b[A\n",
            "30it [00:10,  3.59it/s]\u001b[A\n",
            "31it [00:10,  3.52it/s]\u001b[A\n",
            "32it [00:11,  3.65it/s]\u001b[A\n",
            "33it [00:11,  3.80it/s]\u001b[A\n",
            "34it [00:11,  3.96it/s]\u001b[A\n",
            "35it [00:11,  3.91it/s]\u001b[A\n",
            "36it [00:11,  4.02it/s]\u001b[A\n",
            "37it [00:12,  4.00it/s]\u001b[A\n",
            "38it [00:12,  4.00it/s]\u001b[A\n",
            "39it [00:12,  3.86it/s]\u001b[A\n",
            "40it [00:13,  3.94it/s]\u001b[A\n",
            "41it [00:13,  3.85it/s]\u001b[A\n",
            "42it [00:13,  3.80it/s]\u001b[A\n",
            "43it [00:13,  3.81it/s]\u001b[A\n",
            "44it [00:14,  3.83it/s]\u001b[A\n",
            "45it [00:14,  3.89it/s]\u001b[A\n",
            "46it [00:14,  3.94it/s]\u001b[A\n",
            "47it [00:14,  3.83it/s]\u001b[A\n",
            "48it [00:15,  3.90it/s]\u001b[A\n",
            "49it [00:15,  3.56it/s]\u001b[A\n",
            "50it [00:15,  3.64it/s]\u001b[A\n",
            "51it [00:15,  3.78it/s]\u001b[A\n",
            "52it [00:16,  3.79it/s]\u001b[A\n",
            "53it [00:16,  3.34it/s]\u001b[A\n",
            "54it [00:16,  3.38it/s]\u001b[A\n",
            "55it [00:17,  3.33it/s]\u001b[A\n",
            "56it [00:17,  3.42it/s]\u001b[A\n",
            "57it [00:17,  3.49it/s]\u001b[A\n",
            "58it [00:18,  3.53it/s]\u001b[A\n",
            "59it [00:18,  3.61it/s]\u001b[A\n",
            "60it [00:18,  3.67it/s]\u001b[A\n",
            "61it [00:18,  3.74it/s]\u001b[A\n",
            "62it [00:19,  3.61it/s]\u001b[A\n",
            "63it [00:19,  2.90it/s]\u001b[A\n",
            "64it [00:19,  2.96it/s]\u001b[A\n",
            "65it [00:20,  2.83it/s]\u001b[A\n",
            "66it [00:20,  2.61it/s]\u001b[A\n",
            "67it [00:21,  2.48it/s]\u001b[A\n",
            "68it [00:21,  2.66it/s]\u001b[A\n",
            "69it [00:21,  2.81it/s]\u001b[A\n",
            "70it [00:22,  2.63it/s]\u001b[A\n",
            "71it [00:22,  2.84it/s]\u001b[A\n",
            "72it [00:22,  2.62it/s]\u001b[A\n",
            "73it [00:23,  2.68it/s]\u001b[A\n",
            "74it [00:23,  2.65it/s]\u001b[A\n",
            "75it [00:24,  2.76it/s]\u001b[A\n",
            "76it [00:24,  2.72it/s]\u001b[A\n",
            "77it [00:24,  2.62it/s]\u001b[A\n",
            "78it [00:25,  2.61it/s]\u001b[A\n",
            "79it [00:25,  2.75it/s]\u001b[A\n",
            "80it [00:25,  2.75it/s]\u001b[A\n",
            "81it [00:26,  2.94it/s]\u001b[A\n",
            "82it [00:26,  2.87it/s]\u001b[A\n",
            "83it [00:26,  2.85it/s]\u001b[A\n",
            "84it [00:27,  3.01it/s]\u001b[A\n",
            "85it [00:27,  3.23it/s]\u001b[A\n",
            "86it [00:27,  3.29it/s]\u001b[A\n",
            "87it [00:28,  3.47it/s]\u001b[A\n",
            "88it [00:28,  3.64it/s]\u001b[A\n",
            "89it [00:28,  3.74it/s]\u001b[A\n",
            "90it [00:28,  3.71it/s]\u001b[A\n",
            "91it [00:29,  3.75it/s]\u001b[A\n",
            "92it [00:29,  3.82it/s]\u001b[A\n",
            "93it [00:29,  3.80it/s]\u001b[A\n",
            "94it [00:29,  3.66it/s]\u001b[A\n",
            "95it [00:30,  3.76it/s]\u001b[A\n",
            "96it [00:30,  3.75it/s]\u001b[A\n",
            "97it [00:30,  3.82it/s]\u001b[A\n",
            "98it [00:30,  3.76it/s]\u001b[A\n",
            "99it [00:31,  3.81it/s]\u001b[A\n",
            "100it [00:31,  3.87it/s]\u001b[A\n",
            "101it [00:31,  3.89it/s]\u001b[A\n",
            "102it [00:31,  3.93it/s]\u001b[A\n",
            "103it [00:32,  3.90it/s]\u001b[A\n",
            "104it [00:32,  3.89it/s]\u001b[A\n",
            "105it [00:32,  3.79it/s]\u001b[A\n",
            "106it [00:32,  3.80it/s]\u001b[A\n",
            "107it [00:33,  3.91it/s]\u001b[A\n",
            "108it [00:33,  4.43it/s]\u001b[A\n",
            "109it [00:33,  4.73it/s]\u001b[A\n",
            "110it [00:33,  5.20it/s]\u001b[A\n",
            "111it [00:33,  4.99it/s]\u001b[A\n",
            "112it [00:34,  4.70it/s]\u001b[A\n",
            "113it [00:34,  5.17it/s]\u001b[A\n",
            "114it [00:34,  5.76it/s]\u001b[A\n",
            "115it [00:34,  6.02it/s]\u001b[A\n",
            "116it [00:34,  6.28it/s]\u001b[A\n",
            "117it [00:34,  5.98it/s]\u001b[A\n",
            "118it [00:35,  5.99it/s]\u001b[A\n",
            "119it [00:35,  6.14it/s]\u001b[A\n",
            "120it [00:35,  6.31it/s]\u001b[A\n",
            "121it [00:35,  6.52it/s]\u001b[A\n",
            "122it [00:35,  6.66it/s]\u001b[A\n",
            "123it [00:35,  6.36it/s]\u001b[A\n",
            "124it [00:36,  6.27it/s]\u001b[A\n",
            "125it [00:36,  6.29it/s]\u001b[A\n",
            "126it [00:36,  6.17it/s]\u001b[A\n",
            "127it [00:36,  5.19it/s]\u001b[A\n",
            "128it [00:36,  4.21it/s]\u001b[A\n",
            "129it [00:37,  2.63it/s]\u001b[A\n",
            "130it [00:38,  2.40it/s]\u001b[A\n",
            "131it [00:38,  2.53it/s]\u001b[A\n",
            "132it [00:38,  2.66it/s]\u001b[A\n",
            "133it [00:39,  2.67it/s]\u001b[A\n",
            "134it [00:39,  2.52it/s]\u001b[A\n",
            "135it [00:40,  2.25it/s]\u001b[A\n",
            "136it [00:40,  2.26it/s]\u001b[A\n",
            "137it [00:41,  2.28it/s]\u001b[A\n",
            "138it [00:41,  2.36it/s]\u001b[A\n",
            "139it [00:41,  2.38it/s]\u001b[A\n",
            "140it [00:42,  2.36it/s]\u001b[A\n",
            "141it [00:42,  2.50it/s]\u001b[A\n",
            "142it [00:43,  2.25it/s]\u001b[A\n",
            "143it [00:43,  2.42it/s]\u001b[A\n",
            "144it [00:43,  2.44it/s]\u001b[A\n",
            "145it [00:44,  2.77it/s]\u001b[A\n",
            "146it [00:44,  3.03it/s]\u001b[A\n",
            "147it [00:44,  3.22it/s]\u001b[A\n",
            "148it [00:44,  3.42it/s]\u001b[A\n",
            "149it [00:45,  3.58it/s]\u001b[A\n",
            "150it [00:45,  3.63it/s]\u001b[A\n",
            "151it [00:45,  3.72it/s]\u001b[A\n",
            "152it [00:45,  3.76it/s]\u001b[A\n",
            "153it [00:46,  3.85it/s]\u001b[A\n",
            "154it [00:46,  3.89it/s]\u001b[A\n",
            "155it [00:46,  3.75it/s]\u001b[A\n",
            "156it [00:47,  3.86it/s]\u001b[A\n",
            "157it [00:47,  4.01it/s]\u001b[A\n",
            "158it [00:47,  4.14it/s]\u001b[A\n",
            "159it [00:47,  3.96it/s]\u001b[A\n",
            "160it [00:47,  3.94it/s]\u001b[A\n",
            "161it [00:48,  4.09it/s]\u001b[A\n",
            "162it [00:48,  4.00it/s]\u001b[A\n",
            "163it [00:48,  4.02it/s]\u001b[A\n",
            "164it [00:48,  4.02it/s]\u001b[A\n",
            "165it [00:49,  4.04it/s]\u001b[A\n",
            "166it [00:49,  3.87it/s]\u001b[A\n",
            "167it [00:49,  3.90it/s]\u001b[A\n",
            "168it [00:49,  3.98it/s]\u001b[A\n",
            "169it [00:50,  4.03it/s]\u001b[A\n",
            "170it [00:50,  4.06it/s]\u001b[A\n",
            "171it [00:50,  3.99it/s]\u001b[A\n",
            "172it [00:51,  3.94it/s]\u001b[A\n",
            "173it [00:51,  4.13it/s]\u001b[A\n",
            "174it [00:51,  3.93it/s]\u001b[A\n",
            "175it [00:51,  4.02it/s]\u001b[A\n",
            "176it [00:51,  3.94it/s]\u001b[A\n",
            "177it [00:52,  4.03it/s]\u001b[A\n",
            "178it [00:52,  3.64it/s]\u001b[A\n",
            "179it [00:52,  3.73it/s]\u001b[A\n",
            "180it [00:53,  3.69it/s]\u001b[A\n",
            "181it [00:53,  3.71it/s]\u001b[A\n",
            "182it [00:53,  3.77it/s]\u001b[A\n",
            "183it [00:53,  3.59it/s]\u001b[A\n",
            "184it [00:54,  3.19it/s]\u001b[A\n",
            "185it [00:54,  3.08it/s]\u001b[A\n",
            "186it [00:55,  2.82it/s]\u001b[A\n",
            "187it [00:55,  2.81it/s]\u001b[A\n",
            "188it [02:21, 25.98s/it]\u001b[A\n",
            "189it [04:08, 50.49s/it]\u001b[A\n",
            "190it [05:53, 66.65s/it]\u001b[A\n",
            "191it [07:51, 82.08s/it]\u001b[A\n",
            "192it [08:43, 73.01s/it]\u001b[A\n",
            "193it [08:43, 51.24s/it]\u001b[A\n",
            "194it [08:44, 36.02s/it]\u001b[A\n",
            "195it [08:44, 25.31s/it]\u001b[A\n",
            "196it [08:44, 17.83s/it]\u001b[A\n",
            "197it [08:45, 12.60s/it]\u001b[A\n",
            "198it [08:45,  8.94s/it]\u001b[A\n",
            "199it [08:45,  6.36s/it]\u001b[A\n",
            "200it [08:46,  4.56s/it]\u001b[A\n",
            "201it [08:46,  3.27s/it]\u001b[A\n",
            "202it [08:47,  2.42s/it]\u001b[A\n",
            "203it [08:47,  1.82s/it]\u001b[A\n",
            "204it [08:47,  1.39s/it]\u001b[A\n",
            "205it [08:48,  1.11s/it]\u001b[A\n",
            "206it [08:48,  1.15it/s]\u001b[A\n",
            "207it [08:49,  1.32it/s]\u001b[A\n",
            "208it [08:49,  1.54it/s]\u001b[A\n",
            "209it [08:49,  1.81it/s]\u001b[A\n",
            "210it [08:50,  2.02it/s]\u001b[A\n",
            "211it [08:50,  2.15it/s]\u001b[A\n",
            "212it [08:50,  2.49it/s]\u001b[A\n",
            "213it [08:51,  2.78it/s]\u001b[A\n",
            "214it [08:51,  2.48s/it]\n",
            "0it [08:51, ?it/s]\n"
          ]
        }
      ]
    },
    {
      "cell_type": "code",
      "source": [
        "# Contar amostras por classe\n",
        "count_per_class = df['label'].value_counts()\n",
        "print(\"Contagem de amostras por classe antes de balancear:\", count_per_class)"
      ],
      "metadata": {
        "colab": {
          "base_uri": "https://localhost:8080/"
        },
        "id": "qD6j_QY_cVIo",
        "outputId": "c2d4825c-af4a-4010-fa0c-dd4af616b4ba"
      },
      "execution_count": 35,
      "outputs": [
        {
          "output_type": "stream",
          "name": "stdout",
          "text": [
            "Contagem de amostras por classe antes de balancear: label\n",
            "3    11027\n",
            "4     2166\n",
            "0     1993\n",
            "2     1993\n",
            "1     1831\n",
            "Name: count, dtype: int64\n"
          ]
        }
      ]
    },
    {
      "cell_type": "markdown",
      "source": [
        "## Classe 1"
      ],
      "metadata": {
        "id": "ZTKGpJxdUTNb"
      }
    },
    {
      "cell_type": "code",
      "source": [
        "class_1 = df[df['label'] == 1]\n",
        "\n",
        "datagen = ImageDataGenerator(\n",
        "    rotation_range=20,\n",
        "    width_shift_range=0.2,\n",
        "    height_shift_range=0.2,\n",
        "    shear_range=0.15,\n",
        "    zoom_range=0.1,\n",
        "    horizontal_flip=True,\n",
        "    fill_mode='nearest'\n",
        ")\n",
        "\n",
        "# Número de imagens a gerar\n",
        "num_new_images = len(train_data[train_data['label'] == 2]) - len(train_data[train_data['label'] == 1])  # 162\n",
        "\n",
        "# Contador para novas imagens\n",
        "new_images_count = 0\n",
        "\n",
        "# Gerar novas imagens\n",
        "for index, row in tqdm(class_1.iterrows(), total=class_1.shape[0]):\n",
        "    img_path = os.path.join(image_path, row['image_id'])\n",
        "    if os.path.exists(img_path):\n",
        "        img = Image.open(img_path)\n",
        "        img = img.convert('RGB')\n",
        "        x = np.array(img)\n",
        "        x = x.reshape((1,) + x.shape)\n",
        "\n",
        "        # Gerar novas imagens\n",
        "        for batch in tqdm(datagen.flow(x, batch_size=1), total=num_new_images):\n",
        "            new_image = Image.fromarray(batch[0].astype('uint8'), 'RGB')\n",
        "            new_image_id = f\"{row['image_id'].split('.')[0]}_aug_{new_images_count}.jpg\"\n",
        "            new_image.save(os.path.join(image_path, new_image_id))\n",
        "            new_row = pd.DataFrame({'image_id': [new_image_id], 'label': [1]})\n",
        "            df = pd.concat([df, new_row], ignore_index=True)\n",
        "            new_images_count += 1\n",
        "\n",
        "            if new_images_count >= num_new_images:\n",
        "                break\n",
        "        if new_images_count >= num_new_images:\n",
        "            break\n",
        "\n",
        "df.to_csv(csv_path, index=False)"
      ],
      "metadata": {
        "colab": {
          "base_uri": "https://localhost:8080/"
        },
        "id": "pumer0PRWSOj",
        "outputId": "95a2f572-a50c-41a3-b196-8a559b8707c9"
      },
      "execution_count": 36,
      "outputs": [
        {
          "output_type": "stream",
          "name": "stderr",
          "text": [
            "  0%|          | 0/1831 [00:00<?, ?it/s]\n",
            "  0%|          | 0/162 [00:00<?, ?it/s]\u001b[A\n",
            "  1%|          | 1/162 [00:00<01:39,  1.62it/s]\u001b[A\n",
            "  1%|          | 2/162 [00:01<01:16,  2.08it/s]\u001b[A\n",
            "  2%|▏         | 3/162 [00:01<00:59,  2.67it/s]\u001b[A\n",
            "  2%|▏         | 4/162 [00:01<00:50,  3.14it/s]\u001b[A\n",
            "  3%|▎         | 5/162 [00:01<00:48,  3.25it/s]\u001b[A\n",
            "  4%|▎         | 6/162 [00:02<00:45,  3.42it/s]\u001b[A\n",
            "  4%|▍         | 7/162 [00:02<00:42,  3.62it/s]\u001b[A\n",
            "  5%|▍         | 8/162 [00:02<00:51,  2.99it/s]\u001b[A\n",
            "  6%|▌         | 9/162 [00:03<00:58,  2.62it/s]\u001b[A\n",
            "  6%|▌         | 10/162 [00:03<01:04,  2.37it/s]\u001b[A\n",
            "  7%|▋         | 11/162 [00:04<01:06,  2.26it/s]\u001b[A\n",
            "  7%|▋         | 12/162 [00:04<01:12,  2.08it/s]\u001b[A\n",
            "  8%|▊         | 13/162 [00:05<01:06,  2.25it/s]\u001b[A\n",
            "  9%|▊         | 14/162 [00:05<00:57,  2.55it/s]\u001b[A\n",
            "  9%|▉         | 15/162 [00:05<00:52,  2.78it/s]\u001b[A\n",
            " 10%|▉         | 16/162 [00:05<00:47,  3.06it/s]\u001b[A\n",
            " 10%|█         | 17/162 [00:06<00:47,  3.06it/s]\u001b[A\n",
            " 11%|█         | 18/162 [00:06<00:44,  3.27it/s]\u001b[A\n",
            " 12%|█▏        | 19/162 [00:06<00:41,  3.45it/s]\u001b[A\n",
            " 12%|█▏        | 20/162 [00:07<00:39,  3.61it/s]\u001b[A\n",
            " 13%|█▎        | 21/162 [00:07<00:39,  3.57it/s]\u001b[A\n",
            " 14%|█▎        | 22/162 [00:07<00:38,  3.66it/s]\u001b[A\n",
            " 14%|█▍        | 23/162 [00:07<00:37,  3.70it/s]\u001b[A\n",
            " 15%|█▍        | 24/162 [00:08<00:37,  3.70it/s]\u001b[A\n",
            " 15%|█▌        | 25/162 [00:08<00:37,  3.66it/s]\u001b[A\n",
            " 16%|█▌        | 26/162 [00:08<00:37,  3.68it/s]\u001b[A\n",
            " 17%|█▋        | 27/162 [00:08<00:36,  3.72it/s]\u001b[A\n",
            " 17%|█▋        | 28/162 [00:09<00:36,  3.65it/s]\u001b[A\n",
            " 18%|█▊        | 29/162 [00:09<00:37,  3.56it/s]\u001b[A\n",
            " 19%|█▊        | 30/162 [00:09<00:37,  3.50it/s]\u001b[A\n",
            " 19%|█▉        | 31/162 [00:10<00:36,  3.60it/s]\u001b[A\n",
            " 20%|█▉        | 32/162 [00:10<00:34,  3.77it/s]\u001b[A\n",
            " 20%|██        | 33/162 [00:10<00:33,  3.82it/s]\u001b[A\n",
            " 21%|██        | 34/162 [00:10<00:33,  3.87it/s]\u001b[A\n",
            " 22%|██▏       | 35/162 [00:11<00:32,  3.93it/s]\u001b[A\n",
            " 22%|██▏       | 36/162 [00:11<00:32,  3.93it/s]\u001b[A\n",
            " 23%|██▎       | 37/162 [00:11<00:32,  3.83it/s]\u001b[A\n",
            " 23%|██▎       | 38/162 [00:11<00:32,  3.86it/s]\u001b[A\n",
            " 24%|██▍       | 39/162 [00:12<00:31,  3.91it/s]\u001b[A\n",
            " 25%|██▍       | 40/162 [00:12<00:30,  3.99it/s]\u001b[A\n",
            " 25%|██▌       | 41/162 [00:12<00:29,  4.14it/s]\u001b[A\n",
            " 26%|██▌       | 42/162 [00:12<00:25,  4.66it/s]\u001b[A\n",
            " 27%|██▋       | 43/162 [00:12<00:22,  5.29it/s]\u001b[A\n",
            " 27%|██▋       | 44/162 [00:12<00:20,  5.68it/s]\u001b[A\n",
            " 28%|██▊       | 45/162 [00:13<00:19,  5.85it/s]\u001b[A\n",
            " 28%|██▊       | 46/162 [00:13<00:22,  5.11it/s]\u001b[A\n",
            " 29%|██▉       | 47/162 [00:13<00:21,  5.38it/s]\u001b[A\n",
            " 30%|██▉       | 48/162 [00:13<00:20,  5.61it/s]\u001b[A\n",
            " 30%|███       | 49/162 [00:13<00:18,  5.96it/s]\u001b[A\n",
            " 31%|███       | 50/162 [00:14<00:18,  6.22it/s]\u001b[A\n",
            " 31%|███▏      | 51/162 [00:14<00:17,  6.45it/s]\u001b[A\n",
            " 32%|███▏      | 52/162 [00:14<00:16,  6.48it/s]\u001b[A\n",
            " 33%|███▎      | 53/162 [00:14<00:16,  6.62it/s]\u001b[A\n",
            " 33%|███▎      | 54/162 [00:14<00:16,  6.71it/s]\u001b[A\n",
            " 34%|███▍      | 55/162 [00:14<00:16,  6.60it/s]\u001b[A\n",
            " 35%|███▍      | 56/162 [00:14<00:15,  6.78it/s]\u001b[A\n",
            " 35%|███▌      | 57/162 [00:15<00:15,  6.83it/s]\u001b[A\n",
            " 36%|███▌      | 58/162 [00:15<00:15,  6.76it/s]\u001b[A\n",
            " 36%|███▋      | 59/162 [00:15<00:15,  6.70it/s]\u001b[A\n",
            " 37%|███▋      | 60/162 [00:15<00:14,  6.91it/s]\u001b[A\n",
            " 38%|███▊      | 61/162 [00:15<00:14,  6.91it/s]\u001b[A\n",
            " 38%|███▊      | 62/162 [00:15<00:15,  6.56it/s]\u001b[A\n",
            " 39%|███▉      | 63/162 [00:15<00:14,  6.64it/s]\u001b[A\n",
            " 40%|███▉      | 64/162 [00:16<00:14,  6.92it/s]\u001b[A\n",
            " 40%|████      | 65/162 [00:16<00:14,  6.58it/s]\u001b[A\n",
            " 41%|████      | 66/162 [00:16<00:14,  6.60it/s]\u001b[A\n",
            " 41%|████▏     | 67/162 [00:16<00:14,  6.74it/s]\u001b[A\n",
            " 42%|████▏     | 68/162 [00:16<00:14,  6.70it/s]\u001b[A\n",
            " 43%|████▎     | 69/162 [00:16<00:13,  6.80it/s]\u001b[A\n",
            " 43%|████▎     | 70/162 [00:16<00:13,  6.88it/s]\u001b[A\n",
            " 44%|████▍     | 71/162 [00:17<00:13,  6.94it/s]\u001b[A\n",
            " 44%|████▍     | 72/162 [00:17<00:12,  7.02it/s]\u001b[A\n",
            " 45%|████▌     | 73/162 [00:17<00:12,  7.25it/s]\u001b[A\n",
            " 46%|████▌     | 74/162 [00:17<00:12,  7.11it/s]\u001b[A\n",
            " 46%|████▋     | 75/162 [00:17<00:11,  7.30it/s]\u001b[A\n",
            " 47%|████▋     | 76/162 [00:17<00:12,  6.79it/s]\u001b[A\n",
            " 48%|████▊     | 77/162 [00:17<00:12,  6.81it/s]\u001b[A\n",
            " 48%|████▊     | 78/162 [00:18<00:12,  6.53it/s]\u001b[A\n",
            " 49%|████▉     | 79/162 [00:18<00:12,  6.43it/s]\u001b[A\n",
            " 49%|████▉     | 80/162 [00:18<00:12,  6.61it/s]\u001b[A\n",
            " 50%|█████     | 81/162 [00:18<00:12,  6.37it/s]\u001b[A\n",
            " 51%|█████     | 82/162 [00:18<00:12,  6.40it/s]\u001b[A\n",
            " 51%|█████     | 83/162 [00:18<00:12,  6.47it/s]\u001b[A\n",
            " 52%|█████▏    | 84/162 [00:19<00:11,  6.63it/s]\u001b[A\n",
            " 52%|█████▏    | 85/162 [00:19<00:11,  6.71it/s]\u001b[A\n",
            " 53%|█████▎    | 86/162 [00:19<00:11,  6.72it/s]\u001b[A\n",
            " 54%|█████▎    | 87/162 [00:19<00:10,  6.88it/s]\u001b[A\n",
            " 54%|█████▍    | 88/162 [00:19<00:11,  6.72it/s]\u001b[A\n",
            " 55%|█████▍    | 89/162 [00:19<00:10,  6.71it/s]\u001b[A\n",
            " 56%|█████▌    | 90/162 [00:19<00:10,  6.69it/s]\u001b[A\n",
            " 56%|█████▌    | 91/162 [00:20<00:10,  6.54it/s]\u001b[A\n",
            " 57%|█████▋    | 92/162 [00:20<00:10,  6.70it/s]\u001b[A\n",
            " 57%|█████▋    | 93/162 [00:20<00:10,  6.63it/s]\u001b[A\n",
            " 58%|█████▊    | 94/162 [00:20<00:10,  6.46it/s]\u001b[A\n",
            " 59%|█████▊    | 95/162 [00:20<00:10,  6.42it/s]\u001b[A\n",
            " 59%|█████▉    | 96/162 [00:20<00:10,  6.55it/s]\u001b[A\n",
            " 60%|█████▉    | 97/162 [00:20<00:09,  6.74it/s]\u001b[A\n",
            " 60%|██████    | 98/162 [00:21<00:09,  6.62it/s]\u001b[A\n",
            " 61%|██████    | 99/162 [00:21<00:09,  6.41it/s]\u001b[A\n",
            " 62%|██████▏   | 100/162 [00:21<00:09,  6.52it/s]\u001b[A\n",
            " 62%|██████▏   | 101/162 [00:21<00:09,  6.52it/s]\u001b[A\n",
            " 63%|██████▎   | 102/162 [00:21<00:09,  6.56it/s]\u001b[A\n",
            " 64%|██████▎   | 103/162 [00:21<00:09,  6.36it/s]\u001b[A\n",
            " 64%|██████▍   | 104/162 [00:22<00:09,  6.11it/s]\u001b[A\n",
            " 65%|██████▍   | 105/162 [00:22<00:09,  6.18it/s]\u001b[A\n",
            " 65%|██████▌   | 106/162 [00:22<00:08,  6.45it/s]\u001b[A\n",
            " 66%|██████▌   | 107/162 [00:22<00:08,  6.11it/s]\u001b[A\n",
            " 67%|██████▋   | 108/162 [00:22<00:09,  5.47it/s]\u001b[A\n",
            " 67%|██████▋   | 109/162 [00:23<00:10,  4.92it/s]\u001b[A\n",
            " 68%|██████▊   | 110/162 [00:23<00:11,  4.66it/s]\u001b[A\n",
            " 69%|██████▊   | 111/162 [00:23<00:11,  4.52it/s]\u001b[A\n",
            " 69%|██████▉   | 112/162 [00:23<00:11,  4.28it/s]\u001b[A\n",
            " 70%|██████▉   | 113/162 [00:24<00:12,  4.07it/s]\u001b[A\n",
            " 70%|███████   | 114/162 [00:24<00:11,  4.14it/s]\u001b[A\n",
            " 71%|███████   | 115/162 [00:24<00:11,  4.05it/s]\u001b[A\n",
            " 72%|███████▏  | 116/162 [00:24<00:11,  3.94it/s]\u001b[A\n",
            " 72%|███████▏  | 117/162 [00:25<00:11,  3.98it/s]\u001b[A\n",
            " 73%|███████▎  | 118/162 [00:25<00:11,  3.95it/s]\u001b[A\n",
            " 73%|███████▎  | 119/162 [00:25<00:10,  3.99it/s]\u001b[A\n",
            " 74%|███████▍  | 120/162 [00:25<00:11,  3.78it/s]\u001b[A\n",
            " 75%|███████▍  | 121/162 [00:26<00:10,  3.77it/s]\u001b[A\n",
            " 75%|███████▌  | 122/162 [00:26<00:10,  3.88it/s]\u001b[A\n",
            " 76%|███████▌  | 123/162 [00:26<00:10,  3.85it/s]\u001b[A\n",
            " 77%|███████▋  | 124/162 [00:26<00:09,  3.96it/s]\u001b[A\n",
            " 77%|███████▋  | 125/162 [00:27<00:09,  4.04it/s]\u001b[A\n",
            " 78%|███████▊  | 126/162 [00:27<00:09,  3.89it/s]\u001b[A\n",
            " 78%|███████▊  | 127/162 [00:27<00:09,  3.89it/s]\u001b[A\n",
            " 79%|███████▉  | 128/162 [00:27<00:08,  3.97it/s]\u001b[A\n",
            " 80%|███████▉  | 129/162 [00:28<00:08,  4.09it/s]\u001b[A\n",
            " 80%|████████  | 130/162 [00:28<00:07,  4.46it/s]\u001b[A\n",
            " 81%|████████  | 131/162 [00:28<00:06,  4.92it/s]\u001b[A\n",
            " 81%|████████▏ | 132/162 [00:28<00:05,  5.27it/s]\u001b[A\n",
            " 82%|████████▏ | 133/162 [00:28<00:05,  5.69it/s]\u001b[A\n",
            " 83%|████████▎ | 134/162 [00:28<00:04,  6.00it/s]\u001b[A\n",
            " 83%|████████▎ | 135/162 [00:29<00:04,  6.26it/s]\u001b[A\n",
            " 84%|████████▍ | 136/162 [00:29<00:04,  6.26it/s]\u001b[A\n",
            " 85%|████████▍ | 137/162 [00:29<00:04,  6.20it/s]\u001b[A\n",
            " 85%|████████▌ | 138/162 [00:29<00:03,  6.61it/s]\u001b[A\n",
            " 86%|████████▌ | 139/162 [00:29<00:03,  6.67it/s]\u001b[A\n",
            " 86%|████████▋ | 140/162 [00:29<00:03,  6.53it/s]\u001b[A\n",
            " 87%|████████▋ | 141/162 [00:29<00:03,  6.68it/s]\u001b[A\n",
            " 88%|████████▊ | 142/162 [00:30<00:03,  6.55it/s]\u001b[A\n",
            " 88%|████████▊ | 143/162 [00:30<00:02,  6.98it/s]\u001b[A\n",
            " 89%|████████▉ | 144/162 [00:30<00:02,  6.78it/s]\u001b[A\n",
            " 90%|████████▉ | 145/162 [00:30<00:02,  6.81it/s]\u001b[A\n",
            " 90%|█████████ | 146/162 [00:30<00:02,  6.67it/s]\u001b[A\n",
            " 91%|█████████ | 147/162 [00:30<00:02,  7.02it/s]\u001b[A\n",
            " 91%|█████████▏| 148/162 [00:30<00:02,  6.72it/s]\u001b[A\n",
            " 92%|█████████▏| 149/162 [00:31<00:01,  6.96it/s]\u001b[A\n",
            " 93%|█████████▎| 150/162 [00:31<00:01,  6.97it/s]\u001b[A\n",
            " 93%|█████████▎| 151/162 [00:31<00:01,  6.84it/s]\u001b[A\n",
            " 94%|█████████▍| 152/162 [00:31<00:01,  6.72it/s]\u001b[A\n",
            " 94%|█████████▍| 153/162 [00:31<00:01,  6.38it/s]\u001b[A\n",
            " 95%|█████████▌| 154/162 [00:31<00:01,  6.56it/s]\u001b[A\n",
            " 96%|█████████▌| 155/162 [00:32<00:01,  6.54it/s]\u001b[A\n",
            " 96%|█████████▋| 156/162 [00:32<00:00,  6.62it/s]\u001b[A\n",
            " 97%|█████████▋| 157/162 [00:32<00:00,  6.69it/s]\u001b[A\n",
            " 98%|█████████▊| 158/162 [00:32<00:00,  6.59it/s]\u001b[A\n",
            " 98%|█████████▊| 159/162 [00:32<00:00,  6.67it/s]\u001b[A\n",
            " 99%|█████████▉| 160/162 [00:32<00:00,  6.58it/s]\u001b[A\n",
            " 99%|█████████▉| 161/162 [00:33<00:00,  4.86it/s]\n",
            "  0%|          | 0/1831 [00:33<?, ?it/s]\n"
          ]
        }
      ]
    },
    {
      "cell_type": "code",
      "source": [
        "count_per_class = df['label'].value_counts()\n",
        "print(\"Contagem de amostras por classe antes de balancear:\", count_per_class)"
      ],
      "metadata": {
        "colab": {
          "base_uri": "https://localhost:8080/"
        },
        "id": "oQeiph6Nf5J-",
        "outputId": "f85b702f-23b1-488e-fd90-b047825f2fcd"
      },
      "execution_count": 37,
      "outputs": [
        {
          "output_type": "stream",
          "name": "stdout",
          "text": [
            "Contagem de amostras por classe antes de balancear: label\n",
            "3    11027\n",
            "4     2166\n",
            "0     1993\n",
            "1     1993\n",
            "2     1993\n",
            "Name: count, dtype: int64\n"
          ]
        }
      ]
    },
    {
      "cell_type": "markdown",
      "source": [
        "## Teste"
      ],
      "metadata": {
        "id": "AbwMswD-UTNc"
      }
    },
    {
      "cell_type": "markdown",
      "source": [
        "### Classe 3"
      ],
      "metadata": {
        "id": "xel4_Yiciybl"
      }
    },
    {
      "cell_type": "code",
      "source": [
        "import pandas as pd\n",
        "\n",
        "while len(test_data[test_data['label'] == 3]) > len(test_data[test_data['label'] == 2]):\n",
        "    index_to_drop = test_data[test_data['label'] == 3].index[0]\n",
        "    test_data = test_data.drop(index_to_drop)"
      ],
      "metadata": {
        "id": "5JlBE2cYi0Lw"
      },
      "execution_count": 9,
      "outputs": []
    },
    {
      "cell_type": "code",
      "source": [
        "sns.barplot(x=test_data['label'].value_counts().index, y=test_data['label'].value_counts().values)\n",
        "plt.title('Contagem de Categorias - Conjunto de Teste')\n",
        "plt.xlabel('Categorias')\n",
        "plt.ylabel('Contagem')\n",
        "plt.show()"
      ],
      "metadata": {
        "colab": {
          "base_uri": "https://localhost:8080/",
          "height": 472
        },
        "id": "txS56nU5i01q",
        "outputId": "6c267c87-8d8e-44ec-ee4c-ddd897472ad5"
      },
      "execution_count": 16,
      "outputs": [
        {
          "output_type": "display_data",
          "data": {
            "text/plain": [
              "<Figure size 640x480 with 1 Axes>"
            ],
            "image/png": "[encoded data removed]"
          },
          "metadata": {}
        }
      ]
    },
    {
      "cell_type": "markdown",
      "source": [
        "### Classe 4"
      ],
      "metadata": {
        "id": "H7Ce51yYilAW"
      }
    },
    {
      "cell_type": "code",
      "source": [
        "import pandas as pd\n",
        "\n",
        "while len(test_data[test_data['label'] == 4]) > len(test_data[test_data['label'] == 2]):\n",
        "    index_to_drop = test_data[test_data['label'] == 4].index[0]\n",
        "    test_data = test_data.drop(index_to_drop)"
      ],
      "metadata": {
        "id": "MaIn0T1BUTNc"
      },
      "execution_count": 8,
      "outputs": []
    },
    {
      "cell_type": "code",
      "source": [
        "sns.barplot(x=test_data['label'].value_counts().index, y=test_data['label'].value_counts().values)\n",
        "plt.title('Contagem de Categorias - Conjunto de Teste')\n",
        "plt.xlabel('Categorias')\n",
        "plt.ylabel('Contagem')\n",
        "plt.show()"
      ],
      "metadata": {
        "colab": {
          "base_uri": "https://localhost:8080/",
          "height": 472
        },
        "id": "Dii3WU7RjAZu",
        "outputId": "75b5995b-9f95-49eb-d49a-8a6b841ce80b"
      },
      "execution_count": 18,
      "outputs": [
        {
          "output_type": "display_data",
          "data": {
            "text/plain": [
              "<Figure size 640x480 with 1 Axes>"
            ],
            "image/png": "[encoded data removed]"
          },
          "metadata": {}
        }
      ]
    },
    {
      "cell_type": "code",
      "source": [
        "# Contar amostras por classe\n",
        "count_per_class = test_data['label'].value_counts()\n",
        "print(\"Contagem de amostras por classe antes de balancear:\", count_per_class)"
      ],
      "metadata": {
        "colab": {
          "base_uri": "https://localhost:8080/"
        },
        "id": "P6i8k2cJjSlp",
        "outputId": "1ac7ed00-4ccf-4512-aa5e-de878b8fc1a1"
      },
      "execution_count": 19,
      "outputs": [
        {
          "output_type": "stream",
          "name": "stdout",
          "text": [
            "Contagem de amostras por classe antes de balancear: label\n",
            "1    399\n",
            "2    399\n",
            "4    399\n",
            "3    399\n",
            "0    398\n",
            "Name: count, dtype: int64\n"
          ]
        }
      ]
    },
    {
      "cell_type": "code",
      "source": [
        "test_data.shape"
      ],
      "metadata": {
        "colab": {
          "base_uri": "https://localhost:8080/"
        },
        "id": "I1jRfDPdm2m9",
        "outputId": "e18b51a3-efca-4d7c-b006-03c8464056a3"
      },
      "execution_count": 78,
      "outputs": [
        {
          "output_type": "execute_result",
          "data": {
            "text/plain": [
              "(1994, 3)"
            ]
          },
          "metadata": {},
          "execution_count": 78
        }
      ]
    },
    {
      "cell_type": "code",
      "source": [
        "train_data.shape"
      ],
      "metadata": {
        "colab": {
          "base_uri": "https://localhost:8080/"
        },
        "id": "RsLteqp0m8Ds",
        "outputId": "672cd16f-bc1f-44ef-b090-20e18558b644"
      },
      "execution_count": 79,
      "outputs": [
        {
          "output_type": "execute_result",
          "data": {
            "text/plain": [
              "(15337, 3)"
            ]
          },
          "metadata": {},
          "execution_count": 79
        }
      ]
    },
    {
      "cell_type": "markdown",
      "source": [
        "# Normalização de dados"
      ],
      "metadata": {
        "_uuid": "97bea358-936d-493e-a4fd-f2f23ba8724c",
        "_cell_guid": "27208042-2f24-4273-b4f7-790473f1d9f1",
        "id": "I8TC-9g1V4ss",
        "trusted": true
      }
    },
    {
      "cell_type": "code",
      "source": [
        "from torchvision.io import read_image\n",
        "from torchvision import transforms\n",
        "from torch.utils.data import Dataset, DataLoader\n",
        "import os\n",
        "import torch\n",
        "\n",
        "class CustomImageDataset(Dataset):\n",
        "    def __init__(self, dataframe, transform=None):\n",
        "        self.df = dataframe\n",
        "        self.transform = transform\n",
        "\n",
        "    def __len__(self):\n",
        "        return len(self.df)\n",
        "\n",
        "    def __getitem__(self, idx):\n",
        "        img_path = self.df.iloc[idx, 2]  # Caminho da imagem\n",
        "\n",
        "        # Verificar se o arquivo existe e pode ser lido\n",
        "        if not os.path.exists(img_path):\n",
        "            return None\n",
        "        try:\n",
        "            image = read_image(img_path) / 255.0  # Converte para float e normaliza\n",
        "        except Exception as e:\n",
        "            print(f\"Erro ao ler a imagem {img_path}: {e}\")\n",
        "            return None\n",
        "\n",
        "        label = self.df.iloc[idx, 1]  # Rótulo\n",
        "\n",
        "        if self.transform:\n",
        "            image = self.transform(image)\n",
        "        return image, label\n",
        "\n",
        "# Transformações\n",
        "transform = transforms.Compose([\n",
        "    transforms.Resize([256, 256]),  # Redimensionar imagem\n",
        "    transforms.Normalize(mean=[0.485, 0.456, 0.406], std=[0.229, 0.224, 0.225])  # Normalização ImageNet\n",
        "])\n",
        "\n",
        "train_dataset = CustomImageDataset(train_data, transform=transform)\n",
        "test_dataset = CustomImageDataset(test_data, transform=transform)\n",
        "\n",
        "# Função para filtrar None (imagens que não puderam ser carregadas)\n",
        "def collate_fn(batch):\n",
        "    batch = [item for item in batch if item is not None]\n",
        "    if len(batch) == 0:\n",
        "        return torch.tensor([]), torch.tensor([])\n",
        "    images, labels = zip(*batch)\n",
        "    return torch.stack(images), torch.tensor(labels)\n",
        "\n",
        "train_loader = DataLoader(train_dataset, batch_size=32, shuffle=True, collate_fn=collate_fn)\n",
        "test_loader = DataLoader(test_dataset, batch_size=32, shuffle=False, collate_fn=collate_fn)\n"
      ],
      "metadata": {
        "_uuid": "fefd8b41-9577-4d49-a1cb-76b2ce755a4e",
        "_cell_guid": "6124a9c5-2eba-4be6-a937-0c0accf54997",
        "id": "YRWH9e9PWCE3",
        "jupyter": {
          "outputs_hidden": false
        },
        "trusted": true
      },
      "execution_count": null,
      "outputs": []
    },
    {
      "cell_type": "markdown",
      "source": [
        "# Escolha modelo"
      ],
      "metadata": {
        "_uuid": "c8ae361b-166c-4713-a410-2a0936aa5262",
        "_cell_guid": "75c6e08f-5baa-4768-930e-12370406a02e",
        "id": "LpP2pwcUWCdV",
        "trusted": true
      }
    },
    {
      "cell_type": "code",
      "source": [
        "pip install torchsummary"
      ],
      "metadata": {
        "colab": {
          "base_uri": "https://localhost:8080/"
        },
        "id": "PBWQNSxklYb5",
        "outputId": "df6c8a1c-540d-4645-da54-49735cf9a1eb"
      },
      "execution_count": 75,
      "outputs": [
        {
          "output_type": "stream",
          "name": "stdout",
          "text": [
            "Requirement already satisfied: torchsummary in /usr/local/lib/python3.10/dist-packages (1.5.1)\n"
          ]
        }
      ]
    },
    {
      "cell_type": "code",
      "source": [
        "from torchvision.models.efficientnet import efficientnet_v2_s\n",
        "from torchsummary import summary\n",
        "\n",
        "model.to('cuda' if torch.cuda.is_available() else 'cpu')\n",
        "summary(model, input_size=(3, 224, 224))"
      ],
      "metadata": {
        "colab": {
          "base_uri": "https://localhost:8080/"
        },
        "id": "kcz38OzelE0t",
        "outputId": "ce63c4b6-9bb8-446c-dcdb-3220ec4904fa"
      },
      "execution_count": 77,
      "outputs": [
        {
          "output_type": "stream",
          "name": "stdout",
          "text": [
            "----------------------------------------------------------------\n",
            "        Layer (type)               Output Shape         Param #\n",
            "================================================================\n",
            "            Conv2d-1         [-1, 24, 112, 112]             648\n",
            "       BatchNorm2d-2         [-1, 24, 112, 112]              48\n",
            "              SiLU-3         [-1, 24, 112, 112]               0\n",
            "            Conv2d-4         [-1, 24, 112, 112]           5,184\n",
            "       BatchNorm2d-5         [-1, 24, 112, 112]              48\n",
            "              SiLU-6         [-1, 24, 112, 112]               0\n",
            "   StochasticDepth-7         [-1, 24, 112, 112]               0\n",
            "       FusedMBConv-8         [-1, 24, 112, 112]               0\n",
            "            Conv2d-9         [-1, 24, 112, 112]           5,184\n",
            "      BatchNorm2d-10         [-1, 24, 112, 112]              48\n",
            "             SiLU-11         [-1, 24, 112, 112]               0\n",
            "  StochasticDepth-12         [-1, 24, 112, 112]               0\n",
            "      FusedMBConv-13         [-1, 24, 112, 112]               0\n",
            "           Conv2d-14           [-1, 96, 56, 56]          20,736\n",
            "      BatchNorm2d-15           [-1, 96, 56, 56]             192\n",
            "             SiLU-16           [-1, 96, 56, 56]               0\n",
            "           Conv2d-17           [-1, 48, 56, 56]           4,608\n",
            "      BatchNorm2d-18           [-1, 48, 56, 56]              96\n",
            "      FusedMBConv-19           [-1, 48, 56, 56]               0\n",
            "           Conv2d-20          [-1, 192, 56, 56]          82,944\n",
            "      BatchNorm2d-21          [-1, 192, 56, 56]             384\n",
            "             SiLU-22          [-1, 192, 56, 56]               0\n",
            "           Conv2d-23           [-1, 48, 56, 56]           9,216\n",
            "      BatchNorm2d-24           [-1, 48, 56, 56]              96\n",
            "  StochasticDepth-25           [-1, 48, 56, 56]               0\n",
            "      FusedMBConv-26           [-1, 48, 56, 56]               0\n",
            "           Conv2d-27          [-1, 192, 56, 56]          82,944\n",
            "      BatchNorm2d-28          [-1, 192, 56, 56]             384\n",
            "             SiLU-29          [-1, 192, 56, 56]               0\n",
            "           Conv2d-30           [-1, 48, 56, 56]           9,216\n",
            "      BatchNorm2d-31           [-1, 48, 56, 56]              96\n",
            "  StochasticDepth-32           [-1, 48, 56, 56]               0\n",
            "      FusedMBConv-33           [-1, 48, 56, 56]               0\n",
            "           Conv2d-34          [-1, 192, 56, 56]          82,944\n",
            "      BatchNorm2d-35          [-1, 192, 56, 56]             384\n",
            "             SiLU-36          [-1, 192, 56, 56]               0\n",
            "           Conv2d-37           [-1, 48, 56, 56]           9,216\n",
            "      BatchNorm2d-38           [-1, 48, 56, 56]              96\n",
            "  StochasticDepth-39           [-1, 48, 56, 56]               0\n",
            "      FusedMBConv-40           [-1, 48, 56, 56]               0\n",
            "           Conv2d-41          [-1, 192, 28, 28]          82,944\n",
            "      BatchNorm2d-42          [-1, 192, 28, 28]             384\n",
            "             SiLU-43          [-1, 192, 28, 28]               0\n",
            "           Conv2d-44           [-1, 64, 28, 28]          12,288\n",
            "      BatchNorm2d-45           [-1, 64, 28, 28]             128\n",
            "      FusedMBConv-46           [-1, 64, 28, 28]               0\n",
            "           Conv2d-47          [-1, 256, 28, 28]         147,456\n",
            "      BatchNorm2d-48          [-1, 256, 28, 28]             512\n",
            "             SiLU-49          [-1, 256, 28, 28]               0\n",
            "           Conv2d-50           [-1, 64, 28, 28]          16,384\n",
            "      BatchNorm2d-51           [-1, 64, 28, 28]             128\n",
            "  StochasticDepth-52           [-1, 64, 28, 28]               0\n",
            "      FusedMBConv-53           [-1, 64, 28, 28]               0\n",
            "           Conv2d-54          [-1, 256, 28, 28]         147,456\n",
            "      BatchNorm2d-55          [-1, 256, 28, 28]             512\n",
            "             SiLU-56          [-1, 256, 28, 28]               0\n",
            "           Conv2d-57           [-1, 64, 28, 28]          16,384\n",
            "      BatchNorm2d-58           [-1, 64, 28, 28]             128\n",
            "  StochasticDepth-59           [-1, 64, 28, 28]               0\n",
            "      FusedMBConv-60           [-1, 64, 28, 28]               0\n",
            "           Conv2d-61          [-1, 256, 28, 28]         147,456\n",
            "      BatchNorm2d-62          [-1, 256, 28, 28]             512\n",
            "             SiLU-63          [-1, 256, 28, 28]               0\n",
            "           Conv2d-64           [-1, 64, 28, 28]          16,384\n",
            "      BatchNorm2d-65           [-1, 64, 28, 28]             128\n",
            "  StochasticDepth-66           [-1, 64, 28, 28]               0\n",
            "      FusedMBConv-67           [-1, 64, 28, 28]               0\n",
            "           Conv2d-68          [-1, 256, 28, 28]          16,384\n",
            "      BatchNorm2d-69          [-1, 256, 28, 28]             512\n",
            "             SiLU-70          [-1, 256, 28, 28]               0\n",
            "           Conv2d-71          [-1, 256, 14, 14]           2,304\n",
            "      BatchNorm2d-72          [-1, 256, 14, 14]             512\n",
            "             SiLU-73          [-1, 256, 14, 14]               0\n",
            "AdaptiveAvgPool2d-74            [-1, 256, 1, 1]               0\n",
            "           Conv2d-75             [-1, 16, 1, 1]           4,112\n",
            "             SiLU-76             [-1, 16, 1, 1]               0\n",
            "           Conv2d-77            [-1, 256, 1, 1]           4,352\n",
            "          Sigmoid-78            [-1, 256, 1, 1]               0\n",
            "SqueezeExcitation-79          [-1, 256, 14, 14]               0\n",
            "           Conv2d-80          [-1, 128, 14, 14]          32,768\n",
            "      BatchNorm2d-81          [-1, 128, 14, 14]             256\n",
            "           MBConv-82          [-1, 128, 14, 14]               0\n",
            "           Conv2d-83          [-1, 512, 14, 14]          65,536\n",
            "      BatchNorm2d-84          [-1, 512, 14, 14]           1,024\n",
            "             SiLU-85          [-1, 512, 14, 14]               0\n",
            "           Conv2d-86          [-1, 512, 14, 14]           4,608\n",
            "      BatchNorm2d-87          [-1, 512, 14, 14]           1,024\n",
            "             SiLU-88          [-1, 512, 14, 14]               0\n",
            "AdaptiveAvgPool2d-89            [-1, 512, 1, 1]               0\n",
            "           Conv2d-90             [-1, 32, 1, 1]          16,416\n",
            "             SiLU-91             [-1, 32, 1, 1]               0\n",
            "           Conv2d-92            [-1, 512, 1, 1]          16,896\n",
            "          Sigmoid-93            [-1, 512, 1, 1]               0\n",
            "SqueezeExcitation-94          [-1, 512, 14, 14]               0\n",
            "           Conv2d-95          [-1, 128, 14, 14]          65,536\n",
            "      BatchNorm2d-96          [-1, 128, 14, 14]             256\n",
            "  StochasticDepth-97          [-1, 128, 14, 14]               0\n",
            "           MBConv-98          [-1, 128, 14, 14]               0\n",
            "           Conv2d-99          [-1, 512, 14, 14]          65,536\n",
            "     BatchNorm2d-100          [-1, 512, 14, 14]           1,024\n",
            "            SiLU-101          [-1, 512, 14, 14]               0\n",
            "          Conv2d-102          [-1, 512, 14, 14]           4,608\n",
            "     BatchNorm2d-103          [-1, 512, 14, 14]           1,024\n",
            "            SiLU-104          [-1, 512, 14, 14]               0\n",
            "AdaptiveAvgPool2d-105            [-1, 512, 1, 1]               0\n",
            "          Conv2d-106             [-1, 32, 1, 1]          16,416\n",
            "            SiLU-107             [-1, 32, 1, 1]               0\n",
            "          Conv2d-108            [-1, 512, 1, 1]          16,896\n",
            "         Sigmoid-109            [-1, 512, 1, 1]               0\n",
            "SqueezeExcitation-110          [-1, 512, 14, 14]               0\n",
            "          Conv2d-111          [-1, 128, 14, 14]          65,536\n",
            "     BatchNorm2d-112          [-1, 128, 14, 14]             256\n",
            " StochasticDepth-113          [-1, 128, 14, 14]               0\n",
            "          MBConv-114          [-1, 128, 14, 14]               0\n",
            "          Conv2d-115          [-1, 512, 14, 14]          65,536\n",
            "     BatchNorm2d-116          [-1, 512, 14, 14]           1,024\n",
            "            SiLU-117          [-1, 512, 14, 14]               0\n",
            "          Conv2d-118          [-1, 512, 14, 14]           4,608\n",
            "     BatchNorm2d-119          [-1, 512, 14, 14]           1,024\n",
            "            SiLU-120          [-1, 512, 14, 14]               0\n",
            "AdaptiveAvgPool2d-121            [-1, 512, 1, 1]               0\n",
            "          Conv2d-122             [-1, 32, 1, 1]          16,416\n",
            "            SiLU-123             [-1, 32, 1, 1]               0\n",
            "          Conv2d-124            [-1, 512, 1, 1]          16,896\n",
            "         Sigmoid-125            [-1, 512, 1, 1]               0\n",
            "SqueezeExcitation-126          [-1, 512, 14, 14]               0\n",
            "          Conv2d-127          [-1, 128, 14, 14]          65,536\n",
            "     BatchNorm2d-128          [-1, 128, 14, 14]             256\n",
            " StochasticDepth-129          [-1, 128, 14, 14]               0\n",
            "          MBConv-130          [-1, 128, 14, 14]               0\n",
            "          Conv2d-131          [-1, 512, 14, 14]          65,536\n",
            "     BatchNorm2d-132          [-1, 512, 14, 14]           1,024\n",
            "            SiLU-133          [-1, 512, 14, 14]               0\n",
            "          Conv2d-134          [-1, 512, 14, 14]           4,608\n",
            "     BatchNorm2d-135          [-1, 512, 14, 14]           1,024\n",
            "            SiLU-136          [-1, 512, 14, 14]               0\n",
            "AdaptiveAvgPool2d-137            [-1, 512, 1, 1]               0\n",
            "          Conv2d-138             [-1, 32, 1, 1]          16,416\n",
            "            SiLU-139             [-1, 32, 1, 1]               0\n",
            "          Conv2d-140            [-1, 512, 1, 1]          16,896\n",
            "         Sigmoid-141            [-1, 512, 1, 1]               0\n",
            "SqueezeExcitation-142          [-1, 512, 14, 14]               0\n",
            "          Conv2d-143          [-1, 128, 14, 14]          65,536\n",
            "     BatchNorm2d-144          [-1, 128, 14, 14]             256\n",
            " StochasticDepth-145          [-1, 128, 14, 14]               0\n",
            "          MBConv-146          [-1, 128, 14, 14]               0\n",
            "          Conv2d-147          [-1, 512, 14, 14]          65,536\n",
            "     BatchNorm2d-148          [-1, 512, 14, 14]           1,024\n",
            "            SiLU-149          [-1, 512, 14, 14]               0\n",
            "          Conv2d-150          [-1, 512, 14, 14]           4,608\n",
            "     BatchNorm2d-151          [-1, 512, 14, 14]           1,024\n",
            "            SiLU-152          [-1, 512, 14, 14]               0\n",
            "AdaptiveAvgPool2d-153            [-1, 512, 1, 1]               0\n",
            "          Conv2d-154             [-1, 32, 1, 1]          16,416\n",
            "            SiLU-155             [-1, 32, 1, 1]               0\n",
            "          Conv2d-156            [-1, 512, 1, 1]          16,896\n",
            "         Sigmoid-157            [-1, 512, 1, 1]               0\n",
            "SqueezeExcitation-158          [-1, 512, 14, 14]               0\n",
            "          Conv2d-159          [-1, 128, 14, 14]          65,536\n",
            "     BatchNorm2d-160          [-1, 128, 14, 14]             256\n",
            " StochasticDepth-161          [-1, 128, 14, 14]               0\n",
            "          MBConv-162          [-1, 128, 14, 14]               0\n",
            "          Conv2d-163          [-1, 768, 14, 14]          98,304\n",
            "     BatchNorm2d-164          [-1, 768, 14, 14]           1,536\n",
            "            SiLU-165          [-1, 768, 14, 14]               0\n",
            "          Conv2d-166          [-1, 768, 14, 14]           6,912\n",
            "     BatchNorm2d-167          [-1, 768, 14, 14]           1,536\n",
            "            SiLU-168          [-1, 768, 14, 14]               0\n",
            "AdaptiveAvgPool2d-169            [-1, 768, 1, 1]               0\n",
            "          Conv2d-170             [-1, 32, 1, 1]          24,608\n",
            "            SiLU-171             [-1, 32, 1, 1]               0\n",
            "          Conv2d-172            [-1, 768, 1, 1]          25,344\n",
            "         Sigmoid-173            [-1, 768, 1, 1]               0\n",
            "SqueezeExcitation-174          [-1, 768, 14, 14]               0\n",
            "          Conv2d-175          [-1, 160, 14, 14]         122,880\n",
            "     BatchNorm2d-176          [-1, 160, 14, 14]             320\n",
            "          MBConv-177          [-1, 160, 14, 14]               0\n",
            "          Conv2d-178          [-1, 960, 14, 14]         153,600\n",
            "     BatchNorm2d-179          [-1, 960, 14, 14]           1,920\n",
            "            SiLU-180          [-1, 960, 14, 14]               0\n",
            "          Conv2d-181          [-1, 960, 14, 14]           8,640\n",
            "     BatchNorm2d-182          [-1, 960, 14, 14]           1,920\n",
            "            SiLU-183          [-1, 960, 14, 14]               0\n",
            "AdaptiveAvgPool2d-184            [-1, 960, 1, 1]               0\n",
            "          Conv2d-185             [-1, 40, 1, 1]          38,440\n",
            "            SiLU-186             [-1, 40, 1, 1]               0\n",
            "          Conv2d-187            [-1, 960, 1, 1]          39,360\n",
            "         Sigmoid-188            [-1, 960, 1, 1]               0\n",
            "SqueezeExcitation-189          [-1, 960, 14, 14]               0\n",
            "          Conv2d-190          [-1, 160, 14, 14]         153,600\n",
            "     BatchNorm2d-191          [-1, 160, 14, 14]             320\n",
            " StochasticDepth-192          [-1, 160, 14, 14]               0\n",
            "          MBConv-193          [-1, 160, 14, 14]               0\n",
            "          Conv2d-194          [-1, 960, 14, 14]         153,600\n",
            "     BatchNorm2d-195          [-1, 960, 14, 14]           1,920\n",
            "            SiLU-196          [-1, 960, 14, 14]               0\n",
            "          Conv2d-197          [-1, 960, 14, 14]           8,640\n",
            "     BatchNorm2d-198          [-1, 960, 14, 14]           1,920\n",
            "            SiLU-199          [-1, 960, 14, 14]               0\n",
            "AdaptiveAvgPool2d-200            [-1, 960, 1, 1]               0\n",
            "          Conv2d-201             [-1, 40, 1, 1]          38,440\n",
            "            SiLU-202             [-1, 40, 1, 1]               0\n",
            "          Conv2d-203            [-1, 960, 1, 1]          39,360\n",
            "         Sigmoid-204            [-1, 960, 1, 1]               0\n",
            "SqueezeExcitation-205          [-1, 960, 14, 14]               0\n",
            "          Conv2d-206          [-1, 160, 14, 14]         153,600\n",
            "     BatchNorm2d-207          [-1, 160, 14, 14]             320\n",
            " StochasticDepth-208          [-1, 160, 14, 14]               0\n",
            "          MBConv-209          [-1, 160, 14, 14]               0\n",
            "          Conv2d-210          [-1, 960, 14, 14]         153,600\n",
            "     BatchNorm2d-211          [-1, 960, 14, 14]           1,920\n",
            "            SiLU-212          [-1, 960, 14, 14]               0\n",
            "          Conv2d-213          [-1, 960, 14, 14]           8,640\n",
            "     BatchNorm2d-214          [-1, 960, 14, 14]           1,920\n",
            "            SiLU-215          [-1, 960, 14, 14]               0\n",
            "AdaptiveAvgPool2d-216            [-1, 960, 1, 1]               0\n",
            "          Conv2d-217             [-1, 40, 1, 1]          38,440\n",
            "            SiLU-218             [-1, 40, 1, 1]               0\n",
            "          Conv2d-219            [-1, 960, 1, 1]          39,360\n",
            "         Sigmoid-220            [-1, 960, 1, 1]               0\n",
            "SqueezeExcitation-221          [-1, 960, 14, 14]               0\n",
            "          Conv2d-222          [-1, 160, 14, 14]         153,600\n",
            "     BatchNorm2d-223          [-1, 160, 14, 14]             320\n",
            " StochasticDepth-224          [-1, 160, 14, 14]               0\n",
            "          MBConv-225          [-1, 160, 14, 14]               0\n",
            "          Conv2d-226          [-1, 960, 14, 14]         153,600\n",
            "     BatchNorm2d-227          [-1, 960, 14, 14]           1,920\n",
            "            SiLU-228          [-1, 960, 14, 14]               0\n",
            "          Conv2d-229          [-1, 960, 14, 14]           8,640\n",
            "     BatchNorm2d-230          [-1, 960, 14, 14]           1,920\n",
            "            SiLU-231          [-1, 960, 14, 14]               0\n",
            "AdaptiveAvgPool2d-232            [-1, 960, 1, 1]               0\n",
            "          Conv2d-233             [-1, 40, 1, 1]          38,440\n",
            "            SiLU-234             [-1, 40, 1, 1]               0\n",
            "          Conv2d-235            [-1, 960, 1, 1]          39,360\n",
            "         Sigmoid-236            [-1, 960, 1, 1]               0\n",
            "SqueezeExcitation-237          [-1, 960, 14, 14]               0\n",
            "          Conv2d-238          [-1, 160, 14, 14]         153,600\n",
            "     BatchNorm2d-239          [-1, 160, 14, 14]             320\n",
            " StochasticDepth-240          [-1, 160, 14, 14]               0\n",
            "          MBConv-241          [-1, 160, 14, 14]               0\n",
            "          Conv2d-242          [-1, 960, 14, 14]         153,600\n",
            "     BatchNorm2d-243          [-1, 960, 14, 14]           1,920\n",
            "            SiLU-244          [-1, 960, 14, 14]               0\n",
            "          Conv2d-245          [-1, 960, 14, 14]           8,640\n",
            "     BatchNorm2d-246          [-1, 960, 14, 14]           1,920\n",
            "            SiLU-247          [-1, 960, 14, 14]               0\n",
            "AdaptiveAvgPool2d-248            [-1, 960, 1, 1]               0\n",
            "          Conv2d-249             [-1, 40, 1, 1]          38,440\n",
            "            SiLU-250             [-1, 40, 1, 1]               0\n",
            "          Conv2d-251            [-1, 960, 1, 1]          39,360\n",
            "         Sigmoid-252            [-1, 960, 1, 1]               0\n",
            "SqueezeExcitation-253          [-1, 960, 14, 14]               0\n",
            "          Conv2d-254          [-1, 160, 14, 14]         153,600\n",
            "     BatchNorm2d-255          [-1, 160, 14, 14]             320\n",
            " StochasticDepth-256          [-1, 160, 14, 14]               0\n",
            "          MBConv-257          [-1, 160, 14, 14]               0\n",
            "          Conv2d-258          [-1, 960, 14, 14]         153,600\n",
            "     BatchNorm2d-259          [-1, 960, 14, 14]           1,920\n",
            "            SiLU-260          [-1, 960, 14, 14]               0\n",
            "          Conv2d-261          [-1, 960, 14, 14]           8,640\n",
            "     BatchNorm2d-262          [-1, 960, 14, 14]           1,920\n",
            "            SiLU-263          [-1, 960, 14, 14]               0\n",
            "AdaptiveAvgPool2d-264            [-1, 960, 1, 1]               0\n",
            "          Conv2d-265             [-1, 40, 1, 1]          38,440\n",
            "            SiLU-266             [-1, 40, 1, 1]               0\n",
            "          Conv2d-267            [-1, 960, 1, 1]          39,360\n",
            "         Sigmoid-268            [-1, 960, 1, 1]               0\n",
            "SqueezeExcitation-269          [-1, 960, 14, 14]               0\n",
            "          Conv2d-270          [-1, 160, 14, 14]         153,600\n",
            "     BatchNorm2d-271          [-1, 160, 14, 14]             320\n",
            " StochasticDepth-272          [-1, 160, 14, 14]               0\n",
            "          MBConv-273          [-1, 160, 14, 14]               0\n",
            "          Conv2d-274          [-1, 960, 14, 14]         153,600\n",
            "     BatchNorm2d-275          [-1, 960, 14, 14]           1,920\n",
            "            SiLU-276          [-1, 960, 14, 14]               0\n",
            "          Conv2d-277          [-1, 960, 14, 14]           8,640\n",
            "     BatchNorm2d-278          [-1, 960, 14, 14]           1,920\n",
            "            SiLU-279          [-1, 960, 14, 14]               0\n",
            "AdaptiveAvgPool2d-280            [-1, 960, 1, 1]               0\n",
            "          Conv2d-281             [-1, 40, 1, 1]          38,440\n",
            "            SiLU-282             [-1, 40, 1, 1]               0\n",
            "          Conv2d-283            [-1, 960, 1, 1]          39,360\n",
            "         Sigmoid-284            [-1, 960, 1, 1]               0\n",
            "SqueezeExcitation-285          [-1, 960, 14, 14]               0\n",
            "          Conv2d-286          [-1, 160, 14, 14]         153,600\n",
            "     BatchNorm2d-287          [-1, 160, 14, 14]             320\n",
            " StochasticDepth-288          [-1, 160, 14, 14]               0\n",
            "          MBConv-289          [-1, 160, 14, 14]               0\n",
            "          Conv2d-290          [-1, 960, 14, 14]         153,600\n",
            "     BatchNorm2d-291          [-1, 960, 14, 14]           1,920\n",
            "            SiLU-292          [-1, 960, 14, 14]               0\n",
            "          Conv2d-293          [-1, 960, 14, 14]           8,640\n",
            "     BatchNorm2d-294          [-1, 960, 14, 14]           1,920\n",
            "            SiLU-295          [-1, 960, 14, 14]               0\n",
            "AdaptiveAvgPool2d-296            [-1, 960, 1, 1]               0\n",
            "          Conv2d-297             [-1, 40, 1, 1]          38,440\n",
            "            SiLU-298             [-1, 40, 1, 1]               0\n",
            "          Conv2d-299            [-1, 960, 1, 1]          39,360\n",
            "         Sigmoid-300            [-1, 960, 1, 1]               0\n",
            "SqueezeExcitation-301          [-1, 960, 14, 14]               0\n",
            "          Conv2d-302          [-1, 160, 14, 14]         153,600\n",
            "     BatchNorm2d-303          [-1, 160, 14, 14]             320\n",
            " StochasticDepth-304          [-1, 160, 14, 14]               0\n",
            "          MBConv-305          [-1, 160, 14, 14]               0\n",
            "          Conv2d-306          [-1, 960, 14, 14]         153,600\n",
            "     BatchNorm2d-307          [-1, 960, 14, 14]           1,920\n",
            "            SiLU-308          [-1, 960, 14, 14]               0\n",
            "          Conv2d-309            [-1, 960, 7, 7]           8,640\n",
            "     BatchNorm2d-310            [-1, 960, 7, 7]           1,920\n",
            "            SiLU-311            [-1, 960, 7, 7]               0\n",
            "AdaptiveAvgPool2d-312            [-1, 960, 1, 1]               0\n",
            "          Conv2d-313             [-1, 40, 1, 1]          38,440\n",
            "            SiLU-314             [-1, 40, 1, 1]               0\n",
            "          Conv2d-315            [-1, 960, 1, 1]          39,360\n",
            "         Sigmoid-316            [-1, 960, 1, 1]               0\n",
            "SqueezeExcitation-317            [-1, 960, 7, 7]               0\n",
            "          Conv2d-318            [-1, 256, 7, 7]         245,760\n",
            "     BatchNorm2d-319            [-1, 256, 7, 7]             512\n",
            "          MBConv-320            [-1, 256, 7, 7]               0\n",
            "          Conv2d-321           [-1, 1536, 7, 7]         393,216\n",
            "     BatchNorm2d-322           [-1, 1536, 7, 7]           3,072\n",
            "            SiLU-323           [-1, 1536, 7, 7]               0\n",
            "          Conv2d-324           [-1, 1536, 7, 7]          13,824\n",
            "     BatchNorm2d-325           [-1, 1536, 7, 7]           3,072\n",
            "            SiLU-326           [-1, 1536, 7, 7]               0\n",
            "AdaptiveAvgPool2d-327           [-1, 1536, 1, 1]               0\n",
            "          Conv2d-328             [-1, 64, 1, 1]          98,368\n",
            "            SiLU-329             [-1, 64, 1, 1]               0\n",
            "          Conv2d-330           [-1, 1536, 1, 1]          99,840\n",
            "         Sigmoid-331           [-1, 1536, 1, 1]               0\n",
            "SqueezeExcitation-332           [-1, 1536, 7, 7]               0\n",
            "          Conv2d-333            [-1, 256, 7, 7]         393,216\n",
            "     BatchNorm2d-334            [-1, 256, 7, 7]             512\n",
            " StochasticDepth-335            [-1, 256, 7, 7]               0\n",
            "          MBConv-336            [-1, 256, 7, 7]               0\n",
            "          Conv2d-337           [-1, 1536, 7, 7]         393,216\n",
            "     BatchNorm2d-338           [-1, 1536, 7, 7]           3,072\n",
            "            SiLU-339           [-1, 1536, 7, 7]               0\n",
            "          Conv2d-340           [-1, 1536, 7, 7]          13,824\n",
            "     BatchNorm2d-341           [-1, 1536, 7, 7]           3,072\n",
            "            SiLU-342           [-1, 1536, 7, 7]               0\n",
            "AdaptiveAvgPool2d-343           [-1, 1536, 1, 1]               0\n",
            "          Conv2d-344             [-1, 64, 1, 1]          98,368\n",
            "            SiLU-345             [-1, 64, 1, 1]               0\n",
            "          Conv2d-346           [-1, 1536, 1, 1]          99,840\n",
            "         Sigmoid-347           [-1, 1536, 1, 1]               0\n",
            "SqueezeExcitation-348           [-1, 1536, 7, 7]               0\n",
            "          Conv2d-349            [-1, 256, 7, 7]         393,216\n",
            "     BatchNorm2d-350            [-1, 256, 7, 7]             512\n",
            " StochasticDepth-351            [-1, 256, 7, 7]               0\n",
            "          MBConv-352            [-1, 256, 7, 7]               0\n",
            "          Conv2d-353           [-1, 1536, 7, 7]         393,216\n",
            "     BatchNorm2d-354           [-1, 1536, 7, 7]           3,072\n",
            "            SiLU-355           [-1, 1536, 7, 7]               0\n",
            "          Conv2d-356           [-1, 1536, 7, 7]          13,824\n",
            "     BatchNorm2d-357           [-1, 1536, 7, 7]           3,072\n",
            "            SiLU-358           [-1, 1536, 7, 7]               0\n",
            "AdaptiveAvgPool2d-359           [-1, 1536, 1, 1]               0\n",
            "          Conv2d-360             [-1, 64, 1, 1]          98,368\n",
            "            SiLU-361             [-1, 64, 1, 1]               0\n",
            "          Conv2d-362           [-1, 1536, 1, 1]          99,840\n",
            "         Sigmoid-363           [-1, 1536, 1, 1]               0\n",
            "SqueezeExcitation-364           [-1, 1536, 7, 7]               0\n",
            "          Conv2d-365            [-1, 256, 7, 7]         393,216\n",
            "     BatchNorm2d-366            [-1, 256, 7, 7]             512\n",
            " StochasticDepth-367            [-1, 256, 7, 7]               0\n",
            "          MBConv-368            [-1, 256, 7, 7]               0\n",
            "          Conv2d-369           [-1, 1536, 7, 7]         393,216\n",
            "     BatchNorm2d-370           [-1, 1536, 7, 7]           3,072\n",
            "            SiLU-371           [-1, 1536, 7, 7]               0\n",
            "          Conv2d-372           [-1, 1536, 7, 7]          13,824\n",
            "     BatchNorm2d-373           [-1, 1536, 7, 7]           3,072\n",
            "            SiLU-374           [-1, 1536, 7, 7]               0\n",
            "AdaptiveAvgPool2d-375           [-1, 1536, 1, 1]               0\n",
            "          Conv2d-376             [-1, 64, 1, 1]          98,368\n",
            "            SiLU-377             [-1, 64, 1, 1]               0\n",
            "          Conv2d-378           [-1, 1536, 1, 1]          99,840\n",
            "         Sigmoid-379           [-1, 1536, 1, 1]               0\n",
            "SqueezeExcitation-380           [-1, 1536, 7, 7]               0\n",
            "          Conv2d-381            [-1, 256, 7, 7]         393,216\n",
            "     BatchNorm2d-382            [-1, 256, 7, 7]             512\n",
            " StochasticDepth-383            [-1, 256, 7, 7]               0\n",
            "          MBConv-384            [-1, 256, 7, 7]               0\n",
            "          Conv2d-385           [-1, 1536, 7, 7]         393,216\n",
            "     BatchNorm2d-386           [-1, 1536, 7, 7]           3,072\n",
            "            SiLU-387           [-1, 1536, 7, 7]               0\n",
            "          Conv2d-388           [-1, 1536, 7, 7]          13,824\n",
            "     BatchNorm2d-389           [-1, 1536, 7, 7]           3,072\n",
            "            SiLU-390           [-1, 1536, 7, 7]               0\n",
            "AdaptiveAvgPool2d-391           [-1, 1536, 1, 1]               0\n",
            "          Conv2d-392             [-1, 64, 1, 1]          98,368\n",
            "            SiLU-393             [-1, 64, 1, 1]               0\n",
            "          Conv2d-394           [-1, 1536, 1, 1]          99,840\n",
            "         Sigmoid-395           [-1, 1536, 1, 1]               0\n",
            "SqueezeExcitation-396           [-1, 1536, 7, 7]               0\n",
            "          Conv2d-397            [-1, 256, 7, 7]         393,216\n",
            "     BatchNorm2d-398            [-1, 256, 7, 7]             512\n",
            " StochasticDepth-399            [-1, 256, 7, 7]               0\n",
            "          MBConv-400            [-1, 256, 7, 7]               0\n",
            "          Conv2d-401           [-1, 1536, 7, 7]         393,216\n",
            "     BatchNorm2d-402           [-1, 1536, 7, 7]           3,072\n",
            "            SiLU-403           [-1, 1536, 7, 7]               0\n",
            "          Conv2d-404           [-1, 1536, 7, 7]          13,824\n",
            "     BatchNorm2d-405           [-1, 1536, 7, 7]           3,072\n",
            "            SiLU-406           [-1, 1536, 7, 7]               0\n",
            "AdaptiveAvgPool2d-407           [-1, 1536, 1, 1]               0\n",
            "          Conv2d-408             [-1, 64, 1, 1]          98,368\n",
            "            SiLU-409             [-1, 64, 1, 1]               0\n",
            "          Conv2d-410           [-1, 1536, 1, 1]          99,840\n",
            "         Sigmoid-411           [-1, 1536, 1, 1]               0\n",
            "SqueezeExcitation-412           [-1, 1536, 7, 7]               0\n",
            "          Conv2d-413            [-1, 256, 7, 7]         393,216\n",
            "     BatchNorm2d-414            [-1, 256, 7, 7]             512\n",
            " StochasticDepth-415            [-1, 256, 7, 7]               0\n",
            "          MBConv-416            [-1, 256, 7, 7]               0\n",
            "          Conv2d-417           [-1, 1536, 7, 7]         393,216\n",
            "     BatchNorm2d-418           [-1, 1536, 7, 7]           3,072\n",
            "            SiLU-419           [-1, 1536, 7, 7]               0\n",
            "          Conv2d-420           [-1, 1536, 7, 7]          13,824\n",
            "     BatchNorm2d-421           [-1, 1536, 7, 7]           3,072\n",
            "            SiLU-422           [-1, 1536, 7, 7]               0\n",
            "AdaptiveAvgPool2d-423           [-1, 1536, 1, 1]               0\n",
            "          Conv2d-424             [-1, 64, 1, 1]          98,368\n",
            "            SiLU-425             [-1, 64, 1, 1]               0\n",
            "          Conv2d-426           [-1, 1536, 1, 1]          99,840\n",
            "         Sigmoid-427           [-1, 1536, 1, 1]               0\n",
            "SqueezeExcitation-428           [-1, 1536, 7, 7]               0\n",
            "          Conv2d-429            [-1, 256, 7, 7]         393,216\n",
            "     BatchNorm2d-430            [-1, 256, 7, 7]             512\n",
            " StochasticDepth-431            [-1, 256, 7, 7]               0\n",
            "          MBConv-432            [-1, 256, 7, 7]               0\n",
            "          Conv2d-433           [-1, 1536, 7, 7]         393,216\n",
            "     BatchNorm2d-434           [-1, 1536, 7, 7]           3,072\n",
            "            SiLU-435           [-1, 1536, 7, 7]               0\n",
            "          Conv2d-436           [-1, 1536, 7, 7]          13,824\n",
            "     BatchNorm2d-437           [-1, 1536, 7, 7]           3,072\n",
            "            SiLU-438           [-1, 1536, 7, 7]               0\n",
            "AdaptiveAvgPool2d-439           [-1, 1536, 1, 1]               0\n",
            "          Conv2d-440             [-1, 64, 1, 1]          98,368\n",
            "            SiLU-441             [-1, 64, 1, 1]               0\n",
            "          Conv2d-442           [-1, 1536, 1, 1]          99,840\n",
            "         Sigmoid-443           [-1, 1536, 1, 1]               0\n",
            "SqueezeExcitation-444           [-1, 1536, 7, 7]               0\n",
            "          Conv2d-445            [-1, 256, 7, 7]         393,216\n",
            "     BatchNorm2d-446            [-1, 256, 7, 7]             512\n",
            " StochasticDepth-447            [-1, 256, 7, 7]               0\n",
            "          MBConv-448            [-1, 256, 7, 7]               0\n",
            "          Conv2d-449           [-1, 1536, 7, 7]         393,216\n",
            "     BatchNorm2d-450           [-1, 1536, 7, 7]           3,072\n",
            "            SiLU-451           [-1, 1536, 7, 7]               0\n",
            "          Conv2d-452           [-1, 1536, 7, 7]          13,824\n",
            "     BatchNorm2d-453           [-1, 1536, 7, 7]           3,072\n",
            "            SiLU-454           [-1, 1536, 7, 7]               0\n",
            "AdaptiveAvgPool2d-455           [-1, 1536, 1, 1]               0\n",
            "          Conv2d-456             [-1, 64, 1, 1]          98,368\n",
            "            SiLU-457             [-1, 64, 1, 1]               0\n",
            "          Conv2d-458           [-1, 1536, 1, 1]          99,840\n",
            "         Sigmoid-459           [-1, 1536, 1, 1]               0\n",
            "SqueezeExcitation-460           [-1, 1536, 7, 7]               0\n",
            "          Conv2d-461            [-1, 256, 7, 7]         393,216\n",
            "     BatchNorm2d-462            [-1, 256, 7, 7]             512\n",
            " StochasticDepth-463            [-1, 256, 7, 7]               0\n",
            "          MBConv-464            [-1, 256, 7, 7]               0\n",
            "          Conv2d-465           [-1, 1536, 7, 7]         393,216\n",
            "     BatchNorm2d-466           [-1, 1536, 7, 7]           3,072\n",
            "            SiLU-467           [-1, 1536, 7, 7]               0\n",
            "          Conv2d-468           [-1, 1536, 7, 7]          13,824\n",
            "     BatchNorm2d-469           [-1, 1536, 7, 7]           3,072\n",
            "            SiLU-470           [-1, 1536, 7, 7]               0\n",
            "AdaptiveAvgPool2d-471           [-1, 1536, 1, 1]               0\n",
            "          Conv2d-472             [-1, 64, 1, 1]          98,368\n",
            "            SiLU-473             [-1, 64, 1, 1]               0\n",
            "          Conv2d-474           [-1, 1536, 1, 1]          99,840\n",
            "         Sigmoid-475           [-1, 1536, 1, 1]               0\n",
            "SqueezeExcitation-476           [-1, 1536, 7, 7]               0\n",
            "          Conv2d-477            [-1, 256, 7, 7]         393,216\n",
            "     BatchNorm2d-478            [-1, 256, 7, 7]             512\n",
            " StochasticDepth-479            [-1, 256, 7, 7]               0\n",
            "          MBConv-480            [-1, 256, 7, 7]               0\n",
            "          Conv2d-481           [-1, 1536, 7, 7]         393,216\n",
            "     BatchNorm2d-482           [-1, 1536, 7, 7]           3,072\n",
            "            SiLU-483           [-1, 1536, 7, 7]               0\n",
            "          Conv2d-484           [-1, 1536, 7, 7]          13,824\n",
            "     BatchNorm2d-485           [-1, 1536, 7, 7]           3,072\n",
            "            SiLU-486           [-1, 1536, 7, 7]               0\n",
            "AdaptiveAvgPool2d-487           [-1, 1536, 1, 1]               0\n",
            "          Conv2d-488             [-1, 64, 1, 1]          98,368\n",
            "            SiLU-489             [-1, 64, 1, 1]               0\n",
            "          Conv2d-490           [-1, 1536, 1, 1]          99,840\n",
            "         Sigmoid-491           [-1, 1536, 1, 1]               0\n",
            "SqueezeExcitation-492           [-1, 1536, 7, 7]               0\n",
            "          Conv2d-493            [-1, 256, 7, 7]         393,216\n",
            "     BatchNorm2d-494            [-1, 256, 7, 7]             512\n",
            " StochasticDepth-495            [-1, 256, 7, 7]               0\n",
            "          MBConv-496            [-1, 256, 7, 7]               0\n",
            "          Conv2d-497           [-1, 1536, 7, 7]         393,216\n",
            "     BatchNorm2d-498           [-1, 1536, 7, 7]           3,072\n",
            "            SiLU-499           [-1, 1536, 7, 7]               0\n",
            "          Conv2d-500           [-1, 1536, 7, 7]          13,824\n",
            "     BatchNorm2d-501           [-1, 1536, 7, 7]           3,072\n",
            "            SiLU-502           [-1, 1536, 7, 7]               0\n",
            "AdaptiveAvgPool2d-503           [-1, 1536, 1, 1]               0\n",
            "          Conv2d-504             [-1, 64, 1, 1]          98,368\n",
            "            SiLU-505             [-1, 64, 1, 1]               0\n",
            "          Conv2d-506           [-1, 1536, 1, 1]          99,840\n",
            "         Sigmoid-507           [-1, 1536, 1, 1]               0\n",
            "SqueezeExcitation-508           [-1, 1536, 7, 7]               0\n",
            "          Conv2d-509            [-1, 256, 7, 7]         393,216\n",
            "     BatchNorm2d-510            [-1, 256, 7, 7]             512\n",
            " StochasticDepth-511            [-1, 256, 7, 7]               0\n",
            "          MBConv-512            [-1, 256, 7, 7]               0\n",
            "          Conv2d-513           [-1, 1536, 7, 7]         393,216\n",
            "     BatchNorm2d-514           [-1, 1536, 7, 7]           3,072\n",
            "            SiLU-515           [-1, 1536, 7, 7]               0\n",
            "          Conv2d-516           [-1, 1536, 7, 7]          13,824\n",
            "     BatchNorm2d-517           [-1, 1536, 7, 7]           3,072\n",
            "            SiLU-518           [-1, 1536, 7, 7]               0\n",
            "AdaptiveAvgPool2d-519           [-1, 1536, 1, 1]               0\n",
            "          Conv2d-520             [-1, 64, 1, 1]          98,368\n",
            "            SiLU-521             [-1, 64, 1, 1]               0\n",
            "          Conv2d-522           [-1, 1536, 1, 1]          99,840\n",
            "         Sigmoid-523           [-1, 1536, 1, 1]               0\n",
            "SqueezeExcitation-524           [-1, 1536, 7, 7]               0\n",
            "          Conv2d-525            [-1, 256, 7, 7]         393,216\n",
            "     BatchNorm2d-526            [-1, 256, 7, 7]             512\n",
            " StochasticDepth-527            [-1, 256, 7, 7]               0\n",
            "          MBConv-528            [-1, 256, 7, 7]               0\n",
            "          Conv2d-529           [-1, 1536, 7, 7]         393,216\n",
            "     BatchNorm2d-530           [-1, 1536, 7, 7]           3,072\n",
            "            SiLU-531           [-1, 1536, 7, 7]               0\n",
            "          Conv2d-532           [-1, 1536, 7, 7]          13,824\n",
            "     BatchNorm2d-533           [-1, 1536, 7, 7]           3,072\n",
            "            SiLU-534           [-1, 1536, 7, 7]               0\n",
            "AdaptiveAvgPool2d-535           [-1, 1536, 1, 1]               0\n",
            "          Conv2d-536             [-1, 64, 1, 1]          98,368\n",
            "            SiLU-537             [-1, 64, 1, 1]               0\n",
            "          Conv2d-538           [-1, 1536, 1, 1]          99,840\n",
            "         Sigmoid-539           [-1, 1536, 1, 1]               0\n",
            "SqueezeExcitation-540           [-1, 1536, 7, 7]               0\n",
            "          Conv2d-541            [-1, 256, 7, 7]         393,216\n",
            "     BatchNorm2d-542            [-1, 256, 7, 7]             512\n",
            " StochasticDepth-543            [-1, 256, 7, 7]               0\n",
            "          MBConv-544            [-1, 256, 7, 7]               0\n",
            "          Conv2d-545           [-1, 1280, 7, 7]         327,680\n",
            "     BatchNorm2d-546           [-1, 1280, 7, 7]           2,560\n",
            "            SiLU-547           [-1, 1280, 7, 7]               0\n",
            "AdaptiveAvgPool2d-548           [-1, 1280, 1, 1]               0\n",
            "         Dropout-549                 [-1, 1280]               0\n",
            "          Linear-550                 [-1, 1000]       1,281,000\n",
            "================================================================\n",
            "Total params: 21,458,488\n",
            "Trainable params: 21,458,488\n",
            "Non-trainable params: 0\n",
            "----------------------------------------------------------------\n",
            "Input size (MB): 0.57\n",
            "Forward/backward pass size (MB): 322.34\n",
            "Params size (MB): 81.86\n",
            "Estimated Total Size (MB): 404.77\n",
            "----------------------------------------------------------------\n"
          ]
        }
      ]
    },
    {
      "cell_type": "code",
      "source": [
        "pip install timm"
      ],
      "metadata": {
        "colab": {
          "base_uri": "https://localhost:8080/"
        },
        "id": "eiK4y7S_pWhp",
        "outputId": "2b156d9c-bb60-4de4-f4d2-a44f5d195673"
      },
      "execution_count": 10,
      "outputs": [
        {
          "output_type": "stream",
          "name": "stdout",
          "text": [
            "Collecting timm\n",
            "  Downloading timm-0.9.16-py3-none-any.whl (2.2 MB)\n",
            "\u001b[?25l     \u001b[90m━━━━━━━━━━━━━━━━━━━━━━━━━━━━━━━━━━━━━━━━\u001b[0m \u001b[32m0.0/2.2 MB\u001b[0m \u001b[31m?\u001b[0m eta \u001b[36m-:--:--\u001b[0m\r\u001b[2K     \u001b[91m━━━━━\u001b[0m\u001b[90m╺\u001b[0m\u001b[90m━━━━━━━━━━━━━━━━━━━━━━━━━━━━━━━━━━\u001b[0m \u001b[32m0.3/2.2 MB\u001b[0m \u001b[31m9.2 MB/s\u001b[0m eta \u001b[36m0:00:01\u001b[0m\r\u001b[2K     \u001b[91m━━━━━━━━━━━━━━━━━\u001b[0m\u001b[90m╺\u001b[0m\u001b[90m━━━━━━━━━━━━━━━━━━━━━━\u001b[0m \u001b[32m1.0/2.2 MB\u001b[0m \u001b[31m14.1 MB/s\u001b[0m eta \u001b[36m0:00:01\u001b[0m\r\u001b[2K     \u001b[91m━━━━━━━━━━━━━━━━━━━━━━━━━━━━━━\u001b[0m\u001b[91m╸\u001b[0m\u001b[90m━━━━━━━━━\u001b[0m \u001b[32m1.7/2.2 MB\u001b[0m \u001b[31m16.9 MB/s\u001b[0m eta \u001b[36m0:00:01\u001b[0m\r\u001b[2K     \u001b[91m━━━━━━━━━━━━━━━━━━━━━━━━━━━━━━━━━━━━━━━\u001b[0m\u001b[91m╸\u001b[0m \u001b[32m2.2/2.2 MB\u001b[0m \u001b[31m18.0 MB/s\u001b[0m eta \u001b[36m0:00:01\u001b[0m\r\u001b[2K     \u001b[90m━━━━━━━━━━━━━━━━━━━━━━━━━━━━━━━━━━━━━━━━\u001b[0m \u001b[32m2.2/2.2 MB\u001b[0m \u001b[31m15.2 MB/s\u001b[0m eta \u001b[36m0:00:00\u001b[0m\n",
            "\u001b[?25hRequirement already satisfied: torch in /usr/local/lib/python3.10/dist-packages (from timm) (2.2.1+cu121)\n",
            "Requirement already satisfied: torchvision in /usr/local/lib/python3.10/dist-packages (from timm) (0.17.1+cu121)\n",
            "Requirement already satisfied: pyyaml in /usr/local/lib/python3.10/dist-packages (from timm) (6.0.1)\n",
            "Requirement already satisfied: huggingface_hub in /usr/local/lib/python3.10/dist-packages (from timm) (0.20.3)\n",
            "Requirement already satisfied: safetensors in /usr/local/lib/python3.10/dist-packages (from timm) (0.4.3)\n",
            "Requirement already satisfied: filelock in /usr/local/lib/python3.10/dist-packages (from huggingface_hub->timm) (3.14.0)\n",
            "Requirement already satisfied: fsspec>=2023.5.0 in /usr/local/lib/python3.10/dist-packages (from huggingface_hub->timm) (2023.6.0)\n",
            "Requirement already satisfied: requests in /usr/local/lib/python3.10/dist-packages (from huggingface_hub->timm) (2.31.0)\n",
            "Requirement already satisfied: tqdm>=4.42.1 in /usr/local/lib/python3.10/dist-packages (from huggingface_hub->timm) (4.66.4)\n",
            "Requirement already satisfied: typing-extensions>=3.7.4.3 in /usr/local/lib/python3.10/dist-packages (from huggingface_hub->timm) (4.11.0)\n",
            "Requirement already satisfied: packaging>=20.9 in /usr/local/lib/python3.10/dist-packages (from huggingface_hub->timm) (24.0)\n",
            "Requirement already satisfied: sympy in /usr/local/lib/python3.10/dist-packages (from torch->timm) (1.12)\n",
            "Requirement already satisfied: networkx in /usr/local/lib/python3.10/dist-packages (from torch->timm) (3.3)\n",
            "Requirement already satisfied: jinja2 in /usr/local/lib/python3.10/dist-packages (from torch->timm) (3.1.3)\n",
            "Collecting nvidia-cuda-nvrtc-cu12==12.1.105 (from torch->timm)\n",
            "  Using cached nvidia_cuda_nvrtc_cu12-12.1.105-py3-none-manylinux1_x86_64.whl (23.7 MB)\n",
            "Collecting nvidia-cuda-runtime-cu12==12.1.105 (from torch->timm)\n",
            "  Using cached nvidia_cuda_runtime_cu12-12.1.105-py3-none-manylinux1_x86_64.whl (823 kB)\n",
            "Collecting nvidia-cuda-cupti-cu12==12.1.105 (from torch->timm)\n",
            "  Using cached nvidia_cuda_cupti_cu12-12.1.105-py3-none-manylinux1_x86_64.whl (14.1 MB)\n",
            "Collecting nvidia-cudnn-cu12==8.9.2.26 (from torch->timm)\n",
            "  Using cached nvidia_cudnn_cu12-8.9.2.26-py3-none-manylinux1_x86_64.whl (731.7 MB)\n",
            "Collecting nvidia-cublas-cu12==12.1.3.1 (from torch->timm)\n",
            "  Using cached nvidia_cublas_cu12-12.1.3.1-py3-none-manylinux1_x86_64.whl (410.6 MB)\n",
            "Collecting nvidia-cufft-cu12==11.0.2.54 (from torch->timm)\n",
            "  Using cached nvidia_cufft_cu12-11.0.2.54-py3-none-manylinux1_x86_64.whl (121.6 MB)\n",
            "Collecting nvidia-curand-cu12==10.3.2.106 (from torch->timm)\n",
            "  Using cached nvidia_curand_cu12-10.3.2.106-py3-none-manylinux1_x86_64.whl (56.5 MB)\n",
            "Collecting nvidia-cusolver-cu12==11.4.5.107 (from torch->timm)\n",
            "  Using cached nvidia_cusolver_cu12-11.4.5.107-py3-none-manylinux1_x86_64.whl (124.2 MB)\n",
            "Collecting nvidia-cusparse-cu12==12.1.0.106 (from torch->timm)\n",
            "  Using cached nvidia_cusparse_cu12-12.1.0.106-py3-none-manylinux1_x86_64.whl (196.0 MB)\n",
            "Collecting nvidia-nccl-cu12==2.19.3 (from torch->timm)\n",
            "  Using cached nvidia_nccl_cu12-2.19.3-py3-none-manylinux1_x86_64.whl (166.0 MB)\n",
            "Collecting nvidia-nvtx-cu12==12.1.105 (from torch->timm)\n",
            "  Using cached nvidia_nvtx_cu12-12.1.105-py3-none-manylinux1_x86_64.whl (99 kB)\n",
            "Requirement already satisfied: triton==2.2.0 in /usr/local/lib/python3.10/dist-packages (from torch->timm) (2.2.0)\n",
            "Collecting nvidia-nvjitlink-cu12 (from nvidia-cusolver-cu12==11.4.5.107->torch->timm)\n",
            "  Using cached nvidia_nvjitlink_cu12-12.4.127-py3-none-manylinux2014_x86_64.whl (21.1 MB)\n",
            "Requirement already satisfied: numpy in /usr/local/lib/python3.10/dist-packages (from torchvision->timm) (1.25.2)\n",
            "Requirement already satisfied: pillow!=8.3.*,>=5.3.0 in /usr/local/lib/python3.10/dist-packages (from torchvision->timm) (9.4.0)\n",
            "Requirement already satisfied: MarkupSafe>=2.0 in /usr/local/lib/python3.10/dist-packages (from jinja2->torch->timm) (2.1.5)\n",
            "Requirement already satisfied: charset-normalizer<4,>=2 in /usr/local/lib/python3.10/dist-packages (from requests->huggingface_hub->timm) (3.3.2)\n",
            "Requirement already satisfied: idna<4,>=2.5 in /usr/local/lib/python3.10/dist-packages (from requests->huggingface_hub->timm) (3.7)\n",
            "Requirement already satisfied: urllib3<3,>=1.21.1 in /usr/local/lib/python3.10/dist-packages (from requests->huggingface_hub->timm) (2.0.7)\n",
            "Requirement already satisfied: certifi>=2017.4.17 in /usr/local/lib/python3.10/dist-packages (from requests->huggingface_hub->timm) (2024.2.2)\n",
            "Requirement already satisfied: mpmath>=0.19 in /usr/local/lib/python3.10/dist-packages (from sympy->torch->timm) (1.3.0)\n",
            "Installing collected packages: nvidia-nvtx-cu12, nvidia-nvjitlink-cu12, nvidia-nccl-cu12, nvidia-curand-cu12, nvidia-cufft-cu12, nvidia-cuda-runtime-cu12, nvidia-cuda-nvrtc-cu12, nvidia-cuda-cupti-cu12, nvidia-cublas-cu12, nvidia-cusparse-cu12, nvidia-cudnn-cu12, nvidia-cusolver-cu12, timm\n",
            "Successfully installed nvidia-cublas-cu12-12.1.3.1 nvidia-cuda-cupti-cu12-12.1.105 nvidia-cuda-nvrtc-cu12-12.1.105 nvidia-cuda-runtime-cu12-12.1.105 nvidia-cudnn-cu12-8.9.2.26 nvidia-cufft-cu12-11.0.2.54 nvidia-curand-cu12-10.3.2.106 nvidia-cusolver-cu12-11.4.5.107 nvidia-cusparse-cu12-12.1.0.106 nvidia-nccl-cu12-2.19.3 nvidia-nvjitlink-cu12-12.4.127 nvidia-nvtx-cu12-12.1.105 timm-0.9.16\n"
          ]
        }
      ]
    },
    {
      "cell_type": "code",
      "source": [
        "import timm\n",
        "import torch.nn as nn\n",
        "\n",
        "model = timm.create_model('tf_efficientnetv2_s', pretrained=True, num_classes=5)"
      ],
      "metadata": {
        "_uuid": "3ffae811-7a29-439c-83be-905521d9a5e3",
        "_cell_guid": "c829ceed-620d-41e5-bc96-c18e46d04ead",
        "id": "m1_ZQ_c4WEic",
        "jupyter": {
          "outputs_hidden": false
        },
        "trusted": true,
        "colab": {
          "base_uri": "https://localhost:8080/",
          "height": 178,
          "referenced_widgets": [
            "e409c922bf1a49d5aaeec1d36fde46b8",
            "0de65f21b64a44cb8374d05f5e20b21a",
            "c1edf7df3a7743f2b6592bb4e77e0aaf",
            "ef5262d3726946789eca8841eb00e96e",
            "df09808b63f14aa7a874cd6d316ca308",
            "d2658856e3c84012a60cf31f0e5057ba",
            "9600da00968c48a0aedd07f858138465",
            "165276a572704ff3b3b852a444a06376",
            "140adb2905c442a181b4af400d5bf9ba",
            "d1696725e4bd41239c905687c80221ee",
            "350365873564446baa322179f2f7e4dc"
          ]
        },
        "outputId": "8df6681b-55e5-4fe2-df61-b6f9d1fcc7ae"
      },
      "execution_count": 11,
      "outputs": [
        {
          "output_type": "stream",
          "name": "stderr",
          "text": [
            "/usr/local/lib/python3.10/dist-packages/huggingface_hub/utils/_token.py:88: UserWarning: \n",
            "The secret `HF_TOKEN` does not exist in your Colab secrets.\n",
            "To authenticate with the Hugging Face Hub, create a token in your settings tab (https://huggingface.co/settings/tokens), set it as secret in your Google Colab and restart your session.\n",
            "You will be able to reuse this secret in all of your notebooks.\n",
            "Please note that authentication is recommended but still optional to access public models or datasets.\n",
            "  warnings.warn(\n"
          ]
        },
        {
          "output_type": "display_data",
          "data": {
            "text/plain": [
              "model.safetensors:   0%|          | 0.00/86.5M [00:00<?, ?B/s]"
            ],
            "application/vnd.jupyter.widget-view+json": {
              "version_major": 2,
              "version_minor": 0,
              "model_id": "e409c922bf1a49d5aaeec1d36fde46b8"
            }
          },
          "metadata": {}
        }
      ]
    },
    {
      "cell_type": "code",
      "source": [
        "criterion = nn.CrossEntropyLoss()\n",
        "optimizer = torch.optim.Adam(model.parameters(), lr=0.001)"
      ],
      "metadata": {
        "id": "6dy0_hfhpb7F"
      },
      "execution_count": 12,
      "outputs": []
    },
    {
      "cell_type": "markdown",
      "source": [
        "# Treinamento"
      ],
      "metadata": {
        "_uuid": "adff2855-2ce1-4a58-90ee-4cc137fb476b",
        "_cell_guid": "5066e567-4469-4cb6-95ec-acb90db04864",
        "id": "jLoSvRUPWEsO",
        "trusted": true
      }
    },
    {
      "cell_type": "code",
      "source": [
        "def train_model(model, train_loader, criterion, optimizer, num_epochs=10):\n",
        "    model.train()\n",
        "    for epoch in range(num_epochs):\n",
        "        running_loss = 0.0\n",
        "        for inputs, labels in train_loader:\n",
        "            optimizer.zero_grad()\n",
        "            outputs = model(inputs)\n",
        "            loss = criterion(outputs, labels)\n",
        "            loss.backward()\n",
        "            optimizer.step()\n",
        "            running_loss += loss.item()\n",
        "        print(f'Epoch {epoch + 1}: Loss = {running_loss / len(train_loader)}')\n",
        "train_model(model, train_loader, criterion, optimizer, num_epochs=10)"
      ],
      "metadata": {
        "_uuid": "10e3bac3-8a5f-4d7d-9372-f472fccc93be",
        "_cell_guid": "500e907e-c6fb-45cb-a3a7-1b3e94611a11",
        "id": "A4iHJbBSWLYb",
        "jupyter": {
          "outputs_hidden": false
        },
        "trusted": true
      },
      "execution_count": 14,
      "outputs": []
    },
    {
      "cell_type": "markdown",
      "source": [
        "# Avaliação do modelo"
      ],
      "metadata": {
        "_uuid": "d1ae77b0-93b5-4c84-913d-f088d56be533",
        "_cell_guid": "b8a55a51-b337-40f5-ae62-86bf8ddc0ee4",
        "id": "qDVm0tP8WMi0",
        "trusted": true
      }
    },
    {
      "cell_type": "code",
      "source": [
        "def evaluate_model(model, test_loader):\n",
        "    model.eval()\n",
        "    correct = 0\n",
        "    total = 0\n",
        "    with torch.no_grad():\n",
        "        for inputs, labels in test_loader:\n",
        "            outputs = model(inputs)\n",
        "            _, predicted = torch.max(outputs, 1)\n",
        "            total += labels.size(0)\n",
        "            correct += (predicted == labels).sum().item()\n",
        "    accuracy = 100 * correct / total\n",
        "    print(f'Accuracy: {accuracy}%')\n",
        "evaluate_model(model, test_loader)"
      ],
      "metadata": {
        "_uuid": "625757c7-60a7-41a1-82b3-3e74fd54b16f",
        "_cell_guid": "73149361-0c40-4b12-9bb2-9db22911fd9c",
        "id": "JHfw7JcdWwXF",
        "jupyter": {
          "outputs_hidden": false
        },
        "trusted": true
      },
      "execution_count": null,
      "outputs": []
    }
  ]
}