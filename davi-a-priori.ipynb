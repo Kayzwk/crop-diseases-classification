{
 "cells": [
  {
   "cell_type": "markdown",
   "id": "c4fd2b70",
   "metadata": {
    "id": "oFHwY-6fVqAf",
    "papermill": {
     "duration": 0.008721,
     "end_time": "2024-04-15T16:18:44.304319",
     "exception": false,
     "start_time": "2024-04-15T16:18:44.295598",
     "status": "completed"
    },
    "tags": []
   },
   "source": [
    "# Imports"
   ]
  },
  {
   "cell_type": "markdown",
   "id": "bb8a9e95",
   "metadata": {
    "papermill": {
     "duration": 0.007165,
     "end_time": "2024-04-15T16:18:44.319305",
     "exception": false,
     "start_time": "2024-04-15T16:18:44.312140",
     "status": "completed"
    },
    "tags": []
   },
   "source": [
    "- Importando as bibliotecas necessárias:\n",
    "    - `pandas` é importado para manipulação de dados.\n",
    "    - `matplotlib.pyplot` é importado para visualização de dados.\n",
    "    - `seaborn` é importado para visualização estatística de dados.\n",
    "    - `train_test_split` é importado de `sklearn.model_selection` para dividir os dados em conjuntos de treinamento e teste."
   ]
  },
  {
   "cell_type": "code",
   "execution_count": 1,
   "id": "9014bd79",
   "metadata": {
    "execution": {
     "iopub.execute_input": "2024-04-15T16:18:44.337832Z",
     "iopub.status.busy": "2024-04-15T16:18:44.336838Z",
     "iopub.status.idle": "2024-04-15T16:18:47.555353Z",
     "shell.execute_reply": "2024-04-15T16:18:47.553558Z"
    },
    "id": "rWs4S6f-VrVz",
    "papermill": {
     "duration": 3.231973,
     "end_time": "2024-04-15T16:18:47.558918",
     "exception": false,
     "start_time": "2024-04-15T16:18:44.326945",
     "status": "completed"
    },
    "tags": []
   },
   "outputs": [],
   "source": [
    "import pandas as pd\n",
    "import matplotlib.pyplot as plt\n",
    "import seaborn as sns\n",
    "from sklearn.model_selection import train_test_split"
   ]
  },
  {
   "cell_type": "markdown",
   "id": "8b3c32ed",
   "metadata": {
    "id": "dwtfyQFlVrgt",
    "papermill": {
     "duration": 0.007262,
     "end_time": "2024-04-15T16:18:47.573809",
     "exception": false,
     "start_time": "2024-04-15T16:18:47.566547",
     "status": "completed"
    },
    "tags": []
   },
   "source": [
    "# Análise exploratória de dados"
   ]
  },
  {
   "cell_type": "markdown",
   "id": "8e3b7651",
   "metadata": {
    "papermill": {
     "duration": 0.00711,
     "end_time": "2024-04-15T16:18:47.588495",
     "exception": false,
     "start_time": "2024-04-15T16:18:47.581385",
     "status": "completed"
    },
    "tags": []
   },
   "source": [
    "Antes de definir o que iremos fazer sobre os dados, será feito uma análise exploratória inicial. Para isso, vamos entender melhor os dados.\n",
    "- Carregando os dados:\n",
    "    - `pd.read_csv()` é usado para ler o arquivo CSV que contém os dados.\n",
    "    - O caminho para o arquivo CSV é \"/kaggle/input/crop-diseases-classification/Data/train.csv\".\n",
    "    - Os dados são armazenados em um DataFrame chamado `dsDiseases`."
   ]
  },
  {
   "cell_type": "code",
   "execution_count": 2,
   "id": "d0740569",
   "metadata": {
    "execution": {
     "iopub.execute_input": "2024-04-15T16:18:47.606963Z",
     "iopub.status.busy": "2024-04-15T16:18:47.605681Z",
     "iopub.status.idle": "2024-04-15T16:18:47.661480Z",
     "shell.execute_reply": "2024-04-15T16:18:47.660372Z"
    },
    "papermill": {
     "duration": 0.068589,
     "end_time": "2024-04-15T16:18:47.664727",
     "exception": false,
     "start_time": "2024-04-15T16:18:47.596138",
     "status": "completed"
    },
    "tags": []
   },
   "outputs": [],
   "source": [
    "dsDiseases = pd.read_csv(\"/kaggle/input/crop-diseases-classification/Data/train.csv\")"
   ]
  },
  {
   "cell_type": "markdown",
   "id": "5c3582c8",
   "metadata": {
    "papermill": {
     "duration": 0.007201,
     "end_time": "2024-04-15T16:18:47.679419",
     "exception": false,
     "start_time": "2024-04-15T16:18:47.672218",
     "status": "completed"
    },
    "tags": []
   },
   "source": [
    "Nessa primeira parte, vamos entender o que é cada coluna:\n",
    "- Examinando as primeiras linhas do DataFrame:\n",
    "    - `head()` é usado para visualizar as primeiras linhas do DataFrame `dsDiseases`.\n",
    "    - Isso ajuda a ter uma ideia inicial da estrutura e dos dados presentes no DataFrame."
   ]
  },
  {
   "cell_type": "code",
   "execution_count": 3,
   "id": "23b000b3",
   "metadata": {
    "execution": {
     "iopub.execute_input": "2024-04-15T16:18:47.697088Z",
     "iopub.status.busy": "2024-04-15T16:18:47.696262Z",
     "iopub.status.idle": "2024-04-15T16:18:47.716344Z",
     "shell.execute_reply": "2024-04-15T16:18:47.715110Z"
    },
    "id": "ytt8k-vgknw8",
    "papermill": {
     "duration": 0.032234,
     "end_time": "2024-04-15T16:18:47.719213",
     "exception": false,
     "start_time": "2024-04-15T16:18:47.686979",
     "status": "completed"
    },
    "tags": []
   },
   "outputs": [
    {
     "data": {
      "text/html": [
       "<div>\n",
       "<style scoped>\n",
       "    .dataframe tbody tr th:only-of-type {\n",
       "        vertical-align: middle;\n",
       "    }\n",
       "\n",
       "    .dataframe tbody tr th {\n",
       "        vertical-align: top;\n",
       "    }\n",
       "\n",
       "    .dataframe thead th {\n",
       "        text-align: right;\n",
       "    }\n",
       "</style>\n",
       "<table border=\"1\" class=\"dataframe\">\n",
       "  <thead>\n",
       "    <tr style=\"text-align: right;\">\n",
       "      <th></th>\n",
       "      <th>image_id</th>\n",
       "      <th>label</th>\n",
       "    </tr>\n",
       "  </thead>\n",
       "  <tbody>\n",
       "    <tr>\n",
       "      <th>0</th>\n",
       "      <td>1000015157.jpg</td>\n",
       "      <td>0</td>\n",
       "    </tr>\n",
       "    <tr>\n",
       "      <th>1</th>\n",
       "      <td>1000201771.jpg</td>\n",
       "      <td>3</td>\n",
       "    </tr>\n",
       "    <tr>\n",
       "      <th>2</th>\n",
       "      <td>100042118.jpg</td>\n",
       "      <td>1</td>\n",
       "    </tr>\n",
       "    <tr>\n",
       "      <th>3</th>\n",
       "      <td>1000723321.jpg</td>\n",
       "      <td>1</td>\n",
       "    </tr>\n",
       "    <tr>\n",
       "      <th>4</th>\n",
       "      <td>1000812911.jpg</td>\n",
       "      <td>3</td>\n",
       "    </tr>\n",
       "  </tbody>\n",
       "</table>\n",
       "</div>"
      ],
      "text/plain": [
       "         image_id  label\n",
       "0  1000015157.jpg      0\n",
       "1  1000201771.jpg      3\n",
       "2   100042118.jpg      1\n",
       "3  1000723321.jpg      1\n",
       "4  1000812911.jpg      3"
      ]
     },
     "execution_count": 3,
     "metadata": {},
     "output_type": "execute_result"
    }
   ],
   "source": [
    "dsDiseases.head()"
   ]
  },
  {
   "cell_type": "markdown",
   "id": "68a859e6",
   "metadata": {
    "papermill": {
     "duration": 0.007402,
     "end_time": "2024-04-15T16:18:47.734482",
     "exception": false,
     "start_time": "2024-04-15T16:18:47.727080",
     "status": "completed"
    },
    "tags": []
   },
   "source": [
    "Para uma visão ampla em relação aos dados, podemos plotar dois gráficos: um gráfico em barras (com a contagem de cada categoria) e um gráfico em pizza (com a porcentagem das categorias).\n",
    "- Contagem e visualização das categorias:\n",
    "    - `value_counts()` é usado para contar o número de ocorrências de cada categoria na coluna 'label' do DataFrame `dsDiseases`.\n",
    "    - Os resultados são armazenados na variável `counts`.\n",
    "    - Um gráfico de barras é criado usando `sns.barplot()` para visualizar a contagem de cada categoria.\n",
    "    - `counts.index` é usado como os valores no eixo x (categorias).\n",
    "    - `counts.values` é usado como os valores no eixo y (contagem).\n",
    "    - O título do gráfico é definido como 'Crop diseases'.\n",
    "    - Os rótulos dos eixos x e y são definidos como 'Categorias' e 'Contagem', respectivamente.\n",
    "    - `plt.show()` é usado para exibir o gráfico."
   ]
  },
  {
   "cell_type": "code",
   "execution_count": 4,
   "id": "adce0e46",
   "metadata": {
    "execution": {
     "iopub.execute_input": "2024-04-15T16:18:47.755815Z",
     "iopub.status.busy": "2024-04-15T16:18:47.754870Z",
     "iopub.status.idle": "2024-04-15T16:18:48.109217Z",
     "shell.execute_reply": "2024-04-15T16:18:48.107632Z"
    },
    "papermill": {
     "duration": 0.371413,
     "end_time": "2024-04-15T16:18:48.113598",
     "exception": false,
     "start_time": "2024-04-15T16:18:47.742185",
     "status": "completed"
    },
    "tags": []
   },
   "outputs": [
    {
     "data": {
      "image/png": "[encoded data removed]",
      "text/plain": [
       "<Figure size 640x480 with 1 Axes>"
      ]
     },
     "metadata": {},
     "output_type": "display_data"
    }
   ],
   "source": [
    "# Contagem das categorias\n",
    "counts = dsDiseases['label'].value_counts()\n",
    "\n",
    "# Plot\n",
    "sns.barplot(x=counts.index, y=counts.values)\n",
    "plt.title('Crop diseases')\n",
    "plt.xlabel('Categorias')\n",
    "plt.ylabel('Contagem')\n",
    "plt.show()\n"
   ]
  },
  {
   "cell_type": "markdown",
   "id": "a1f53e3b",
   "metadata": {
    "papermill": {
     "duration": 0.008017,
     "end_time": "2024-04-15T16:18:48.131140",
     "exception": false,
     "start_time": "2024-04-15T16:18:48.123123",
     "status": "completed"
    },
    "tags": []
   },
   "source": [
    "- Visualização das categorias em um gráfico de pizza:\n",
    "    - `plt.pie()` é usado para criar um gráfico de pizza com as porcentagens de cada categoria.\n",
    "    - `counts` é passado como os dados para o gráfico de pizza.\n",
    "    - `labels=counts.index` é usado para rotular as fatias do gráfico de acordo com as categorias.\n",
    "    - `autopct='%1.1f%%'` formata as porcentagens exibidas em cada fatia.\n",
    "    - `startangle=140` define o ângulo inicial da pizza para uma melhor visualização.\n",
    "    - `plt.title()` define o título do gráfico como 'Crop diseases'.\n",
    "    - `plt.axis('equal')` garante que a pizza seja desenhada como um círculo.\n",
    "    - `plt.show()` é usado para exibir o gráfico de pizza."
   ]
  },
  {
   "cell_type": "code",
   "execution_count": 5,
   "id": "3bde9207",
   "metadata": {
    "execution": {
     "iopub.execute_input": "2024-04-15T16:18:48.150414Z",
     "iopub.status.busy": "2024-04-15T16:18:48.149653Z",
     "iopub.status.idle": "2024-04-15T16:18:48.351647Z",
     "shell.execute_reply": "2024-04-15T16:18:48.349343Z"
    },
    "papermill": {
     "duration": 0.218065,
     "end_time": "2024-04-15T16:18:48.357598",
     "exception": false,
     "start_time": "2024-04-15T16:18:48.139533",
     "status": "completed"
    },
    "tags": []
   },
   "outputs": [
    {
     "data": {
      "image/png": "[encoded data removed]",
      "text/plain": [
       "<Figure size 640x480 with 1 Axes>"
      ]
     },
     "metadata": {},
     "output_type": "display_data"
    }
   ],
   "source": [
    "# Plot\n",
    "plt.pie(counts, labels=counts.index, autopct='%1.1f%%', startangle=140)\n",
    "plt.title('Crop diseases')\n",
    "plt.axis('equal')  # Equal aspect ratio ensures that pie is drawn as a circle.\n",
    "plt.show()"
   ]
  },
  {
   "cell_type": "markdown",
   "id": "e8cbebbc",
   "metadata": {
    "id": "kuE3CzqFV95d",
    "papermill": {
     "duration": 0.0136,
     "end_time": "2024-04-15T16:18:48.391187",
     "exception": false,
     "start_time": "2024-04-15T16:18:48.377587",
     "status": "completed"
    },
    "tags": []
   },
   "source": [
    "# Divisão de treino, teste e validação"
   ]
  },
  {
   "cell_type": "markdown",
   "id": "d2b65272",
   "metadata": {
    "papermill": {
     "duration": 0.00875,
     "end_time": "2024-04-15T16:18:48.408965",
     "exception": false,
     "start_time": "2024-04-15T16:18:48.400215",
     "status": "completed"
    },
    "tags": []
   },
   "source": [
    "Bom, após vizualizarmos ambos os gráficos, percebemos que está desbalanceado, pois a categoria 3 possui 61.5% de amostras, o que é um valor maior do que a soma de todas as outras categorias, isso para um dataset não é bom, por isso vamos para a etapa de Divisão de treino, teste e validação de dados para o nosso dataset."
   ]
  },
  {
   "cell_type": "code",
   "execution_count": null,
   "id": "ed093080",
   "metadata": {
    "papermill": {
     "duration": 0.008522,
     "end_time": "2024-04-15T16:18:48.426401",
     "exception": false,
     "start_time": "2024-04-15T16:18:48.417879",
     "status": "completed"
    },
    "tags": []
   },
   "outputs": [],
   "source": []
  },
  {
   "cell_type": "markdown",
   "id": "623de920",
   "metadata": {
    "id": "J2m4zV-8Vuq7",
    "papermill": {
     "duration": 0.008512,
     "end_time": "2024-04-15T16:18:48.443835",
     "exception": false,
     "start_time": "2024-04-15T16:18:48.435323",
     "status": "completed"
    },
    "tags": []
   },
   "source": [
    "# Tratamento de dados"
   ]
  },
  {
   "cell_type": "code",
   "execution_count": null,
   "id": "415385c9",
   "metadata": {
    "id": "rHsS6frekeL2",
    "papermill": {
     "duration": 0.008595,
     "end_time": "2024-04-15T16:18:48.462514",
     "exception": false,
     "start_time": "2024-04-15T16:18:48.453919",
     "status": "completed"
    },
    "tags": []
   },
   "outputs": [],
   "source": []
  },
  {
   "cell_type": "markdown",
   "id": "2065cfb9",
   "metadata": {
    "id": "I8TC-9g1V4ss",
    "papermill": {
     "duration": 0.008535,
     "end_time": "2024-04-15T16:18:48.480003",
     "exception": false,
     "start_time": "2024-04-15T16:18:48.471468",
     "status": "completed"
    },
    "tags": []
   },
   "source": [
    "# Normalização de dados"
   ]
  },
  {
   "cell_type": "code",
   "execution_count": null,
   "id": "3443ec51",
   "metadata": {
    "id": "YRWH9e9PWCE3",
    "papermill": {
     "duration": 0.008912,
     "end_time": "2024-04-15T16:18:48.498740",
     "exception": false,
     "start_time": "2024-04-15T16:18:48.489828",
     "status": "completed"
    },
    "tags": []
   },
   "outputs": [],
   "source": []
  },
  {
   "cell_type": "markdown",
   "id": "9914dff3",
   "metadata": {
    "id": "LpP2pwcUWCdV",
    "papermill": {
     "duration": 0.008639,
     "end_time": "2024-04-15T16:18:48.516878",
     "exception": false,
     "start_time": "2024-04-15T16:18:48.508239",
     "status": "completed"
    },
    "tags": []
   },
   "source": [
    "# Escolha modelo"
   ]
  },
  {
   "cell_type": "code",
   "execution_count": null,
   "id": "2bcdb015",
   "metadata": {
    "id": "m1_ZQ_c4WEic",
    "papermill": {
     "duration": 0.008581,
     "end_time": "2024-04-15T16:18:48.534517",
     "exception": false,
     "start_time": "2024-04-15T16:18:48.525936",
     "status": "completed"
    },
    "tags": []
   },
   "outputs": [],
   "source": []
  },
  {
   "cell_type": "markdown",
   "id": "b053919f",
   "metadata": {
    "id": "jLoSvRUPWEsO",
    "papermill": {
     "duration": 0.008616,
     "end_time": "2024-04-15T16:18:48.552140",
     "exception": false,
     "start_time": "2024-04-15T16:18:48.543524",
     "status": "completed"
    },
    "tags": []
   },
   "source": [
    "# Treinamento"
   ]
  },
  {
   "cell_type": "code",
   "execution_count": null,
   "id": "883b8008",
   "metadata": {
    "id": "A4iHJbBSWLYb",
    "papermill": {
     "duration": 0.008403,
     "end_time": "2024-04-15T16:18:48.569511",
     "exception": false,
     "start_time": "2024-04-15T16:18:48.561108",
     "status": "completed"
    },
    "tags": []
   },
   "outputs": [],
   "source": []
  },
  {
   "cell_type": "markdown",
   "id": "4c7edc76",
   "metadata": {
    "id": "qDVm0tP8WMi0",
    "papermill": {
     "duration": 0.008622,
     "end_time": "2024-04-15T16:18:48.587017",
     "exception": false,
     "start_time": "2024-04-15T16:18:48.578395",
     "status": "completed"
    },
    "tags": []
   },
   "source": [
    "# Avaliação do modelo"
   ]
  },
  {
   "cell_type": "code",
   "execution_count": null,
   "id": "cc7b8f42",
   "metadata": {
    "id": "JHfw7JcdWwXF",
    "papermill": {
     "duration": 0.008393,
     "end_time": "2024-04-15T16:18:48.604269",
     "exception": false,
     "start_time": "2024-04-15T16:18:48.595876",
     "status": "completed"
    },
    "tags": []
   },
   "outputs": [],
   "source": []
  }
 ],
 "metadata": {
  "colab": {
   "provenance": []
  },
  "kaggle": {
   "accelerator": "none",
   "dataSources": [
    {
     "datasetId": 4561002,
     "sourceId": 7791706,
     "sourceType": "datasetVersion"
    }
   ],
   "dockerImageVersionId": 30684,
   "isGpuEnabled": false,
   "isInternetEnabled": true,
   "language": "python",
   "sourceType": "notebook"
  },
  "kernelspec": {
   "display_name": "Python 3",
   "language": "python",
   "name": "python3"
  },
  "language_info": {
   "codemirror_mode": {
    "name": "ipython",
    "version": 3
   },
   "file_extension": ".py",
   "mimetype": "text/x-python",
   "name": "python",
   "nbconvert_exporter": "python",
   "pygments_lexer": "ipython3",
   "version": "3.10.13"
  },
  "papermill": {
   "default_parameters": {},
   "duration": 8.772905,
   "end_time": "2024-04-15T16:18:49.336441",
   "environment_variables": {},
   "exception": null,
   "input_path": "__notebook__.ipynb",
   "output_path": "__notebook__.ipynb",
   "parameters": {},
   "start_time": "2024-04-15T16:18:40.563536",
   "version": "2.5.0"
  }
 },
 "nbformat": 4,
 "nbformat_minor": 5
}
