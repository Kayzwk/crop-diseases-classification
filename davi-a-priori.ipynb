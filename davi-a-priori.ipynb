{
 "cells": [
  {
   "cell_type": "markdown",
   "id": "b761ce0b",
   "metadata": {
    "id": "oFHwY-6fVqAf",
    "papermill": {
     "duration": 0.009021,
     "end_time": "2024-04-15T20:19:54.140541",
     "exception": false,
     "start_time": "2024-04-15T20:19:54.131520",
     "status": "completed"
    },
    "tags": []
   },
   "source": [
    "# Imports"
   ]
  },
  {
   "cell_type": "markdown",
   "id": "86c91bca",
   "metadata": {
    "papermill": {
     "duration": 0.007869,
     "end_time": "2024-04-15T20:19:54.156729",
     "exception": false,
     "start_time": "2024-04-15T20:19:54.148860",
     "status": "completed"
    },
    "tags": []
   },
   "source": [
    "- Importando as bibliotecas necessárias:\n",
    "    - `pandas` é importado para manipulação de dados.\n",
    "    - `matplotlib.pyplot` é importado para visualização de dados.\n",
    "    - `seaborn` é importado para visualização estatística de dados.\n",
    "    - `train_test_split` é importado de `sklearn.model_selection` para dividir os dados em conjuntos de treinamento e teste."
   ]
  },
  {
   "cell_type": "code",
   "execution_count": 1,
   "id": "52c4a920",
   "metadata": {
    "execution": {
     "iopub.execute_input": "2024-04-15T20:19:54.174509Z",
     "iopub.status.busy": "2024-04-15T20:19:54.174098Z",
     "iopub.status.idle": "2024-04-15T20:19:57.201255Z",
     "shell.execute_reply": "2024-04-15T20:19:57.199872Z"
    },
    "id": "rWs4S6f-VrVz",
    "papermill": {
     "duration": 3.03967,
     "end_time": "2024-04-15T20:19:57.204437",
     "exception": false,
     "start_time": "2024-04-15T20:19:54.164767",
     "status": "completed"
    },
    "tags": []
   },
   "outputs": [],
   "source": [
    "import pandas as pd\n",
    "import matplotlib.pyplot as plt\n",
    "import seaborn as sns\n",
    "from sklearn.model_selection import train_test_split"
   ]
  },
  {
   "cell_type": "markdown",
   "id": "d41f5133",
   "metadata": {
    "id": "dwtfyQFlVrgt",
    "papermill": {
     "duration": 0.008415,
     "end_time": "2024-04-15T20:19:57.221509",
     "exception": false,
     "start_time": "2024-04-15T20:19:57.213094",
     "status": "completed"
    },
    "tags": []
   },
   "source": [
    "# Análise exploratória de dados"
   ]
  },
  {
   "cell_type": "markdown",
   "id": "e97f45f3",
   "metadata": {
    "papermill": {
     "duration": 0.008334,
     "end_time": "2024-04-15T20:19:57.239567",
     "exception": false,
     "start_time": "2024-04-15T20:19:57.231233",
     "status": "completed"
    },
    "tags": []
   },
   "source": [
    "Antes de definir o que iremos fazer sobre os dados, será feito uma análise exploratória inicial. Para isso, vamos entender melhor os dados.\n",
    "- Carregando os dados:\n",
    "    - `pd.read_csv()` é usado para ler o arquivo CSV que contém os dados.\n",
    "    - O caminho para o arquivo CSV é \"/kaggle/input/crop-diseases-classification/Data/train.csv\".\n",
    "    - Os dados são armazenados em um DataFrame chamado `dsDiseases`."
   ]
  },
  {
   "cell_type": "code",
   "execution_count": 2,
   "id": "75c04ca1",
   "metadata": {
    "execution": {
     "iopub.execute_input": "2024-04-15T20:19:57.259014Z",
     "iopub.status.busy": "2024-04-15T20:19:57.258433Z",
     "iopub.status.idle": "2024-04-15T20:19:57.313388Z",
     "shell.execute_reply": "2024-04-15T20:19:57.312417Z"
    },
    "papermill": {
     "duration": 0.067573,
     "end_time": "2024-04-15T20:19:57.315960",
     "exception": false,
     "start_time": "2024-04-15T20:19:57.248387",
     "status": "completed"
    },
    "tags": []
   },
   "outputs": [],
   "source": [
    "dsDiseases = pd.read_csv(\"/kaggle/input/crop-diseases-classification/Data/train.csv\")"
   ]
  },
  {
   "cell_type": "markdown",
   "id": "65157302",
   "metadata": {
    "papermill": {
     "duration": 0.007638,
     "end_time": "2024-04-15T20:19:57.331731",
     "exception": false,
     "start_time": "2024-04-15T20:19:57.324093",
     "status": "completed"
    },
    "tags": []
   },
   "source": [
    "Nessa primeira parte, vamos entender o que é cada coluna:\n",
    "- Examinando as primeiras linhas do DataFrame:\n",
    "    - `head()` é usado para visualizar as primeiras linhas do DataFrame `dsDiseases`.\n",
    "    - Isso ajuda a ter uma ideia inicial da estrutura e dos dados presentes no DataFrame."
   ]
  },
  {
   "cell_type": "code",
   "execution_count": 3,
   "id": "8b9c0c5e",
   "metadata": {
    "execution": {
     "iopub.execute_input": "2024-04-15T20:19:57.349925Z",
     "iopub.status.busy": "2024-04-15T20:19:57.348897Z",
     "iopub.status.idle": "2024-04-15T20:19:57.366748Z",
     "shell.execute_reply": "2024-04-15T20:19:57.365376Z"
    },
    "id": "ytt8k-vgknw8",
    "papermill": {
     "duration": 0.029653,
     "end_time": "2024-04-15T20:19:57.369288",
     "exception": false,
     "start_time": "2024-04-15T20:19:57.339635",
     "status": "completed"
    },
    "tags": []
   },
   "outputs": [
    {
     "data": {
      "text/html": [
       "<div>\n",
       "<style scoped>\n",
       "    .dataframe tbody tr th:only-of-type {\n",
       "        vertical-align: middle;\n",
       "    }\n",
       "\n",
       "    .dataframe tbody tr th {\n",
       "        vertical-align: top;\n",
       "    }\n",
       "\n",
       "    .dataframe thead th {\n",
       "        text-align: right;\n",
       "    }\n",
       "</style>\n",
       "<table border=\"1\" class=\"dataframe\">\n",
       "  <thead>\n",
       "    <tr style=\"text-align: right;\">\n",
       "      <th></th>\n",
       "      <th>image_id</th>\n",
       "      <th>label</th>\n",
       "    </tr>\n",
       "  </thead>\n",
       "  <tbody>\n",
       "    <tr>\n",
       "      <th>0</th>\n",
       "      <td>1000015157.jpg</td>\n",
       "      <td>0</td>\n",
       "    </tr>\n",
       "    <tr>\n",
       "      <th>1</th>\n",
       "      <td>1000201771.jpg</td>\n",
       "      <td>3</td>\n",
       "    </tr>\n",
       "    <tr>\n",
       "      <th>2</th>\n",
       "      <td>100042118.jpg</td>\n",
       "      <td>1</td>\n",
       "    </tr>\n",
       "    <tr>\n",
       "      <th>3</th>\n",
       "      <td>1000723321.jpg</td>\n",
       "      <td>1</td>\n",
       "    </tr>\n",
       "    <tr>\n",
       "      <th>4</th>\n",
       "      <td>1000812911.jpg</td>\n",
       "      <td>3</td>\n",
       "    </tr>\n",
       "  </tbody>\n",
       "</table>\n",
       "</div>"
      ],
      "text/plain": [
       "         image_id  label\n",
       "0  1000015157.jpg      0\n",
       "1  1000201771.jpg      3\n",
       "2   100042118.jpg      1\n",
       "3  1000723321.jpg      1\n",
       "4  1000812911.jpg      3"
      ]
     },
     "execution_count": 3,
     "metadata": {},
     "output_type": "execute_result"
    }
   ],
   "source": [
    "dsDiseases.head()"
   ]
  },
  {
   "cell_type": "markdown",
   "id": "1936537c",
   "metadata": {
    "papermill": {
     "duration": 0.00784,
     "end_time": "2024-04-15T20:19:57.385423",
     "exception": false,
     "start_time": "2024-04-15T20:19:57.377583",
     "status": "completed"
    },
    "tags": []
   },
   "source": [
    "Para uma visão ampla em relação aos dados, podemos plotar dois gráficos: um gráfico em barras (com a contagem de cada categoria) e um gráfico em pizza (com a porcentagem das categorias).\n",
    "- Contagem e visualização das categorias:\n",
    "    - `value_counts()` é usado para contar o número de ocorrências de cada categoria na coluna 'label' do DataFrame `dsDiseases`.\n",
    "    - Os resultados são armazenados na variável `counts`.\n",
    "    - Um gráfico de barras é criado usando `sns.barplot()` para visualizar a contagem de cada categoria.\n",
    "    - `counts.index` é usado como os valores no eixo x (categorias).\n",
    "    - `counts.values` é usado como os valores no eixo y (contagem).\n",
    "    - O título do gráfico é definido como 'Crop diseases'.\n",
    "    - Os rótulos dos eixos x e y são definidos como 'Categorias' e 'Contagem', respectivamente.\n",
    "    - `plt.show()` é usado para exibir o gráfico."
   ]
  },
  {
   "cell_type": "code",
   "execution_count": 4,
   "id": "3dd9ec4f",
   "metadata": {
    "execution": {
     "iopub.execute_input": "2024-04-15T20:19:57.404947Z",
     "iopub.status.busy": "2024-04-15T20:19:57.404496Z",
     "iopub.status.idle": "2024-04-15T20:19:57.736287Z",
     "shell.execute_reply": "2024-04-15T20:19:57.734834Z"
    },
    "papermill": {
     "duration": 0.344392,
     "end_time": "2024-04-15T20:19:57.739071",
     "exception": false,
     "start_time": "2024-04-15T20:19:57.394679",
     "status": "completed"
    },
    "tags": []
   },
   "outputs": [
    {
     "data": {
      "image/png": "[encoded data removed]",
      "text/plain": [
       "<Figure size 640x480 with 1 Axes>"
      ]
     },
     "metadata": {},
     "output_type": "display_data"
    }
   ],
   "source": [
    "# Contagem das categorias\n",
    "counts = dsDiseases['label'].value_counts()\n",
    "\n",
    "# Plot\n",
    "sns.barplot(x=counts.index, y=counts.values)\n",
    "plt.title('Contagem de categorias')\n",
    "plt.xlabel('Categorias')\n",
    "plt.ylabel('Contagem')\n",
    "plt.show()"
   ]
  },
  {
   "cell_type": "markdown",
   "id": "346cca43",
   "metadata": {
    "papermill": {
     "duration": 0.008601,
     "end_time": "2024-04-15T20:19:57.756560",
     "exception": false,
     "start_time": "2024-04-15T20:19:57.747959",
     "status": "completed"
    },
    "tags": []
   },
   "source": [
    "- Visualização das categorias em um gráfico de pizza:\n",
    "    - `plt.pie()` é usado para criar um gráfico de pizza com as porcentagens de cada categoria.\n",
    "    - `counts` é passado como os dados para o gráfico de pizza.\n",
    "    - `labels=counts.index` é usado para rotular as fatias do gráfico de acordo com as categorias.\n",
    "    - `autopct='%1.1f%%'` formata as porcentagens exibidas em cada fatia.\n",
    "    - `startangle=140` define o ângulo inicial da pizza para uma melhor visualização.\n",
    "    - `plt.title()` define o título do gráfico como 'Crop diseases'.\n",
    "    - `plt.axis('equal')` garante que a pizza seja desenhada como um círculo.\n",
    "    - `plt.show()` é usado para exibir o gráfico de pizza."
   ]
  },
  {
   "cell_type": "code",
   "execution_count": 5,
   "id": "416cf25e",
   "metadata": {
    "execution": {
     "iopub.execute_input": "2024-04-15T20:19:57.776206Z",
     "iopub.status.busy": "2024-04-15T20:19:57.775760Z",
     "iopub.status.idle": "2024-04-15T20:19:57.968877Z",
     "shell.execute_reply": "2024-04-15T20:19:57.967193Z"
    },
    "papermill": {
     "duration": 0.208755,
     "end_time": "2024-04-15T20:19:57.974043",
     "exception": false,
     "start_time": "2024-04-15T20:19:57.765288",
     "status": "completed"
    },
    "tags": []
   },
   "outputs": [
    {
     "data": {
      "image/png": "[encoded data removed]",
      "text/plain": [
       "<Figure size 640x480 with 1 Axes>"
      ]
     },
     "metadata": {},
     "output_type": "display_data"
    }
   ],
   "source": [
    "# Plot\n",
    "plt.pie(counts, labels=counts.index, autopct='%1.1f%%', startangle=140)\n",
    "plt.title('Crop diseases')\n",
    "plt.axis('equal')  # Equal aspect ratio ensures that pie is drawn as a circle.\n",
    "plt.show()"
   ]
  },
  {
   "cell_type": "markdown",
   "id": "aa176deb",
   "metadata": {
    "id": "kuE3CzqFV95d",
    "papermill": {
     "duration": 0.016129,
     "end_time": "2024-04-15T20:19:58.015115",
     "exception": false,
     "start_time": "2024-04-15T20:19:57.998986",
     "status": "completed"
    },
    "tags": []
   },
   "source": [
    "# Divisão de treino, teste e validação"
   ]
  },
  {
   "cell_type": "markdown",
   "id": "890d3cb1",
   "metadata": {
    "papermill": {
     "duration": 0.009249,
     "end_time": "2024-04-15T20:19:58.033877",
     "exception": false,
     "start_time": "2024-04-15T20:19:58.024628",
     "status": "completed"
    },
    "tags": []
   },
   "source": [
    "Bom, após vizualizarmos ambos os gráficos, percebemos que está desbalanceado, pois a categoria 3 possui 61.5% de amostras, o que é um valor maior do que a soma de todas as outras categorias, isso para um dataset não é bom, por isso vamos para a etapa de Divisão de treino, teste e validação de dados para o nosso dataset."
   ]
  },
  {
   "cell_type": "code",
   "execution_count": 6,
   "id": "18aee60f",
   "metadata": {
    "execution": {
     "iopub.execute_input": "2024-04-15T20:19:58.055897Z",
     "iopub.status.busy": "2024-04-15T20:19:58.054420Z",
     "iopub.status.idle": "2024-04-15T20:19:58.078555Z",
     "shell.execute_reply": "2024-04-15T20:19:58.077136Z"
    },
    "papermill": {
     "duration": 0.037714,
     "end_time": "2024-04-15T20:19:58.081306",
     "exception": false,
     "start_time": "2024-04-15T20:19:58.043592",
     "status": "completed"
    },
    "tags": []
   },
   "outputs": [],
   "source": [
    "# Divisão dos dados em conjuntos de treinamento e teste, mantendo as amostras proporcionais\n",
    "train_data, test_data = train_test_split(dsDiseases, test_size=0.2, random_state=42, stratify=dsDiseases['label'])"
   ]
  },
  {
   "cell_type": "code",
   "execution_count": 7,
   "id": "c872e14e",
   "metadata": {
    "execution": {
     "iopub.execute_input": "2024-04-15T20:19:58.102254Z",
     "iopub.status.busy": "2024-04-15T20:19:58.101766Z",
     "iopub.status.idle": "2024-04-15T20:19:58.377109Z",
     "shell.execute_reply": "2024-04-15T20:19:58.375938Z"
    },
    "papermill": {
     "duration": 0.288439,
     "end_time": "2024-04-15T20:19:58.379567",
     "exception": false,
     "start_time": "2024-04-15T20:19:58.091128",
     "status": "completed"
    },
    "tags": []
   },
   "outputs": [
    {
     "data": {
      "image/png": "[encoded data removed]",
      "text/plain": [
       "<Figure size 640x480 with 1 Axes>"
      ]
     },
     "metadata": {},
     "output_type": "display_data"
    }
   ],
   "source": [
    "# Plot dos dados de treinamento\n",
    "sns.barplot(x=train_data['label'].value_counts().index, y=train_data['label'].value_counts().values)\n",
    "plt.title('Contagem de Categorias - Conjunto de Treinamento')\n",
    "plt.xlabel('Categorias')\n",
    "plt.ylabel('Contagem')\n",
    "plt.show()"
   ]
  },
  {
   "cell_type": "code",
   "execution_count": 8,
   "id": "c2f34ab9",
   "metadata": {
    "execution": {
     "iopub.execute_input": "2024-04-15T20:19:58.401574Z",
     "iopub.status.busy": "2024-04-15T20:19:58.401139Z",
     "iopub.status.idle": "2024-04-15T20:19:58.685642Z",
     "shell.execute_reply": "2024-04-15T20:19:58.684465Z"
    },
    "papermill": {
     "duration": 0.298659,
     "end_time": "2024-04-15T20:19:58.688390",
     "exception": false,
     "start_time": "2024-04-15T20:19:58.389731",
     "status": "completed"
    },
    "tags": []
   },
   "outputs": [
    {
     "data": {
      "image/png": "[encoded data removed]",
      "text/plain": [
       "<Figure size 640x480 with 1 Axes>"
      ]
     },
     "metadata": {},
     "output_type": "display_data"
    }
   ],
   "source": [
    "# Plot dos dados de teste\n",
    "sns.barplot(x=test_data['label'].value_counts().index, y=test_data['label'].value_counts().values)\n",
    "plt.title('Contagem de Categorias - Conjunto de Teste')\n",
    "plt.xlabel('Categorias')\n",
    "plt.ylabel('Contagem')\n",
    "plt.show()"
   ]
  },
  {
   "cell_type": "markdown",
   "id": "f1793c96",
   "metadata": {
    "id": "J2m4zV-8Vuq7",
    "papermill": {
     "duration": 0.009947,
     "end_time": "2024-04-15T20:19:58.708619",
     "exception": false,
     "start_time": "2024-04-15T20:19:58.698672",
     "status": "completed"
    },
    "tags": []
   },
   "source": [
    "# Tratamento de dados"
   ]
  },
  {
   "cell_type": "markdown",
   "id": "c3fd4a9c",
   "metadata": {
    "papermill": {
     "duration": 0.010916,
     "end_time": "2024-04-15T20:19:58.730223",
     "exception": false,
     "start_time": "2024-04-15T20:19:58.719307",
     "status": "completed"
    },
    "tags": []
   },
   "source": [
    "Técnicas de pré processamento acontecem dentro do dataset, antes de passar para o modelo, para que o dataset fique balanceado e tanto ele quanto o resultado seja justo.\n",
    "\n",
    "Task:\n",
    "Objetivo: Deixar todas as classes com a mesma quantidade. Aqui iremos deixar todas com o mesmo valor da classe 2, por ser a mediana.\n",
    "\n",
    "- Classe 3 e 4: Recorte de dataset\n",
    "    Será eliminado, de maneira aleatória, (classe3 - classe2) quantidades\n",
    "    Motivo: Para diminuir a quantidade\n",
    "- Classes 0 e 1: Data augmentation\n",
    "    Motivo: Todas essas duas classes possuem uma amostragem muito menor. Sendo assim, iremos aumentar, através de técnicas de rotação e iluminação, os dados dessas classes. Com isso, teremos a mesma quantidade de dados da classe 2"
   ]
  },
  {
   "cell_type": "code",
   "execution_count": null,
   "id": "0ee41b41",
   "metadata": {
    "id": "rHsS6frekeL2",
    "papermill": {
     "duration": 0.01034,
     "end_time": "2024-04-15T20:19:58.751311",
     "exception": false,
     "start_time": "2024-04-15T20:19:58.740971",
     "status": "completed"
    },
    "tags": []
   },
   "outputs": [],
   "source": []
  },
  {
   "cell_type": "markdown",
   "id": "7e1a4958",
   "metadata": {
    "id": "I8TC-9g1V4ss",
    "papermill": {
     "duration": 0.010159,
     "end_time": "2024-04-15T20:19:58.771803",
     "exception": false,
     "start_time": "2024-04-15T20:19:58.761644",
     "status": "completed"
    },
    "tags": []
   },
   "source": [
    "# Normalização de dados"
   ]
  },
  {
   "cell_type": "code",
   "execution_count": null,
   "id": "6a5fdb9f",
   "metadata": {
    "id": "YRWH9e9PWCE3",
    "papermill": {
     "duration": 0.009965,
     "end_time": "2024-04-15T20:19:58.791960",
     "exception": false,
     "start_time": "2024-04-15T20:19:58.781995",
     "status": "completed"
    },
    "tags": []
   },
   "outputs": [],
   "source": []
  },
  {
   "cell_type": "markdown",
   "id": "f7a33280",
   "metadata": {
    "id": "LpP2pwcUWCdV",
    "papermill": {
     "duration": 0.010302,
     "end_time": "2024-04-15T20:19:58.812450",
     "exception": false,
     "start_time": "2024-04-15T20:19:58.802148",
     "status": "completed"
    },
    "tags": []
   },
   "source": [
    "# Escolha modelo"
   ]
  },
  {
   "cell_type": "code",
   "execution_count": null,
   "id": "a5c084eb",
   "metadata": {
    "id": "m1_ZQ_c4WEic",
    "papermill": {
     "duration": 0.010206,
     "end_time": "2024-04-15T20:19:58.832959",
     "exception": false,
     "start_time": "2024-04-15T20:19:58.822753",
     "status": "completed"
    },
    "tags": []
   },
   "outputs": [],
   "source": []
  },
  {
   "cell_type": "markdown",
   "id": "6e0b60ca",
   "metadata": {
    "id": "jLoSvRUPWEsO",
    "papermill": {
     "duration": 0.009956,
     "end_time": "2024-04-15T20:19:58.853012",
     "exception": false,
     "start_time": "2024-04-15T20:19:58.843056",
     "status": "completed"
    },
    "tags": []
   },
   "source": [
    "# Treinamento"
   ]
  },
  {
   "cell_type": "code",
   "execution_count": null,
   "id": "995e6f9e",
   "metadata": {
    "id": "A4iHJbBSWLYb",
    "papermill": {
     "duration": 0.009871,
     "end_time": "2024-04-15T20:19:58.873377",
     "exception": false,
     "start_time": "2024-04-15T20:19:58.863506",
     "status": "completed"
    },
    "tags": []
   },
   "outputs": [],
   "source": []
  },
  {
   "cell_type": "markdown",
   "id": "2aa07dd7",
   "metadata": {
    "id": "qDVm0tP8WMi0",
    "papermill": {
     "duration": 0.010057,
     "end_time": "2024-04-15T20:19:58.893801",
     "exception": false,
     "start_time": "2024-04-15T20:19:58.883744",
     "status": "completed"
    },
    "tags": []
   },
   "source": [
    "# Avaliação do modelo"
   ]
  },
  {
   "cell_type": "code",
   "execution_count": null,
   "id": "92a45b72",
   "metadata": {
    "id": "JHfw7JcdWwXF",
    "papermill": {
     "duration": 0.009932,
     "end_time": "2024-04-15T20:19:58.913968",
     "exception": false,
     "start_time": "2024-04-15T20:19:58.904036",
     "status": "completed"
    },
    "tags": []
   },
   "outputs": [],
   "source": []
  }
 ],
 "metadata": {
  "colab": {
   "provenance": []
  },
  "kaggle": {
   "accelerator": "none",
   "dataSources": [
    {
     "datasetId": 4561002,
     "sourceId": 7791706,
     "sourceType": "datasetVersion"
    }
   ],
   "dockerImageVersionId": 30684,
   "isGpuEnabled": false,
   "isInternetEnabled": true,
   "language": "python",
   "sourceType": "notebook"
  },
  "kernelspec": {
   "display_name": "Python 3",
   "language": "python",
   "name": "python3"
  },
  "language_info": {
   "codemirror_mode": {
    "name": "ipython",
    "version": 3
   },
   "file_extension": ".py",
   "mimetype": "text/x-python",
   "name": "python",
   "nbconvert_exporter": "python",
   "pygments_lexer": "ipython3",
   "version": "3.10.13"
  },
  "papermill": {
   "default_parameters": {},
   "duration": 8.591702,
   "end_time": "2024-04-15T20:19:59.545091",
   "environment_variables": {},
   "exception": null,
   "input_path": "__notebook__.ipynb",
   "output_path": "__notebook__.ipynb",
   "parameters": {},
   "start_time": "2024-04-15T20:19:50.953389",
   "version": "2.5.0"
  }
 },
 "nbformat": 4,
 "nbformat_minor": 5
}
